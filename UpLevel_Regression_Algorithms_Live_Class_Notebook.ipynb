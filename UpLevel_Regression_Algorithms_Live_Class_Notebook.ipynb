{
  "nbformat": 4,
  "nbformat_minor": 0,
  "metadata": {
    "colab": {
      "provenance": [],
      "include_colab_link": true
    },
    "kernelspec": {
      "name": "python3",
      "display_name": "Python 3"
    },
    "language_info": {
      "name": "python"
    },
    "gpuClass": "standard"
  },
  "cells": [
    {
      "cell_type": "markdown",
      "metadata": {
        "id": "view-in-github",
        "colab_type": "text"
      },
      "source": [
        "<a href=\"https://colab.research.google.com/github/apmsm3637/Python-Basic-Samples/blob/main/UpLevel_Regression_Algorithms_Live_Class_Notebook.ipynb\" target=\"_parent\"><img src=\"https://colab.research.google.com/assets/colab-badge.svg\" alt=\"Open In Colab\"/></a>"
      ]
    },
    {
      "cell_type": "markdown",
      "source": [
        "# Simple Linear Regression on Salary Data\n",
        "\n",
        "---\n",
        "\n",
        "\n",
        "\n",
        "**Dataset:** [Salary_Data.csv](https://drive.google.com/file/d/1yPpWIq-Zb-8FB268QkJskGDNTSlVI4cK/view?usp=sharing)\n",
        "\n",
        "This dataset, titled Salary_Data.csv, contains information on the relationship between the number of years of experience and the corresponding salary of individuals. The dataset consists of 30 observations and two variables:\n",
        "\n",
        "`YearsExperience`: This column represents the number of years of professional experience an individual has.\n",
        "\n",
        "`Salary`: This column represents the annual salary of the individual in dollars."
      ],
      "metadata": {
        "id": "Z8Fmq_mhT3D6"
      }
    },
    {
      "cell_type": "code",
      "source": [
        "import numpy as np\n",
        "import pandas as pd"
      ],
      "metadata": {
        "id": "aWZKjSenVwTo"
      },
      "execution_count": 4,
      "outputs": []
    },
    {
      "cell_type": "code",
      "source": [
        "from google.colab import files\n",
        "\n",
        "uploaded = files.upload()"
      ],
      "metadata": {
        "colab": {
          "base_uri": "https://localhost:8080/",
          "height": 73
        },
        "id": "NkhXZs80V3X4",
        "outputId": "6d82e85c-b17c-4d6e-cbe4-dcc6cc5cd91c"
      },
      "execution_count": 2,
      "outputs": [
        {
          "output_type": "display_data",
          "data": {
            "text/plain": [
              "<IPython.core.display.HTML object>"
            ],
            "text/html": [
              "\n",
              "     <input type=\"file\" id=\"files-7cb582c4-d7f5-4504-b145-7842c5485e81\" name=\"files[]\" multiple disabled\n",
              "        style=\"border:none\" />\n",
              "     <output id=\"result-7cb582c4-d7f5-4504-b145-7842c5485e81\">\n",
              "      Upload widget is only available when the cell has been executed in the\n",
              "      current browser session. Please rerun this cell to enable.\n",
              "      </output>\n",
              "      <script>// Copyright 2017 Google LLC\n",
              "//\n",
              "// Licensed under the Apache License, Version 2.0 (the \"License\");\n",
              "// you may not use this file except in compliance with the License.\n",
              "// You may obtain a copy of the License at\n",
              "//\n",
              "//      http://www.apache.org/licenses/LICENSE-2.0\n",
              "//\n",
              "// Unless required by applicable law or agreed to in writing, software\n",
              "// distributed under the License is distributed on an \"AS IS\" BASIS,\n",
              "// WITHOUT WARRANTIES OR CONDITIONS OF ANY KIND, either express or implied.\n",
              "// See the License for the specific language governing permissions and\n",
              "// limitations under the License.\n",
              "\n",
              "/**\n",
              " * @fileoverview Helpers for google.colab Python module.\n",
              " */\n",
              "(function(scope) {\n",
              "function span(text, styleAttributes = {}) {\n",
              "  const element = document.createElement('span');\n",
              "  element.textContent = text;\n",
              "  for (const key of Object.keys(styleAttributes)) {\n",
              "    element.style[key] = styleAttributes[key];\n",
              "  }\n",
              "  return element;\n",
              "}\n",
              "\n",
              "// Max number of bytes which will be uploaded at a time.\n",
              "const MAX_PAYLOAD_SIZE = 100 * 1024;\n",
              "\n",
              "function _uploadFiles(inputId, outputId) {\n",
              "  const steps = uploadFilesStep(inputId, outputId);\n",
              "  const outputElement = document.getElementById(outputId);\n",
              "  // Cache steps on the outputElement to make it available for the next call\n",
              "  // to uploadFilesContinue from Python.\n",
              "  outputElement.steps = steps;\n",
              "\n",
              "  return _uploadFilesContinue(outputId);\n",
              "}\n",
              "\n",
              "// This is roughly an async generator (not supported in the browser yet),\n",
              "// where there are multiple asynchronous steps and the Python side is going\n",
              "// to poll for completion of each step.\n",
              "// This uses a Promise to block the python side on completion of each step,\n",
              "// then passes the result of the previous step as the input to the next step.\n",
              "function _uploadFilesContinue(outputId) {\n",
              "  const outputElement = document.getElementById(outputId);\n",
              "  const steps = outputElement.steps;\n",
              "\n",
              "  const next = steps.next(outputElement.lastPromiseValue);\n",
              "  return Promise.resolve(next.value.promise).then((value) => {\n",
              "    // Cache the last promise value to make it available to the next\n",
              "    // step of the generator.\n",
              "    outputElement.lastPromiseValue = value;\n",
              "    return next.value.response;\n",
              "  });\n",
              "}\n",
              "\n",
              "/**\n",
              " * Generator function which is called between each async step of the upload\n",
              " * process.\n",
              " * @param {string} inputId Element ID of the input file picker element.\n",
              " * @param {string} outputId Element ID of the output display.\n",
              " * @return {!Iterable<!Object>} Iterable of next steps.\n",
              " */\n",
              "function* uploadFilesStep(inputId, outputId) {\n",
              "  const inputElement = document.getElementById(inputId);\n",
              "  inputElement.disabled = false;\n",
              "\n",
              "  const outputElement = document.getElementById(outputId);\n",
              "  outputElement.innerHTML = '';\n",
              "\n",
              "  const pickedPromise = new Promise((resolve) => {\n",
              "    inputElement.addEventListener('change', (e) => {\n",
              "      resolve(e.target.files);\n",
              "    });\n",
              "  });\n",
              "\n",
              "  const cancel = document.createElement('button');\n",
              "  inputElement.parentElement.appendChild(cancel);\n",
              "  cancel.textContent = 'Cancel upload';\n",
              "  const cancelPromise = new Promise((resolve) => {\n",
              "    cancel.onclick = () => {\n",
              "      resolve(null);\n",
              "    };\n",
              "  });\n",
              "\n",
              "  // Wait for the user to pick the files.\n",
              "  const files = yield {\n",
              "    promise: Promise.race([pickedPromise, cancelPromise]),\n",
              "    response: {\n",
              "      action: 'starting',\n",
              "    }\n",
              "  };\n",
              "\n",
              "  cancel.remove();\n",
              "\n",
              "  // Disable the input element since further picks are not allowed.\n",
              "  inputElement.disabled = true;\n",
              "\n",
              "  if (!files) {\n",
              "    return {\n",
              "      response: {\n",
              "        action: 'complete',\n",
              "      }\n",
              "    };\n",
              "  }\n",
              "\n",
              "  for (const file of files) {\n",
              "    const li = document.createElement('li');\n",
              "    li.append(span(file.name, {fontWeight: 'bold'}));\n",
              "    li.append(span(\n",
              "        `(${file.type || 'n/a'}) - ${file.size} bytes, ` +\n",
              "        `last modified: ${\n",
              "            file.lastModifiedDate ? file.lastModifiedDate.toLocaleDateString() :\n",
              "                                    'n/a'} - `));\n",
              "    const percent = span('0% done');\n",
              "    li.appendChild(percent);\n",
              "\n",
              "    outputElement.appendChild(li);\n",
              "\n",
              "    const fileDataPromise = new Promise((resolve) => {\n",
              "      const reader = new FileReader();\n",
              "      reader.onload = (e) => {\n",
              "        resolve(e.target.result);\n",
              "      };\n",
              "      reader.readAsArrayBuffer(file);\n",
              "    });\n",
              "    // Wait for the data to be ready.\n",
              "    let fileData = yield {\n",
              "      promise: fileDataPromise,\n",
              "      response: {\n",
              "        action: 'continue',\n",
              "      }\n",
              "    };\n",
              "\n",
              "    // Use a chunked sending to avoid message size limits. See b/62115660.\n",
              "    let position = 0;\n",
              "    do {\n",
              "      const length = Math.min(fileData.byteLength - position, MAX_PAYLOAD_SIZE);\n",
              "      const chunk = new Uint8Array(fileData, position, length);\n",
              "      position += length;\n",
              "\n",
              "      const base64 = btoa(String.fromCharCode.apply(null, chunk));\n",
              "      yield {\n",
              "        response: {\n",
              "          action: 'append',\n",
              "          file: file.name,\n",
              "          data: base64,\n",
              "        },\n",
              "      };\n",
              "\n",
              "      let percentDone = fileData.byteLength === 0 ?\n",
              "          100 :\n",
              "          Math.round((position / fileData.byteLength) * 100);\n",
              "      percent.textContent = `${percentDone}% done`;\n",
              "\n",
              "    } while (position < fileData.byteLength);\n",
              "  }\n",
              "\n",
              "  // All done.\n",
              "  yield {\n",
              "    response: {\n",
              "      action: 'complete',\n",
              "    }\n",
              "  };\n",
              "}\n",
              "\n",
              "scope.google = scope.google || {};\n",
              "scope.google.colab = scope.google.colab || {};\n",
              "scope.google.colab._files = {\n",
              "  _uploadFiles,\n",
              "  _uploadFilesContinue,\n",
              "};\n",
              "})(self);\n",
              "</script> "
            ]
          },
          "metadata": {}
        },
        {
          "output_type": "stream",
          "name": "stdout",
          "text": [
            "Saving Salary_Data.csv to Salary_Data (1).csv\n"
          ]
        }
      ]
    },
    {
      "cell_type": "code",
      "source": [
        "df = pd.read_csv('Salary_Data.csv')"
      ],
      "metadata": {
        "id": "_gStpsW6WR0V"
      },
      "execution_count": 5,
      "outputs": []
    },
    {
      "cell_type": "code",
      "source": [
        "X = df['YearsExperience'].values.reshape(-1,1) # input  # X is Independent Variable # rehape based on what Scikit learn expect and manage variable around\n",
        "y = df['Salary'].values.reshape(-1,1) # output   # Y is dependent variable\n",
        "df.head()"
      ],
      "metadata": {
        "colab": {
          "base_uri": "https://localhost:8080/",
          "height": 206
        },
        "id": "YRNH8vLbWGLW",
        "outputId": "14dd8164-29d0-46e2-c1bf-ca1d677736dd"
      },
      "execution_count": null,
      "outputs": [
        {
          "output_type": "execute_result",
          "data": {
            "text/plain": [
              "   YearsExperience   Salary\n",
              "0              1.1  39343.0\n",
              "1              1.3  46205.0\n",
              "2              1.5  37731.0\n",
              "3              2.0  43525.0\n",
              "4              2.2  39891.0"
            ],
            "text/html": [
              "\n",
              "  <div id=\"df-a4780cdc-88c5-4e0c-ad32-0c3d096681e4\" class=\"colab-df-container\">\n",
              "    <div>\n",
              "<style scoped>\n",
              "    .dataframe tbody tr th:only-of-type {\n",
              "        vertical-align: middle;\n",
              "    }\n",
              "\n",
              "    .dataframe tbody tr th {\n",
              "        vertical-align: top;\n",
              "    }\n",
              "\n",
              "    .dataframe thead th {\n",
              "        text-align: right;\n",
              "    }\n",
              "</style>\n",
              "<table border=\"1\" class=\"dataframe\">\n",
              "  <thead>\n",
              "    <tr style=\"text-align: right;\">\n",
              "      <th></th>\n",
              "      <th>YearsExperience</th>\n",
              "      <th>Salary</th>\n",
              "    </tr>\n",
              "  </thead>\n",
              "  <tbody>\n",
              "    <tr>\n",
              "      <th>0</th>\n",
              "      <td>1.1</td>\n",
              "      <td>39343.0</td>\n",
              "    </tr>\n",
              "    <tr>\n",
              "      <th>1</th>\n",
              "      <td>1.3</td>\n",
              "      <td>46205.0</td>\n",
              "    </tr>\n",
              "    <tr>\n",
              "      <th>2</th>\n",
              "      <td>1.5</td>\n",
              "      <td>37731.0</td>\n",
              "    </tr>\n",
              "    <tr>\n",
              "      <th>3</th>\n",
              "      <td>2.0</td>\n",
              "      <td>43525.0</td>\n",
              "    </tr>\n",
              "    <tr>\n",
              "      <th>4</th>\n",
              "      <td>2.2</td>\n",
              "      <td>39891.0</td>\n",
              "    </tr>\n",
              "  </tbody>\n",
              "</table>\n",
              "</div>\n",
              "    <div class=\"colab-df-buttons\">\n",
              "\n",
              "  <div class=\"colab-df-container\">\n",
              "    <button class=\"colab-df-convert\" onclick=\"convertToInteractive('df-a4780cdc-88c5-4e0c-ad32-0c3d096681e4')\"\n",
              "            title=\"Convert this dataframe to an interactive table.\"\n",
              "            style=\"display:none;\">\n",
              "\n",
              "  <svg xmlns=\"http://www.w3.org/2000/svg\" height=\"24px\" viewBox=\"0 -960 960 960\">\n",
              "    <path d=\"M120-120v-720h720v720H120Zm60-500h600v-160H180v160Zm220 220h160v-160H400v160Zm0 220h160v-160H400v160ZM180-400h160v-160H180v160Zm440 0h160v-160H620v160ZM180-180h160v-160H180v160Zm440 0h160v-160H620v160Z\"/>\n",
              "  </svg>\n",
              "    </button>\n",
              "\n",
              "  <style>\n",
              "    .colab-df-container {\n",
              "      display:flex;\n",
              "      gap: 12px;\n",
              "    }\n",
              "\n",
              "    .colab-df-convert {\n",
              "      background-color: #E8F0FE;\n",
              "      border: none;\n",
              "      border-radius: 50%;\n",
              "      cursor: pointer;\n",
              "      display: none;\n",
              "      fill: #1967D2;\n",
              "      height: 32px;\n",
              "      padding: 0 0 0 0;\n",
              "      width: 32px;\n",
              "    }\n",
              "\n",
              "    .colab-df-convert:hover {\n",
              "      background-color: #E2EBFA;\n",
              "      box-shadow: 0px 1px 2px rgba(60, 64, 67, 0.3), 0px 1px 3px 1px rgba(60, 64, 67, 0.15);\n",
              "      fill: #174EA6;\n",
              "    }\n",
              "\n",
              "    .colab-df-buttons div {\n",
              "      margin-bottom: 4px;\n",
              "    }\n",
              "\n",
              "    [theme=dark] .colab-df-convert {\n",
              "      background-color: #3B4455;\n",
              "      fill: #D2E3FC;\n",
              "    }\n",
              "\n",
              "    [theme=dark] .colab-df-convert:hover {\n",
              "      background-color: #434B5C;\n",
              "      box-shadow: 0px 1px 3px 1px rgba(0, 0, 0, 0.15);\n",
              "      filter: drop-shadow(0px 1px 2px rgba(0, 0, 0, 0.3));\n",
              "      fill: #FFFFFF;\n",
              "    }\n",
              "  </style>\n",
              "\n",
              "    <script>\n",
              "      const buttonEl =\n",
              "        document.querySelector('#df-a4780cdc-88c5-4e0c-ad32-0c3d096681e4 button.colab-df-convert');\n",
              "      buttonEl.style.display =\n",
              "        google.colab.kernel.accessAllowed ? 'block' : 'none';\n",
              "\n",
              "      async function convertToInteractive(key) {\n",
              "        const element = document.querySelector('#df-a4780cdc-88c5-4e0c-ad32-0c3d096681e4');\n",
              "        const dataTable =\n",
              "          await google.colab.kernel.invokeFunction('convertToInteractive',\n",
              "                                                    [key], {});\n",
              "        if (!dataTable) return;\n",
              "\n",
              "        const docLinkHtml = 'Like what you see? Visit the ' +\n",
              "          '<a target=\"_blank\" href=https://colab.research.google.com/notebooks/data_table.ipynb>data table notebook</a>'\n",
              "          + ' to learn more about interactive tables.';\n",
              "        element.innerHTML = '';\n",
              "        dataTable['output_type'] = 'display_data';\n",
              "        await google.colab.output.renderOutput(dataTable, element);\n",
              "        const docLink = document.createElement('div');\n",
              "        docLink.innerHTML = docLinkHtml;\n",
              "        element.appendChild(docLink);\n",
              "      }\n",
              "    </script>\n",
              "  </div>\n",
              "\n",
              "\n",
              "<div id=\"df-0c988b28-4559-42bf-b871-f62b2b6d27ee\">\n",
              "  <button class=\"colab-df-quickchart\" onclick=\"quickchart('df-0c988b28-4559-42bf-b871-f62b2b6d27ee')\"\n",
              "            title=\"Suggest charts\"\n",
              "            style=\"display:none;\">\n",
              "\n",
              "<svg xmlns=\"http://www.w3.org/2000/svg\" height=\"24px\"viewBox=\"0 0 24 24\"\n",
              "     width=\"24px\">\n",
              "    <g>\n",
              "        <path d=\"M19 3H5c-1.1 0-2 .9-2 2v14c0 1.1.9 2 2 2h14c1.1 0 2-.9 2-2V5c0-1.1-.9-2-2-2zM9 17H7v-7h2v7zm4 0h-2V7h2v10zm4 0h-2v-4h2v4z\"/>\n",
              "    </g>\n",
              "</svg>\n",
              "  </button>\n",
              "\n",
              "<style>\n",
              "  .colab-df-quickchart {\n",
              "      --bg-color: #E8F0FE;\n",
              "      --fill-color: #1967D2;\n",
              "      --hover-bg-color: #E2EBFA;\n",
              "      --hover-fill-color: #174EA6;\n",
              "      --disabled-fill-color: #AAA;\n",
              "      --disabled-bg-color: #DDD;\n",
              "  }\n",
              "\n",
              "  [theme=dark] .colab-df-quickchart {\n",
              "      --bg-color: #3B4455;\n",
              "      --fill-color: #D2E3FC;\n",
              "      --hover-bg-color: #434B5C;\n",
              "      --hover-fill-color: #FFFFFF;\n",
              "      --disabled-bg-color: #3B4455;\n",
              "      --disabled-fill-color: #666;\n",
              "  }\n",
              "\n",
              "  .colab-df-quickchart {\n",
              "    background-color: var(--bg-color);\n",
              "    border: none;\n",
              "    border-radius: 50%;\n",
              "    cursor: pointer;\n",
              "    display: none;\n",
              "    fill: var(--fill-color);\n",
              "    height: 32px;\n",
              "    padding: 0;\n",
              "    width: 32px;\n",
              "  }\n",
              "\n",
              "  .colab-df-quickchart:hover {\n",
              "    background-color: var(--hover-bg-color);\n",
              "    box-shadow: 0 1px 2px rgba(60, 64, 67, 0.3), 0 1px 3px 1px rgba(60, 64, 67, 0.15);\n",
              "    fill: var(--button-hover-fill-color);\n",
              "  }\n",
              "\n",
              "  .colab-df-quickchart-complete:disabled,\n",
              "  .colab-df-quickchart-complete:disabled:hover {\n",
              "    background-color: var(--disabled-bg-color);\n",
              "    fill: var(--disabled-fill-color);\n",
              "    box-shadow: none;\n",
              "  }\n",
              "\n",
              "  .colab-df-spinner {\n",
              "    border: 2px solid var(--fill-color);\n",
              "    border-color: transparent;\n",
              "    border-bottom-color: var(--fill-color);\n",
              "    animation:\n",
              "      spin 1s steps(1) infinite;\n",
              "  }\n",
              "\n",
              "  @keyframes spin {\n",
              "    0% {\n",
              "      border-color: transparent;\n",
              "      border-bottom-color: var(--fill-color);\n",
              "      border-left-color: var(--fill-color);\n",
              "    }\n",
              "    20% {\n",
              "      border-color: transparent;\n",
              "      border-left-color: var(--fill-color);\n",
              "      border-top-color: var(--fill-color);\n",
              "    }\n",
              "    30% {\n",
              "      border-color: transparent;\n",
              "      border-left-color: var(--fill-color);\n",
              "      border-top-color: var(--fill-color);\n",
              "      border-right-color: var(--fill-color);\n",
              "    }\n",
              "    40% {\n",
              "      border-color: transparent;\n",
              "      border-right-color: var(--fill-color);\n",
              "      border-top-color: var(--fill-color);\n",
              "    }\n",
              "    60% {\n",
              "      border-color: transparent;\n",
              "      border-right-color: var(--fill-color);\n",
              "    }\n",
              "    80% {\n",
              "      border-color: transparent;\n",
              "      border-right-color: var(--fill-color);\n",
              "      border-bottom-color: var(--fill-color);\n",
              "    }\n",
              "    90% {\n",
              "      border-color: transparent;\n",
              "      border-bottom-color: var(--fill-color);\n",
              "    }\n",
              "  }\n",
              "</style>\n",
              "\n",
              "  <script>\n",
              "    async function quickchart(key) {\n",
              "      const quickchartButtonEl =\n",
              "        document.querySelector('#' + key + ' button');\n",
              "      quickchartButtonEl.disabled = true;  // To prevent multiple clicks.\n",
              "      quickchartButtonEl.classList.add('colab-df-spinner');\n",
              "      try {\n",
              "        const charts = await google.colab.kernel.invokeFunction(\n",
              "            'suggestCharts', [key], {});\n",
              "      } catch (error) {\n",
              "        console.error('Error during call to suggestCharts:', error);\n",
              "      }\n",
              "      quickchartButtonEl.classList.remove('colab-df-spinner');\n",
              "      quickchartButtonEl.classList.add('colab-df-quickchart-complete');\n",
              "    }\n",
              "    (() => {\n",
              "      let quickchartButtonEl =\n",
              "        document.querySelector('#df-0c988b28-4559-42bf-b871-f62b2b6d27ee button');\n",
              "      quickchartButtonEl.style.display =\n",
              "        google.colab.kernel.accessAllowed ? 'block' : 'none';\n",
              "    })();\n",
              "  </script>\n",
              "</div>\n",
              "\n",
              "    </div>\n",
              "  </div>\n"
            ],
            "application/vnd.google.colaboratory.intrinsic+json": {
              "type": "dataframe",
              "variable_name": "df",
              "summary": "{\n  \"name\": \"df\",\n  \"rows\": 30,\n  \"fields\": [\n    {\n      \"column\": \"YearsExperience\",\n      \"properties\": {\n        \"dtype\": \"number\",\n        \"std\": 2.8378881576627184,\n        \"min\": 1.1,\n        \"max\": 10.5,\n        \"num_unique_values\": 28,\n        \"samples\": [\n          3.9,\n          9.6,\n          3.7\n        ],\n        \"semantic_type\": \"\",\n        \"description\": \"\"\n      }\n    },\n    {\n      \"column\": \"Salary\",\n      \"properties\": {\n        \"dtype\": \"number\",\n        \"std\": 27414.4297845823,\n        \"min\": 37731.0,\n        \"max\": 122391.0,\n        \"num_unique_values\": 30,\n        \"samples\": [\n          112635.0,\n          67938.0,\n          113812.0\n        ],\n        \"semantic_type\": \"\",\n        \"description\": \"\"\n      }\n    }\n  ]\n}"
            }
          },
          "metadata": {},
          "execution_count": 5
        }
      ]
    },
    {
      "cell_type": "code",
      "source": [
        "df.shape\n",
        "#df.shape (rows, columns)\n",
        "\n",
        "#df.head(6)\n",
        "#df.tail(6)"
      ],
      "metadata": {
        "colab": {
          "base_uri": "https://localhost:8080/"
        },
        "id": "CwyAQejkW1HY",
        "outputId": "1d8ad267-93ea-444c-9be1-d1ee8d0b5c0f"
      },
      "execution_count": 8,
      "outputs": [
        {
          "output_type": "execute_result",
          "data": {
            "text/plain": [
              "(30, 2)"
            ]
          },
          "metadata": {},
          "execution_count": 8
        }
      ]
    },
    {
      "cell_type": "markdown",
      "source": [
        "`f(YOE)` --> Salary\n",
        "Simple Linear Regression\n",
        "\n",
        "\n",
        "#### **Supervised Learning WorkFlow**\n",
        "Data Collection [Raw Data] --> Feature Engineering --> [Train-Test split: Types] EDA on the train set --> Train --> Learn the model parameters\n",
        "Test Set --> Evaluate the model performance"
      ],
      "metadata": {
        "id": "9fUtELO_WW_R"
      }
    },
    {
      "cell_type": "code",
      "source": [
        "# Train [70%] - Test [30%]\n",
        "# Small Sized Dataset --> Not the right way for this dataset\n",
        "from sklearn.model_selection import train_test_split\n",
        "X_train, X_test, y_train, y_test = train_test_split(X, y, test_size = 0.3, random_state = 123)\n",
        "# Randomly splits the train-test\n",
        "X_train"
      ],
      "metadata": {
        "colab": {
          "base_uri": "https://localhost:8080/"
        },
        "id": "e4tknDzfWyLu",
        "outputId": "4ac75374-0d1a-4ef0-8409-ad6cb47df688"
      },
      "execution_count": null,
      "outputs": [
        {
          "output_type": "execute_result",
          "data": {
            "text/plain": [
              "array([[ 8.2],\n",
              "       [ 5.9],\n",
              "       [ 2.2],\n",
              "       [ 2. ],\n",
              "       [ 8.7],\n",
              "       [ 5.1],\n",
              "       [ 4.5],\n",
              "       [ 6.8],\n",
              "       [ 3.7],\n",
              "       [ 4.9],\n",
              "       [ 9. ],\n",
              "       [ 1.1],\n",
              "       [ 1.3],\n",
              "       [ 7.9],\n",
              "       [ 3.9],\n",
              "       [ 6. ],\n",
              "       [ 5.3],\n",
              "       [ 3. ],\n",
              "       [10.3],\n",
              "       [ 1.5],\n",
              "       [ 4.1]])"
            ]
          },
          "metadata": {},
          "execution_count": 7
        }
      ]
    },
    {
      "cell_type": "code",
      "source": [
        "df['YearsExperience'].isnull().sum()"
      ],
      "metadata": {
        "colab": {
          "base_uri": "https://localhost:8080/"
        },
        "id": "cGHrk-sIW7yg",
        "outputId": "648b3418-5289-4b38-d2b7-6ffac0408718"
      },
      "execution_count": null,
      "outputs": [
        {
          "output_type": "execute_result",
          "data": {
            "text/plain": [
              "0"
            ]
          },
          "metadata": {},
          "execution_count": 8
        }
      ]
    },
    {
      "cell_type": "code",
      "source": [
        "df['Salary'].isnull().sum()"
      ],
      "metadata": {
        "colab": {
          "base_uri": "https://localhost:8080/"
        },
        "id": "liMzEXSaW-lQ",
        "outputId": "c6cfcadd-1cb3-437e-c18a-5aa21ab337c0"
      },
      "execution_count": null,
      "outputs": [
        {
          "output_type": "execute_result",
          "data": {
            "text/plain": [
              "0"
            ]
          },
          "metadata": {},
          "execution_count": 9
        }
      ]
    },
    {
      "cell_type": "markdown",
      "source": [
        "### **Tips**\n",
        "\n",
        "Univariate Dataset --> Don't need feature Scaling here\n",
        "\n",
        "Multivariate (Multiple features) datasets --> Linear Regression --> Then you need feature scaling\n",
        "\n",
        "Distance based algorithms [will discuss in the upcoming modules] --> you will need feature scaling for multivariate data\n",
        "\n",
        "**Linear Regression Assumptions**\n",
        "\n",
        "1 . Residuals follow normal distribution\n",
        "\n",
        "Feature Scaling --> Standardization (Prefer for Linear Regression), Normalization\n",
        "\n",
        "Outlier Detection [IQR, z-score]\n",
        "\n",
        "\n",
        "Feature --> Sort the values in the ascending order\n",
        "\n",
        "25%ile --> which is greater 1/4th of the values in your feature --> Q1\n",
        "\n",
        "50%ile --> Median --> Q2\n",
        "\n",
        "75%ile --> Q3\n",
        "\n",
        "IQR  = Q3 - Q1\n",
        "\n",
        "sample < Q1 - 1.5 * IQR ==> Low-end outlier\n",
        "\n",
        "sample > Q3 + 1.5 * IQR ==> High-end outlier\n",
        "\n",
        "Normalization --> Fix the range for every feature [K-Nearest Neighbors - will discuss in upcoming modules]\n",
        "\n",
        "Standardization --> squish most of the data between -3 to 3\n",
        "\n",
        "Resultant Mean = 0\n",
        "\n",
        "Standard Deviation = 1"
      ],
      "metadata": {
        "id": "9TlN4Df9YHbH"
      }
    },
    {
      "cell_type": "code",
      "source": [
        "from sklearn.preprocessing import StandardScaler\n",
        "sc = StandardScaler()\n",
        "X_train_scaled = sc.fit_transform(X_train)\n",
        "X_test_scaled = sc.transform(X_test)"
      ],
      "metadata": {
        "id": "NOMV_gxWXHnJ"
      },
      "execution_count": null,
      "outputs": []
    },
    {
      "cell_type": "code",
      "source": [
        "(np.abs(X_train_scaled) > 3).sum() # No outliers"
      ],
      "metadata": {
        "colab": {
          "base_uri": "https://localhost:8080/"
        },
        "id": "E9uI-zc0XJ2w",
        "outputId": "dc443a84-3620-44a8-ba01-33c943eae527"
      },
      "execution_count": null,
      "outputs": [
        {
          "output_type": "execute_result",
          "data": {
            "text/plain": [
              "0"
            ]
          },
          "metadata": {},
          "execution_count": 11
        }
      ]
    },
    {
      "cell_type": "code",
      "source": [
        "from matplotlib import pyplot as plt\n",
        "plt.scatter(X_train, y_train)\n",
        "plt.xlabel('Years of Exp')\n",
        "plt.ylabel('Salary')\n",
        "plt.title('Scatter Plot')\n",
        "plt.show()"
      ],
      "metadata": {
        "colab": {
          "base_uri": "https://localhost:8080/",
          "height": 472
        },
        "id": "ubFyddc1XMv4",
        "outputId": "4841a209-cb89-45b1-936f-c3edbf8637bc"
      },
      "execution_count": null,
      "outputs": [
        {
          "output_type": "display_data",
          "data": {
            "text/plain": [
              "<Figure size 640x480 with 1 Axes>"
            ],
            "image/png": "[encoded data removed]"
          },
          "metadata": {}
        }
      ]
    },
    {
      "cell_type": "code",
      "source": [
        "from sklearn.linear_model import LinearRegression\n",
        "lr = LinearRegression()\n",
        "lr.fit(X_train, y_train)"
      ],
      "metadata": {
        "colab": {
          "base_uri": "https://localhost:8080/",
          "height": 74
        },
        "id": "pg5_SqaRXPfw",
        "outputId": "c7ba4530-24b7-40be-888f-6aa4b7d7ebf4"
      },
      "execution_count": null,
      "outputs": [
        {
          "output_type": "execute_result",
          "data": {
            "text/plain": [
              "LinearRegression()"
            ],
            "text/html": [
              "<style>#sk-container-id-1 {color: black;}#sk-container-id-1 pre{padding: 0;}#sk-container-id-1 div.sk-toggleable {background-color: white;}#sk-container-id-1 label.sk-toggleable__label {cursor: pointer;display: block;width: 100%;margin-bottom: 0;padding: 0.3em;box-sizing: border-box;text-align: center;}#sk-container-id-1 label.sk-toggleable__label-arrow:before {content: \"▸\";float: left;margin-right: 0.25em;color: #696969;}#sk-container-id-1 label.sk-toggleable__label-arrow:hover:before {color: black;}#sk-container-id-1 div.sk-estimator:hover label.sk-toggleable__label-arrow:before {color: black;}#sk-container-id-1 div.sk-toggleable__content {max-height: 0;max-width: 0;overflow: hidden;text-align: left;background-color: #f0f8ff;}#sk-container-id-1 div.sk-toggleable__content pre {margin: 0.2em;color: black;border-radius: 0.25em;background-color: #f0f8ff;}#sk-container-id-1 input.sk-toggleable__control:checked~div.sk-toggleable__content {max-height: 200px;max-width: 100%;overflow: auto;}#sk-container-id-1 input.sk-toggleable__control:checked~label.sk-toggleable__label-arrow:before {content: \"▾\";}#sk-container-id-1 div.sk-estimator input.sk-toggleable__control:checked~label.sk-toggleable__label {background-color: #d4ebff;}#sk-container-id-1 div.sk-label input.sk-toggleable__control:checked~label.sk-toggleable__label {background-color: #d4ebff;}#sk-container-id-1 input.sk-hidden--visually {border: 0;clip: rect(1px 1px 1px 1px);clip: rect(1px, 1px, 1px, 1px);height: 1px;margin: -1px;overflow: hidden;padding: 0;position: absolute;width: 1px;}#sk-container-id-1 div.sk-estimator {font-family: monospace;background-color: #f0f8ff;border: 1px dotted black;border-radius: 0.25em;box-sizing: border-box;margin-bottom: 0.5em;}#sk-container-id-1 div.sk-estimator:hover {background-color: #d4ebff;}#sk-container-id-1 div.sk-parallel-item::after {content: \"\";width: 100%;border-bottom: 1px solid gray;flex-grow: 1;}#sk-container-id-1 div.sk-label:hover label.sk-toggleable__label {background-color: #d4ebff;}#sk-container-id-1 div.sk-serial::before {content: \"\";position: absolute;border-left: 1px solid gray;box-sizing: border-box;top: 0;bottom: 0;left: 50%;z-index: 0;}#sk-container-id-1 div.sk-serial {display: flex;flex-direction: column;align-items: center;background-color: white;padding-right: 0.2em;padding-left: 0.2em;position: relative;}#sk-container-id-1 div.sk-item {position: relative;z-index: 1;}#sk-container-id-1 div.sk-parallel {display: flex;align-items: stretch;justify-content: center;background-color: white;position: relative;}#sk-container-id-1 div.sk-item::before, #sk-container-id-1 div.sk-parallel-item::before {content: \"\";position: absolute;border-left: 1px solid gray;box-sizing: border-box;top: 0;bottom: 0;left: 50%;z-index: -1;}#sk-container-id-1 div.sk-parallel-item {display: flex;flex-direction: column;z-index: 1;position: relative;background-color: white;}#sk-container-id-1 div.sk-parallel-item:first-child::after {align-self: flex-end;width: 50%;}#sk-container-id-1 div.sk-parallel-item:last-child::after {align-self: flex-start;width: 50%;}#sk-container-id-1 div.sk-parallel-item:only-child::after {width: 0;}#sk-container-id-1 div.sk-dashed-wrapped {border: 1px dashed gray;margin: 0 0.4em 0.5em 0.4em;box-sizing: border-box;padding-bottom: 0.4em;background-color: white;}#sk-container-id-1 div.sk-label label {font-family: monospace;font-weight: bold;display: inline-block;line-height: 1.2em;}#sk-container-id-1 div.sk-label-container {text-align: center;}#sk-container-id-1 div.sk-container {/* jupyter's `normalize.less` sets `[hidden] { display: none; }` but bootstrap.min.css set `[hidden] { display: none !important; }` so we also need the `!important` here to be able to override the default hidden behavior on the sphinx rendered scikit-learn.org. See: https://github.com/scikit-learn/scikit-learn/issues/21755 */display: inline-block !important;position: relative;}#sk-container-id-1 div.sk-text-repr-fallback {display: none;}</style><div id=\"sk-container-id-1\" class=\"sk-top-container\"><div class=\"sk-text-repr-fallback\"><pre>LinearRegression()</pre><b>In a Jupyter environment, please rerun this cell to show the HTML representation or trust the notebook. <br />On GitHub, the HTML representation is unable to render, please try loading this page with nbviewer.org.</b></div><div class=\"sk-container\" hidden><div class=\"sk-item\"><div class=\"sk-estimator sk-toggleable\"><input class=\"sk-toggleable__control sk-hidden--visually\" id=\"sk-estimator-id-1\" type=\"checkbox\" checked><label for=\"sk-estimator-id-1\" class=\"sk-toggleable__label sk-toggleable__label-arrow\">LinearRegression</label><div class=\"sk-toggleable__content\"><pre>LinearRegression()</pre></div></div></div></div></div>"
            ]
          },
          "metadata": {},
          "execution_count": 13
        }
      ]
    },
    {
      "cell_type": "code",
      "source": [
        "m = lr.coef_[0][0] # Slope (m)\n",
        "m"
      ],
      "metadata": {
        "colab": {
          "base_uri": "https://localhost:8080/"
        },
        "id": "Wn1J6uLYXSrn",
        "outputId": "71f6b768-f5fa-4919-8632-0bf4b7d3c092"
      },
      "execution_count": null,
      "outputs": [
        {
          "output_type": "execute_result",
          "data": {
            "text/plain": [
              "9602.562213944955"
            ]
          },
          "metadata": {},
          "execution_count": 14
        }
      ]
    },
    {
      "cell_type": "code",
      "source": [
        "c = lr.intercept_[0] # c\n",
        "c"
      ],
      "metadata": {
        "colab": {
          "base_uri": "https://localhost:8080/"
        },
        "id": "tSn41Pv-XU_4",
        "outputId": "e1baba17-abeb-4422-930b-d4f529c5f198"
      },
      "execution_count": null,
      "outputs": [
        {
          "output_type": "execute_result",
          "data": {
            "text/plain": [
              "25235.61631667627"
            ]
          },
          "metadata": {},
          "execution_count": 15
        }
      ]
    },
    {
      "cell_type": "code",
      "source": [
        "plt.scatter(X_train, y_train)\n",
        "plt.plot(X_train, m*X_train + c)\n",
        "plt.xlabel('Years of Exp')\n",
        "plt.ylabel('Salary')\n",
        "plt.title('Scatter Plot')\n",
        "plt.show()"
      ],
      "metadata": {
        "colab": {
          "base_uri": "https://localhost:8080/",
          "height": 472
        },
        "id": "qZGRIKdQXXmC",
        "outputId": "c2fb9e46-5f81-40fb-9080-fd5fbba53103"
      },
      "execution_count": null,
      "outputs": [
        {
          "output_type": "display_data",
          "data": {
            "text/plain": [
              "<Figure size 640x480 with 1 Axes>"
            ],
            "image/png": "[encoded data removed]"
          },
          "metadata": {}
        }
      ]
    },
    {
      "cell_type": "code",
      "source": [
        "# Years of Exp = 10\n",
        "m*10 + c"
      ],
      "metadata": {
        "colab": {
          "base_uri": "https://localhost:8080/"
        },
        "id": "kti6Wnm_XasI",
        "outputId": "6a631c8c-3233-4570-a278-b0695317178d"
      },
      "execution_count": null,
      "outputs": [
        {
          "output_type": "execute_result",
          "data": {
            "text/plain": [
              "121261.23845612582"
            ]
          },
          "metadata": {},
          "execution_count": 17
        }
      ]
    },
    {
      "cell_type": "code",
      "source": [
        "lr.predict([[10]])"
      ],
      "metadata": {
        "colab": {
          "base_uri": "https://localhost:8080/"
        },
        "id": "ZOypm2QLXdEZ",
        "outputId": "9873f5e4-6ca9-44e2-b921-686daa3af341"
      },
      "execution_count": null,
      "outputs": [
        {
          "output_type": "execute_result",
          "data": {
            "text/plain": [
              "array([[121261.23845613]])"
            ]
          },
          "metadata": {},
          "execution_count": 18
        }
      ]
    },
    {
      "cell_type": "code",
      "source": [
        "lr.predict(X_test) # Unseen Data Predictions"
      ],
      "metadata": {
        "colab": {
          "base_uri": "https://localhost:8080/"
        },
        "id": "QAe1KKLXXgSK",
        "outputId": "41cd1a52-f899-43dd-bc2c-803df775e8f4"
      },
      "execution_count": null,
      "outputs": [
        {
          "output_type": "execute_result",
          "data": {
            "text/plain": [
              "array([[ 55963.8154013 ],\n",
              "       [126062.5195631 ],\n",
              "       [ 53083.04673712],\n",
              "       [116459.95734915],\n",
              "       [ 55963.8154013 ],\n",
              "       [117420.21357055],\n",
              "       [ 63645.86517246],\n",
              "       [ 93413.80803569],\n",
              "       [ 63645.86517246]])"
            ]
          },
          "metadata": {},
          "execution_count": 19
        }
      ]
    },
    {
      "cell_type": "code",
      "source": [
        "results = pd.DataFrame(y_test, columns = ['Actual'])\n",
        "results['preds'] = lr.predict(X_test)\n",
        "results"
      ],
      "metadata": {
        "colab": {
          "base_uri": "https://localhost:8080/",
          "height": 331
        },
        "id": "DVITm_OuXiPx",
        "outputId": "bbbc4197-53c1-42e7-d0f5-3f050a2546a1"
      },
      "execution_count": null,
      "outputs": [
        {
          "output_type": "execute_result",
          "data": {
            "text/plain": [
              "     Actual          preds\n",
              "0   54445.0   55963.815401\n",
              "1  121872.0  126062.519563\n",
              "2   56642.0   53083.046737\n",
              "3  116969.0  116459.957349\n",
              "4   64445.0   55963.815401\n",
              "5  112635.0  117420.213571\n",
              "6   56957.0   63645.865172\n",
              "7   98273.0   93413.808036\n",
              "8   55794.0   63645.865172"
            ],
            "text/html": [
              "\n",
              "  <div id=\"df-ae7c17a5-3dc7-42a6-814d-251d79348a0c\" class=\"colab-df-container\">\n",
              "    <div>\n",
              "<style scoped>\n",
              "    .dataframe tbody tr th:only-of-type {\n",
              "        vertical-align: middle;\n",
              "    }\n",
              "\n",
              "    .dataframe tbody tr th {\n",
              "        vertical-align: top;\n",
              "    }\n",
              "\n",
              "    .dataframe thead th {\n",
              "        text-align: right;\n",
              "    }\n",
              "</style>\n",
              "<table border=\"1\" class=\"dataframe\">\n",
              "  <thead>\n",
              "    <tr style=\"text-align: right;\">\n",
              "      <th></th>\n",
              "      <th>Actual</th>\n",
              "      <th>preds</th>\n",
              "    </tr>\n",
              "  </thead>\n",
              "  <tbody>\n",
              "    <tr>\n",
              "      <th>0</th>\n",
              "      <td>54445.0</td>\n",
              "      <td>55963.815401</td>\n",
              "    </tr>\n",
              "    <tr>\n",
              "      <th>1</th>\n",
              "      <td>121872.0</td>\n",
              "      <td>126062.519563</td>\n",
              "    </tr>\n",
              "    <tr>\n",
              "      <th>2</th>\n",
              "      <td>56642.0</td>\n",
              "      <td>53083.046737</td>\n",
              "    </tr>\n",
              "    <tr>\n",
              "      <th>3</th>\n",
              "      <td>116969.0</td>\n",
              "      <td>116459.957349</td>\n",
              "    </tr>\n",
              "    <tr>\n",
              "      <th>4</th>\n",
              "      <td>64445.0</td>\n",
              "      <td>55963.815401</td>\n",
              "    </tr>\n",
              "    <tr>\n",
              "      <th>5</th>\n",
              "      <td>112635.0</td>\n",
              "      <td>117420.213571</td>\n",
              "    </tr>\n",
              "    <tr>\n",
              "      <th>6</th>\n",
              "      <td>56957.0</td>\n",
              "      <td>63645.865172</td>\n",
              "    </tr>\n",
              "    <tr>\n",
              "      <th>7</th>\n",
              "      <td>98273.0</td>\n",
              "      <td>93413.808036</td>\n",
              "    </tr>\n",
              "    <tr>\n",
              "      <th>8</th>\n",
              "      <td>55794.0</td>\n",
              "      <td>63645.865172</td>\n",
              "    </tr>\n",
              "  </tbody>\n",
              "</table>\n",
              "</div>\n",
              "    <div class=\"colab-df-buttons\">\n",
              "\n",
              "  <div class=\"colab-df-container\">\n",
              "    <button class=\"colab-df-convert\" onclick=\"convertToInteractive('df-ae7c17a5-3dc7-42a6-814d-251d79348a0c')\"\n",
              "            title=\"Convert this dataframe to an interactive table.\"\n",
              "            style=\"display:none;\">\n",
              "\n",
              "  <svg xmlns=\"http://www.w3.org/2000/svg\" height=\"24px\" viewBox=\"0 -960 960 960\">\n",
              "    <path d=\"M120-120v-720h720v720H120Zm60-500h600v-160H180v160Zm220 220h160v-160H400v160Zm0 220h160v-160H400v160ZM180-400h160v-160H180v160Zm440 0h160v-160H620v160ZM180-180h160v-160H180v160Zm440 0h160v-160H620v160Z\"/>\n",
              "  </svg>\n",
              "    </button>\n",
              "\n",
              "  <style>\n",
              "    .colab-df-container {\n",
              "      display:flex;\n",
              "      gap: 12px;\n",
              "    }\n",
              "\n",
              "    .colab-df-convert {\n",
              "      background-color: #E8F0FE;\n",
              "      border: none;\n",
              "      border-radius: 50%;\n",
              "      cursor: pointer;\n",
              "      display: none;\n",
              "      fill: #1967D2;\n",
              "      height: 32px;\n",
              "      padding: 0 0 0 0;\n",
              "      width: 32px;\n",
              "    }\n",
              "\n",
              "    .colab-df-convert:hover {\n",
              "      background-color: #E2EBFA;\n",
              "      box-shadow: 0px 1px 2px rgba(60, 64, 67, 0.3), 0px 1px 3px 1px rgba(60, 64, 67, 0.15);\n",
              "      fill: #174EA6;\n",
              "    }\n",
              "\n",
              "    .colab-df-buttons div {\n",
              "      margin-bottom: 4px;\n",
              "    }\n",
              "\n",
              "    [theme=dark] .colab-df-convert {\n",
              "      background-color: #3B4455;\n",
              "      fill: #D2E3FC;\n",
              "    }\n",
              "\n",
              "    [theme=dark] .colab-df-convert:hover {\n",
              "      background-color: #434B5C;\n",
              "      box-shadow: 0px 1px 3px 1px rgba(0, 0, 0, 0.15);\n",
              "      filter: drop-shadow(0px 1px 2px rgba(0, 0, 0, 0.3));\n",
              "      fill: #FFFFFF;\n",
              "    }\n",
              "  </style>\n",
              "\n",
              "    <script>\n",
              "      const buttonEl =\n",
              "        document.querySelector('#df-ae7c17a5-3dc7-42a6-814d-251d79348a0c button.colab-df-convert');\n",
              "      buttonEl.style.display =\n",
              "        google.colab.kernel.accessAllowed ? 'block' : 'none';\n",
              "\n",
              "      async function convertToInteractive(key) {\n",
              "        const element = document.querySelector('#df-ae7c17a5-3dc7-42a6-814d-251d79348a0c');\n",
              "        const dataTable =\n",
              "          await google.colab.kernel.invokeFunction('convertToInteractive',\n",
              "                                                    [key], {});\n",
              "        if (!dataTable) return;\n",
              "\n",
              "        const docLinkHtml = 'Like what you see? Visit the ' +\n",
              "          '<a target=\"_blank\" href=https://colab.research.google.com/notebooks/data_table.ipynb>data table notebook</a>'\n",
              "          + ' to learn more about interactive tables.';\n",
              "        element.innerHTML = '';\n",
              "        dataTable['output_type'] = 'display_data';\n",
              "        await google.colab.output.renderOutput(dataTable, element);\n",
              "        const docLink = document.createElement('div');\n",
              "        docLink.innerHTML = docLinkHtml;\n",
              "        element.appendChild(docLink);\n",
              "      }\n",
              "    </script>\n",
              "  </div>\n",
              "\n",
              "\n",
              "<div id=\"df-671c0d4e-0e7d-48bb-afa5-d3970b2732df\">\n",
              "  <button class=\"colab-df-quickchart\" onclick=\"quickchart('df-671c0d4e-0e7d-48bb-afa5-d3970b2732df')\"\n",
              "            title=\"Suggest charts\"\n",
              "            style=\"display:none;\">\n",
              "\n",
              "<svg xmlns=\"http://www.w3.org/2000/svg\" height=\"24px\"viewBox=\"0 0 24 24\"\n",
              "     width=\"24px\">\n",
              "    <g>\n",
              "        <path d=\"M19 3H5c-1.1 0-2 .9-2 2v14c0 1.1.9 2 2 2h14c1.1 0 2-.9 2-2V5c0-1.1-.9-2-2-2zM9 17H7v-7h2v7zm4 0h-2V7h2v10zm4 0h-2v-4h2v4z\"/>\n",
              "    </g>\n",
              "</svg>\n",
              "  </button>\n",
              "\n",
              "<style>\n",
              "  .colab-df-quickchart {\n",
              "      --bg-color: #E8F0FE;\n",
              "      --fill-color: #1967D2;\n",
              "      --hover-bg-color: #E2EBFA;\n",
              "      --hover-fill-color: #174EA6;\n",
              "      --disabled-fill-color: #AAA;\n",
              "      --disabled-bg-color: #DDD;\n",
              "  }\n",
              "\n",
              "  [theme=dark] .colab-df-quickchart {\n",
              "      --bg-color: #3B4455;\n",
              "      --fill-color: #D2E3FC;\n",
              "      --hover-bg-color: #434B5C;\n",
              "      --hover-fill-color: #FFFFFF;\n",
              "      --disabled-bg-color: #3B4455;\n",
              "      --disabled-fill-color: #666;\n",
              "  }\n",
              "\n",
              "  .colab-df-quickchart {\n",
              "    background-color: var(--bg-color);\n",
              "    border: none;\n",
              "    border-radius: 50%;\n",
              "    cursor: pointer;\n",
              "    display: none;\n",
              "    fill: var(--fill-color);\n",
              "    height: 32px;\n",
              "    padding: 0;\n",
              "    width: 32px;\n",
              "  }\n",
              "\n",
              "  .colab-df-quickchart:hover {\n",
              "    background-color: var(--hover-bg-color);\n",
              "    box-shadow: 0 1px 2px rgba(60, 64, 67, 0.3), 0 1px 3px 1px rgba(60, 64, 67, 0.15);\n",
              "    fill: var(--button-hover-fill-color);\n",
              "  }\n",
              "\n",
              "  .colab-df-quickchart-complete:disabled,\n",
              "  .colab-df-quickchart-complete:disabled:hover {\n",
              "    background-color: var(--disabled-bg-color);\n",
              "    fill: var(--disabled-fill-color);\n",
              "    box-shadow: none;\n",
              "  }\n",
              "\n",
              "  .colab-df-spinner {\n",
              "    border: 2px solid var(--fill-color);\n",
              "    border-color: transparent;\n",
              "    border-bottom-color: var(--fill-color);\n",
              "    animation:\n",
              "      spin 1s steps(1) infinite;\n",
              "  }\n",
              "\n",
              "  @keyframes spin {\n",
              "    0% {\n",
              "      border-color: transparent;\n",
              "      border-bottom-color: var(--fill-color);\n",
              "      border-left-color: var(--fill-color);\n",
              "    }\n",
              "    20% {\n",
              "      border-color: transparent;\n",
              "      border-left-color: var(--fill-color);\n",
              "      border-top-color: var(--fill-color);\n",
              "    }\n",
              "    30% {\n",
              "      border-color: transparent;\n",
              "      border-left-color: var(--fill-color);\n",
              "      border-top-color: var(--fill-color);\n",
              "      border-right-color: var(--fill-color);\n",
              "    }\n",
              "    40% {\n",
              "      border-color: transparent;\n",
              "      border-right-color: var(--fill-color);\n",
              "      border-top-color: var(--fill-color);\n",
              "    }\n",
              "    60% {\n",
              "      border-color: transparent;\n",
              "      border-right-color: var(--fill-color);\n",
              "    }\n",
              "    80% {\n",
              "      border-color: transparent;\n",
              "      border-right-color: var(--fill-color);\n",
              "      border-bottom-color: var(--fill-color);\n",
              "    }\n",
              "    90% {\n",
              "      border-color: transparent;\n",
              "      border-bottom-color: var(--fill-color);\n",
              "    }\n",
              "  }\n",
              "</style>\n",
              "\n",
              "  <script>\n",
              "    async function quickchart(key) {\n",
              "      const quickchartButtonEl =\n",
              "        document.querySelector('#' + key + ' button');\n",
              "      quickchartButtonEl.disabled = true;  // To prevent multiple clicks.\n",
              "      quickchartButtonEl.classList.add('colab-df-spinner');\n",
              "      try {\n",
              "        const charts = await google.colab.kernel.invokeFunction(\n",
              "            'suggestCharts', [key], {});\n",
              "      } catch (error) {\n",
              "        console.error('Error during call to suggestCharts:', error);\n",
              "      }\n",
              "      quickchartButtonEl.classList.remove('colab-df-spinner');\n",
              "      quickchartButtonEl.classList.add('colab-df-quickchart-complete');\n",
              "    }\n",
              "    (() => {\n",
              "      let quickchartButtonEl =\n",
              "        document.querySelector('#df-671c0d4e-0e7d-48bb-afa5-d3970b2732df button');\n",
              "      quickchartButtonEl.style.display =\n",
              "        google.colab.kernel.accessAllowed ? 'block' : 'none';\n",
              "    })();\n",
              "  </script>\n",
              "</div>\n",
              "\n",
              "  <div id=\"id_389573fa-3b63-483a-8f8d-f6526a84b03b\">\n",
              "    <style>\n",
              "      .colab-df-generate {\n",
              "        background-color: #E8F0FE;\n",
              "        border: none;\n",
              "        border-radius: 50%;\n",
              "        cursor: pointer;\n",
              "        display: none;\n",
              "        fill: #1967D2;\n",
              "        height: 32px;\n",
              "        padding: 0 0 0 0;\n",
              "        width: 32px;\n",
              "      }\n",
              "\n",
              "      .colab-df-generate:hover {\n",
              "        background-color: #E2EBFA;\n",
              "        box-shadow: 0px 1px 2px rgba(60, 64, 67, 0.3), 0px 1px 3px 1px rgba(60, 64, 67, 0.15);\n",
              "        fill: #174EA6;\n",
              "      }\n",
              "\n",
              "      [theme=dark] .colab-df-generate {\n",
              "        background-color: #3B4455;\n",
              "        fill: #D2E3FC;\n",
              "      }\n",
              "\n",
              "      [theme=dark] .colab-df-generate:hover {\n",
              "        background-color: #434B5C;\n",
              "        box-shadow: 0px 1px 3px 1px rgba(0, 0, 0, 0.15);\n",
              "        filter: drop-shadow(0px 1px 2px rgba(0, 0, 0, 0.3));\n",
              "        fill: #FFFFFF;\n",
              "      }\n",
              "    </style>\n",
              "    <button class=\"colab-df-generate\" onclick=\"generateWithVariable('results')\"\n",
              "            title=\"Generate code using this dataframe.\"\n",
              "            style=\"display:none;\">\n",
              "\n",
              "  <svg xmlns=\"http://www.w3.org/2000/svg\" height=\"24px\"viewBox=\"0 0 24 24\"\n",
              "       width=\"24px\">\n",
              "    <path d=\"M7,19H8.4L18.45,9,17,7.55,7,17.6ZM5,21V16.75L18.45,3.32a2,2,0,0,1,2.83,0l1.4,1.43a1.91,1.91,0,0,1,.58,1.4,1.91,1.91,0,0,1-.58,1.4L9.25,21ZM18.45,9,17,7.55Zm-12,3A5.31,5.31,0,0,0,4.9,8.1,5.31,5.31,0,0,0,1,6.5,5.31,5.31,0,0,0,4.9,4.9,5.31,5.31,0,0,0,6.5,1,5.31,5.31,0,0,0,8.1,4.9,5.31,5.31,0,0,0,12,6.5,5.46,5.46,0,0,0,6.5,12Z\"/>\n",
              "  </svg>\n",
              "    </button>\n",
              "    <script>\n",
              "      (() => {\n",
              "      const buttonEl =\n",
              "        document.querySelector('#id_389573fa-3b63-483a-8f8d-f6526a84b03b button.colab-df-generate');\n",
              "      buttonEl.style.display =\n",
              "        google.colab.kernel.accessAllowed ? 'block' : 'none';\n",
              "\n",
              "      buttonEl.onclick = () => {\n",
              "        google.colab.notebook.generateWithVariable('results');\n",
              "      }\n",
              "      })();\n",
              "    </script>\n",
              "  </div>\n",
              "\n",
              "    </div>\n",
              "  </div>\n"
            ],
            "application/vnd.google.colaboratory.intrinsic+json": {
              "type": "dataframe",
              "variable_name": "results",
              "summary": "{\n  \"name\": \"results\",\n  \"rows\": 9,\n  \"fields\": [\n    {\n      \"column\": \"Actual\",\n      \"properties\": {\n        \"dtype\": \"number\",\n        \"std\": 29665.45019931061,\n        \"min\": 54445.0,\n        \"max\": 121872.0,\n        \"num_unique_values\": 9,\n        \"samples\": [\n          98273.0,\n          121872.0,\n          112635.0\n        ],\n        \"semantic_type\": \"\",\n        \"description\": \"\"\n      }\n    },\n    {\n      \"column\": \"preds\",\n      \"properties\": {\n        \"dtype\": \"number\",\n        \"std\": 30358.375528368953,\n        \"min\": 53083.046737116645,\n        \"max\": 126062.5195630983,\n        \"num_unique_values\": 7,\n        \"samples\": [\n          55963.81540130013,\n          126062.5195630983,\n          63645.86517245609\n        ],\n        \"semantic_type\": \"\",\n        \"description\": \"\"\n      }\n    }\n  ]\n}"
            }
          },
          "metadata": {},
          "execution_count": 20
        }
      ]
    },
    {
      "cell_type": "markdown",
      "source": [
        "### Evaluation Metric"
      ],
      "metadata": {
        "id": "fHWwlVqpXlSR"
      }
    },
    {
      "cell_type": "code",
      "source": [
        "# Evaluation Metrics\n",
        "(results['Actual'] - results['preds']).abs().sum() # Sum of Absolute Errors [SAE]"
      ],
      "metadata": {
        "colab": {
          "base_uri": "https://localhost:8080/"
        },
        "id": "ySpE8G7RXoJp",
        "outputId": "6b53b5ef-e5e5-44c7-b975-9607cd89b00d"
      },
      "execution_count": null,
      "outputs": [
        {
          "output_type": "execute_result",
          "data": {
            "text/plain": [
              "42443.6513566029"
            ]
          },
          "metadata": {},
          "execution_count": 21
        }
      ]
    },
    {
      "cell_type": "code",
      "source": [
        "(results['Actual'] - results['preds']).abs().mean() # MAE"
      ],
      "metadata": {
        "colab": {
          "base_uri": "https://localhost:8080/"
        },
        "id": "Y80ucrO5XrEP",
        "outputId": "33239f67-559d-497e-f834-2f5271c958e5"
      },
      "execution_count": null,
      "outputs": [
        {
          "output_type": "execute_result",
          "data": {
            "text/plain": [
              "4715.961261844767"
            ]
          },
          "metadata": {},
          "execution_count": 22
        }
      ]
    },
    {
      "cell_type": "code",
      "source": [
        "# Negative Metric --> Lower the better [SAE]\n",
        "((results['Actual'] - results['preds'])**2).sum() # SSE"
      ],
      "metadata": {
        "colab": {
          "base_uri": "https://localhost:8080/"
        },
        "id": "j5FCN5RmENFL",
        "outputId": "e22cb230-86f8-4fdf-ce0a-81f4d94ef454"
      },
      "execution_count": null,
      "outputs": [
        {
          "output_type": "execute_result",
          "data": {
            "text/plain": [
              "257625738.8204684"
            ]
          },
          "metadata": {},
          "execution_count": 23
        }
      ]
    },
    {
      "cell_type": "code",
      "source": [
        "((results['Actual'] - results['preds'])**2).mean() # MSE"
      ],
      "metadata": {
        "colab": {
          "base_uri": "https://localhost:8080/"
        },
        "id": "FEBmRHK6E1EG",
        "outputId": "368d82e1-af94-47d3-f3db-2f6ceb663ab7"
      },
      "execution_count": null,
      "outputs": [
        {
          "output_type": "execute_result",
          "data": {
            "text/plain": [
              "28625082.091163155"
            ]
          },
          "metadata": {},
          "execution_count": 24
        }
      ]
    },
    {
      "cell_type": "code",
      "source": [
        "import math\n",
        "math.sqrt(((results['Actual'] - results['preds'])**2).mean()) #RMSE"
      ],
      "metadata": {
        "colab": {
          "base_uri": "https://localhost:8080/"
        },
        "id": "YO0h8EtbEpkR",
        "outputId": "26b5a7a8-3cea-45c9-dd6a-182a16c351a9"
      },
      "execution_count": null,
      "outputs": [
        {
          "output_type": "execute_result",
          "data": {
            "text/plain": [
              "5350.241311488964"
            ]
          },
          "metadata": {},
          "execution_count": 25
        }
      ]
    },
    {
      "cell_type": "code",
      "source": [
        "# Range of these metrics [SSE, MSE, MAE, MSE, RMSE] --> [0, inf)\n",
        "\n",
        "from sklearn.metrics import mean_absolute_error, mean_squared_error\n",
        "print(mean_absolute_error(y_test, lr.predict(X_test)))\n",
        "print(mean_squared_error(y_test, lr.predict(X_test)))"
      ],
      "metadata": {
        "colab": {
          "base_uri": "https://localhost:8080/"
        },
        "id": "wBrKB8pTEvXi",
        "outputId": "e4ecf952-77e9-473e-8686-34b4ecd7b1fe"
      },
      "execution_count": null,
      "outputs": [
        {
          "output_type": "stream",
          "name": "stdout",
          "text": [
            "4715.961261844767\n",
            "28625082.091163155\n"
          ]
        }
      ]
    },
    {
      "cell_type": "code",
      "source": [
        "from sklearn.metrics import r2_score\n",
        "# Coefficient of determination\n",
        "# 1 - [(sum_i (actual_i  - pred_i)^2) / sum_i(actual_i - mean_actual)^2]\n",
        "# 1 - SSE/TSS --> (-ve inf, 1] # 1--> Ideal Model\n",
        "# Constant model --> Predicts the mean regardless of the input --> r2_score = 0\n",
        "\n",
        "r2_score(y_test, lr.predict(X_test))\n",
        "\n",
        "# Multivariate data --> with large features --> don't use r2 score --> prefer adjusted_r2_score"
      ],
      "metadata": {
        "colab": {
          "base_uri": "https://localhost:8080/"
        },
        "id": "BSnvMiX_FPQB",
        "outputId": "06b48660-55e8-45bc-832d-dc89bb532c19"
      },
      "execution_count": null,
      "outputs": [
        {
          "output_type": "execute_result",
          "data": {
            "text/plain": [
              "0.963407053878536"
            ]
          },
          "metadata": {},
          "execution_count": 27
        }
      ]
    },
    {
      "cell_type": "code",
      "source": [
        "# MAPE [Mean Absolute Percentage Error]\n",
        "# 1/N  * \\sum_i |Actual_i - pred_i| / Actual_i\n",
        "\n",
        "from sklearn.metrics import mean_absolute_percentage_error\n",
        "mean_absolute_percentage_error(y_test, lr.predict(X_test))"
      ],
      "metadata": {
        "colab": {
          "base_uri": "https://localhost:8080/"
        },
        "id": "gH-PFFRUGl01",
        "outputId": "66b362ff-095c-4111-cdf7-28aafbd02890"
      },
      "execution_count": null,
      "outputs": [
        {
          "output_type": "execute_result",
          "data": {
            "text/plain": [
              "0.06790727724958927"
            ]
          },
          "metadata": {},
          "execution_count": 28
        }
      ]
    },
    {
      "cell_type": "code",
      "source": [],
      "metadata": {
        "id": "KVbYAV2WXyN1"
      },
      "execution_count": null,
      "outputs": []
    },
    {
      "cell_type": "markdown",
      "source": [
        "# Linear Regression on Bike Sharing Data\n",
        "\n",
        "<center><img src=\"https://miro.medium.com/v2/resize:fit:996/1*ATlagc9XVjU6wu9z7CIVTQ.jpeg\" width=500 height=300/></center>\n",
        "\n",
        "Bike sharing systems are a means of renting bicycles where the process of obtaining membership, rental, and bike return is automated via a network of kiosk locations throughout a city. Using these systems, people are able rent a bike from a one location and return it to a different place on an as-needed basis. Currently, there are over 500 bike-sharing programs around the world.\n",
        "\n",
        "The data generated by these systems makes them attractive for researchers because the duration of travel, departure location, arrival location, and time elapsed is explicitly recorded. Bike sharing systems therefore function as a sensor network, which can be used for studying mobility in a city. In this competition, participants are asked to combine historical usage patterns with weather data in order to forecast bike rental demand in the Capital Bikeshare program in Washington, D.C.\n",
        "\n",
        "https://www.kaggle.com/competitions/bike-sharing-demand/overview\n",
        "\n",
        "Unlocking the patterns hidden within this rich dataset through regression analysis is like discovering the city's pulse—a chance to reveal how factors like weather, season, and daily routines influence bike demand.\n",
        "\n",
        "**Dataset:** [Bike_Sharing_Data.csv](https://drive.google.com/file/d/1F0FQJf1IZBytvN1wF2CCO_4M3nEXFfPf/view?usp=sharing)"
      ],
      "metadata": {
        "id": "yZ5GsrSZ35eX"
      }
    },
    {
      "cell_type": "markdown",
      "source": [
        "## Section 1: Data Information\n",
        "\n",
        "You are provided hourly rental data spanning two years. For this competition, the training set is comprised of the first 19 days of each month, while the test set is the 20th to the end of the month. You must predict the total count of bikes rented during each hour covered by the test set, using only information available prior to the rental period.\n",
        "\n",
        "####Data Fields\n",
        "- **datetime** - hourly date + timestamp  \n",
        "- **season** -  1 = spring, 2 = summer, 3 = fall, 4 = winter\n",
        "- **holiday**- whether the day is considered a holiday\n",
        "- **workingday** - whether the day is neither a weekend nor holiday\n",
        "- **weather** -\n",
        "  - 1: Clear, Few clouds, Partly cloudy, Partly cloudy\n",
        "  - 2: Mist + Cloudy, Mist + Broken clouds, Mist + Few clouds, Mist\n",
        "  - 3: Light Snow, Light Rain + Thunderstorm + Scattered clouds, Light Rain + Scattered clouds\n",
        "  - 4: Heavy Rain + Ice Pallets + Thunderstorm + Mist, Snow + Fog\n",
        "- **temp**- temperature in Celsius\n",
        "- **atemp** - \"feels like\" temperature in Celsius\n",
        "- **humidity** - relative humidity\n",
        "- **windspeed** - wind speed\n",
        "- **casual** - number of non-registered user rentals initiated\n",
        "- **registered** - number of registered user rentals initiated\n",
        "- **count** - number of total rentals\n",
        "\n",
        "\n"
      ],
      "metadata": {
        "id": "RqtYT6BI6efd"
      }
    },
    {
      "cell_type": "markdown",
      "source": [
        "## Section 2: Run this code\n",
        "*Note: These concepts are already covered in previous class.\n",
        "The explanation for the same is available in the pre-class video.*"
      ],
      "metadata": {
        "id": "3qjTpO89yljv"
      }
    },
    {
      "cell_type": "code",
      "source": [
        "# Import the necessary libraries\n",
        "import numpy as np\n",
        "import pandas as pd\n",
        "import seaborn as sns\n",
        "import matplotlib.pyplot as plt\n",
        "import seaborn as sns\n",
        "import warnings\n",
        "from sklearn.exceptions import ConvergenceWarning\n",
        "warnings.filterwarnings(\"ignore\", category=ConvergenceWarning)\n",
        "pd.set_option('display.max_colwidth', None)\n",
        "\n",
        "# from google.colab import drive\n",
        "# drive.mount('/content/drive', force_remount=True)\n",
        "\n",
        "# # Load the data\n",
        "# data = pd.read_csv(\"/content/drive/MyDrive/datasets/bike/full_data.csv\", header=0)\n",
        "\n",
        "from google.colab import files\n",
        "uploaded = files.upload()\n",
        "data = pd.read_csv(\"full_data.csv\")\n",
        "\n",
        "# Data Pre-processing\n",
        "data[\"datetime\"] = pd.to_datetime(data[\"datetime\"])\n",
        "data[\"hour\"] = data[\"datetime\"].dt.hour\n",
        "data[\"day_of_week\"] = data[\"datetime\"].dt.dayofweek\n",
        "data[\"month\"] = data[\"datetime\"].dt.month\n",
        "data[\"year\"] = data[\"datetime\"].dt.year\n",
        "data[\"datetime\"].dt.day.value_counts().sort_index()\n",
        "data.drop(columns=[\"datetime\"], inplace=True)"
      ],
      "metadata": {
        "id": "9siZWuC6ANjx",
        "colab": {
          "base_uri": "https://localhost:8080/",
          "height": 73
        },
        "outputId": "beaafae0-cc74-4686-d451-e3f1508db391"
      },
      "execution_count": null,
      "outputs": [
        {
          "output_type": "display_data",
          "data": {
            "text/plain": [
              "<IPython.core.display.HTML object>"
            ],
            "text/html": [
              "\n",
              "     <input type=\"file\" id=\"files-437bf434-853f-4e63-9394-6a04257101bf\" name=\"files[]\" multiple disabled\n",
              "        style=\"border:none\" />\n",
              "     <output id=\"result-437bf434-853f-4e63-9394-6a04257101bf\">\n",
              "      Upload widget is only available when the cell has been executed in the\n",
              "      current browser session. Please rerun this cell to enable.\n",
              "      </output>\n",
              "      <script>// Copyright 2017 Google LLC\n",
              "//\n",
              "// Licensed under the Apache License, Version 2.0 (the \"License\");\n",
              "// you may not use this file except in compliance with the License.\n",
              "// You may obtain a copy of the License at\n",
              "//\n",
              "//      http://www.apache.org/licenses/LICENSE-2.0\n",
              "//\n",
              "// Unless required by applicable law or agreed to in writing, software\n",
              "// distributed under the License is distributed on an \"AS IS\" BASIS,\n",
              "// WITHOUT WARRANTIES OR CONDITIONS OF ANY KIND, either express or implied.\n",
              "// See the License for the specific language governing permissions and\n",
              "// limitations under the License.\n",
              "\n",
              "/**\n",
              " * @fileoverview Helpers for google.colab Python module.\n",
              " */\n",
              "(function(scope) {\n",
              "function span(text, styleAttributes = {}) {\n",
              "  const element = document.createElement('span');\n",
              "  element.textContent = text;\n",
              "  for (const key of Object.keys(styleAttributes)) {\n",
              "    element.style[key] = styleAttributes[key];\n",
              "  }\n",
              "  return element;\n",
              "}\n",
              "\n",
              "// Max number of bytes which will be uploaded at a time.\n",
              "const MAX_PAYLOAD_SIZE = 100 * 1024;\n",
              "\n",
              "function _uploadFiles(inputId, outputId) {\n",
              "  const steps = uploadFilesStep(inputId, outputId);\n",
              "  const outputElement = document.getElementById(outputId);\n",
              "  // Cache steps on the outputElement to make it available for the next call\n",
              "  // to uploadFilesContinue from Python.\n",
              "  outputElement.steps = steps;\n",
              "\n",
              "  return _uploadFilesContinue(outputId);\n",
              "}\n",
              "\n",
              "// This is roughly an async generator (not supported in the browser yet),\n",
              "// where there are multiple asynchronous steps and the Python side is going\n",
              "// to poll for completion of each step.\n",
              "// This uses a Promise to block the python side on completion of each step,\n",
              "// then passes the result of the previous step as the input to the next step.\n",
              "function _uploadFilesContinue(outputId) {\n",
              "  const outputElement = document.getElementById(outputId);\n",
              "  const steps = outputElement.steps;\n",
              "\n",
              "  const next = steps.next(outputElement.lastPromiseValue);\n",
              "  return Promise.resolve(next.value.promise).then((value) => {\n",
              "    // Cache the last promise value to make it available to the next\n",
              "    // step of the generator.\n",
              "    outputElement.lastPromiseValue = value;\n",
              "    return next.value.response;\n",
              "  });\n",
              "}\n",
              "\n",
              "/**\n",
              " * Generator function which is called between each async step of the upload\n",
              " * process.\n",
              " * @param {string} inputId Element ID of the input file picker element.\n",
              " * @param {string} outputId Element ID of the output display.\n",
              " * @return {!Iterable<!Object>} Iterable of next steps.\n",
              " */\n",
              "function* uploadFilesStep(inputId, outputId) {\n",
              "  const inputElement = document.getElementById(inputId);\n",
              "  inputElement.disabled = false;\n",
              "\n",
              "  const outputElement = document.getElementById(outputId);\n",
              "  outputElement.innerHTML = '';\n",
              "\n",
              "  const pickedPromise = new Promise((resolve) => {\n",
              "    inputElement.addEventListener('change', (e) => {\n",
              "      resolve(e.target.files);\n",
              "    });\n",
              "  });\n",
              "\n",
              "  const cancel = document.createElement('button');\n",
              "  inputElement.parentElement.appendChild(cancel);\n",
              "  cancel.textContent = 'Cancel upload';\n",
              "  const cancelPromise = new Promise((resolve) => {\n",
              "    cancel.onclick = () => {\n",
              "      resolve(null);\n",
              "    };\n",
              "  });\n",
              "\n",
              "  // Wait for the user to pick the files.\n",
              "  const files = yield {\n",
              "    promise: Promise.race([pickedPromise, cancelPromise]),\n",
              "    response: {\n",
              "      action: 'starting',\n",
              "    }\n",
              "  };\n",
              "\n",
              "  cancel.remove();\n",
              "\n",
              "  // Disable the input element since further picks are not allowed.\n",
              "  inputElement.disabled = true;\n",
              "\n",
              "  if (!files) {\n",
              "    return {\n",
              "      response: {\n",
              "        action: 'complete',\n",
              "      }\n",
              "    };\n",
              "  }\n",
              "\n",
              "  for (const file of files) {\n",
              "    const li = document.createElement('li');\n",
              "    li.append(span(file.name, {fontWeight: 'bold'}));\n",
              "    li.append(span(\n",
              "        `(${file.type || 'n/a'}) - ${file.size} bytes, ` +\n",
              "        `last modified: ${\n",
              "            file.lastModifiedDate ? file.lastModifiedDate.toLocaleDateString() :\n",
              "                                    'n/a'} - `));\n",
              "    const percent = span('0% done');\n",
              "    li.appendChild(percent);\n",
              "\n",
              "    outputElement.appendChild(li);\n",
              "\n",
              "    const fileDataPromise = new Promise((resolve) => {\n",
              "      const reader = new FileReader();\n",
              "      reader.onload = (e) => {\n",
              "        resolve(e.target.result);\n",
              "      };\n",
              "      reader.readAsArrayBuffer(file);\n",
              "    });\n",
              "    // Wait for the data to be ready.\n",
              "    let fileData = yield {\n",
              "      promise: fileDataPromise,\n",
              "      response: {\n",
              "        action: 'continue',\n",
              "      }\n",
              "    };\n",
              "\n",
              "    // Use a chunked sending to avoid message size limits. See b/62115660.\n",
              "    let position = 0;\n",
              "    do {\n",
              "      const length = Math.min(fileData.byteLength - position, MAX_PAYLOAD_SIZE);\n",
              "      const chunk = new Uint8Array(fileData, position, length);\n",
              "      position += length;\n",
              "\n",
              "      const base64 = btoa(String.fromCharCode.apply(null, chunk));\n",
              "      yield {\n",
              "        response: {\n",
              "          action: 'append',\n",
              "          file: file.name,\n",
              "          data: base64,\n",
              "        },\n",
              "      };\n",
              "\n",
              "      let percentDone = fileData.byteLength === 0 ?\n",
              "          100 :\n",
              "          Math.round((position / fileData.byteLength) * 100);\n",
              "      percent.textContent = `${percentDone}% done`;\n",
              "\n",
              "    } while (position < fileData.byteLength);\n",
              "  }\n",
              "\n",
              "  // All done.\n",
              "  yield {\n",
              "    response: {\n",
              "      action: 'complete',\n",
              "    }\n",
              "  };\n",
              "}\n",
              "\n",
              "scope.google = scope.google || {};\n",
              "scope.google.colab = scope.google.colab || {};\n",
              "scope.google.colab._files = {\n",
              "  _uploadFiles,\n",
              "  _uploadFilesContinue,\n",
              "};\n",
              "})(self);\n",
              "</script> "
            ]
          },
          "metadata": {}
        },
        {
          "output_type": "stream",
          "name": "stdout",
          "text": [
            "Saving full_data.csv to full_data (1).csv\n"
          ]
        }
      ]
    },
    {
      "cell_type": "markdown",
      "source": [
        "## Section 3: Simple Linear Regression\n",
        "Simple linear regression is a statistical method used to understand the relationship between two variables: one independent variable (predictor) and one dependent variable (outcome). It finds the best-fitting straight line (called the regression line) through the data points, which can then be used to predict the dependent variable based on the independent variable. In essence, it's about drawing a line that best explains how changes in one variable are associated with changes in another.\n",
        "\n",
        "<center><img src=\"https://encrypted-tbn0.gstatic.com/images?q=tbn:ANd9GcRtw-eyPcWmDPv8ApYYZO4ZkL_kiE_XMk4Syw&s\"/></center>"
      ],
      "metadata": {
        "id": "8jTngLsG87DE"
      }
    },
    {
      "cell_type": "code",
      "source": [
        "# View the data\n",
        "data.head()"
      ],
      "metadata": {
        "colab": {
          "base_uri": "https://localhost:8080/",
          "height": 206
        },
        "id": "4ufYyx4u7Lb3",
        "outputId": "059b7cb1-15c6-4416-c195-7f3b0ef6e20d"
      },
      "execution_count": null,
      "outputs": [
        {
          "output_type": "execute_result",
          "data": {
            "text/plain": [
              "   season  holiday  workingday  weather  temp   atemp  humidity  windspeed  \\\n",
              "0       1        0           0        1  9.84  14.395        81        0.0   \n",
              "1       1        0           0        1  9.02  13.635        80        0.0   \n",
              "2       1        0           0        1  9.02  13.635        80        0.0   \n",
              "3       1        0           0        1  9.84  14.395        75        0.0   \n",
              "4       1        0           0        1  9.84  14.395        75        0.0   \n",
              "\n",
              "   casual  registered  count  hour  day_of_week  month  year  \n",
              "0     3.0        13.0   16.0     0            5      1  2011  \n",
              "1     8.0        32.0   40.0     1            5      1  2011  \n",
              "2     5.0        27.0   32.0     2            5      1  2011  \n",
              "3     3.0        10.0   13.0     3            5      1  2011  \n",
              "4     0.0         1.0    1.0     4            5      1  2011  "
            ],
            "text/html": [
              "\n",
              "  <div id=\"df-68c5fd6f-9a87-4aea-9095-b1c16e1201e2\" class=\"colab-df-container\">\n",
              "    <div>\n",
              "<style scoped>\n",
              "    .dataframe tbody tr th:only-of-type {\n",
              "        vertical-align: middle;\n",
              "    }\n",
              "\n",
              "    .dataframe tbody tr th {\n",
              "        vertical-align: top;\n",
              "    }\n",
              "\n",
              "    .dataframe thead th {\n",
              "        text-align: right;\n",
              "    }\n",
              "</style>\n",
              "<table border=\"1\" class=\"dataframe\">\n",
              "  <thead>\n",
              "    <tr style=\"text-align: right;\">\n",
              "      <th></th>\n",
              "      <th>season</th>\n",
              "      <th>holiday</th>\n",
              "      <th>workingday</th>\n",
              "      <th>weather</th>\n",
              "      <th>temp</th>\n",
              "      <th>atemp</th>\n",
              "      <th>humidity</th>\n",
              "      <th>windspeed</th>\n",
              "      <th>casual</th>\n",
              "      <th>registered</th>\n",
              "      <th>count</th>\n",
              "      <th>hour</th>\n",
              "      <th>day_of_week</th>\n",
              "      <th>month</th>\n",
              "      <th>year</th>\n",
              "    </tr>\n",
              "  </thead>\n",
              "  <tbody>\n",
              "    <tr>\n",
              "      <th>0</th>\n",
              "      <td>1</td>\n",
              "      <td>0</td>\n",
              "      <td>0</td>\n",
              "      <td>1</td>\n",
              "      <td>9.84</td>\n",
              "      <td>14.395</td>\n",
              "      <td>81</td>\n",
              "      <td>0.0</td>\n",
              "      <td>3.0</td>\n",
              "      <td>13.0</td>\n",
              "      <td>16.0</td>\n",
              "      <td>0</td>\n",
              "      <td>5</td>\n",
              "      <td>1</td>\n",
              "      <td>2011</td>\n",
              "    </tr>\n",
              "    <tr>\n",
              "      <th>1</th>\n",
              "      <td>1</td>\n",
              "      <td>0</td>\n",
              "      <td>0</td>\n",
              "      <td>1</td>\n",
              "      <td>9.02</td>\n",
              "      <td>13.635</td>\n",
              "      <td>80</td>\n",
              "      <td>0.0</td>\n",
              "      <td>8.0</td>\n",
              "      <td>32.0</td>\n",
              "      <td>40.0</td>\n",
              "      <td>1</td>\n",
              "      <td>5</td>\n",
              "      <td>1</td>\n",
              "      <td>2011</td>\n",
              "    </tr>\n",
              "    <tr>\n",
              "      <th>2</th>\n",
              "      <td>1</td>\n",
              "      <td>0</td>\n",
              "      <td>0</td>\n",
              "      <td>1</td>\n",
              "      <td>9.02</td>\n",
              "      <td>13.635</td>\n",
              "      <td>80</td>\n",
              "      <td>0.0</td>\n",
              "      <td>5.0</td>\n",
              "      <td>27.0</td>\n",
              "      <td>32.0</td>\n",
              "      <td>2</td>\n",
              "      <td>5</td>\n",
              "      <td>1</td>\n",
              "      <td>2011</td>\n",
              "    </tr>\n",
              "    <tr>\n",
              "      <th>3</th>\n",
              "      <td>1</td>\n",
              "      <td>0</td>\n",
              "      <td>0</td>\n",
              "      <td>1</td>\n",
              "      <td>9.84</td>\n",
              "      <td>14.395</td>\n",
              "      <td>75</td>\n",
              "      <td>0.0</td>\n",
              "      <td>3.0</td>\n",
              "      <td>10.0</td>\n",
              "      <td>13.0</td>\n",
              "      <td>3</td>\n",
              "      <td>5</td>\n",
              "      <td>1</td>\n",
              "      <td>2011</td>\n",
              "    </tr>\n",
              "    <tr>\n",
              "      <th>4</th>\n",
              "      <td>1</td>\n",
              "      <td>0</td>\n",
              "      <td>0</td>\n",
              "      <td>1</td>\n",
              "      <td>9.84</td>\n",
              "      <td>14.395</td>\n",
              "      <td>75</td>\n",
              "      <td>0.0</td>\n",
              "      <td>0.0</td>\n",
              "      <td>1.0</td>\n",
              "      <td>1.0</td>\n",
              "      <td>4</td>\n",
              "      <td>5</td>\n",
              "      <td>1</td>\n",
              "      <td>2011</td>\n",
              "    </tr>\n",
              "  </tbody>\n",
              "</table>\n",
              "</div>\n",
              "    <div class=\"colab-df-buttons\">\n",
              "\n",
              "  <div class=\"colab-df-container\">\n",
              "    <button class=\"colab-df-convert\" onclick=\"convertToInteractive('df-68c5fd6f-9a87-4aea-9095-b1c16e1201e2')\"\n",
              "            title=\"Convert this dataframe to an interactive table.\"\n",
              "            style=\"display:none;\">\n",
              "\n",
              "  <svg xmlns=\"http://www.w3.org/2000/svg\" height=\"24px\" viewBox=\"0 -960 960 960\">\n",
              "    <path d=\"M120-120v-720h720v720H120Zm60-500h600v-160H180v160Zm220 220h160v-160H400v160Zm0 220h160v-160H400v160ZM180-400h160v-160H180v160Zm440 0h160v-160H620v160ZM180-180h160v-160H180v160Zm440 0h160v-160H620v160Z\"/>\n",
              "  </svg>\n",
              "    </button>\n",
              "\n",
              "  <style>\n",
              "    .colab-df-container {\n",
              "      display:flex;\n",
              "      gap: 12px;\n",
              "    }\n",
              "\n",
              "    .colab-df-convert {\n",
              "      background-color: #E8F0FE;\n",
              "      border: none;\n",
              "      border-radius: 50%;\n",
              "      cursor: pointer;\n",
              "      display: none;\n",
              "      fill: #1967D2;\n",
              "      height: 32px;\n",
              "      padding: 0 0 0 0;\n",
              "      width: 32px;\n",
              "    }\n",
              "\n",
              "    .colab-df-convert:hover {\n",
              "      background-color: #E2EBFA;\n",
              "      box-shadow: 0px 1px 2px rgba(60, 64, 67, 0.3), 0px 1px 3px 1px rgba(60, 64, 67, 0.15);\n",
              "      fill: #174EA6;\n",
              "    }\n",
              "\n",
              "    .colab-df-buttons div {\n",
              "      margin-bottom: 4px;\n",
              "    }\n",
              "\n",
              "    [theme=dark] .colab-df-convert {\n",
              "      background-color: #3B4455;\n",
              "      fill: #D2E3FC;\n",
              "    }\n",
              "\n",
              "    [theme=dark] .colab-df-convert:hover {\n",
              "      background-color: #434B5C;\n",
              "      box-shadow: 0px 1px 3px 1px rgba(0, 0, 0, 0.15);\n",
              "      filter: drop-shadow(0px 1px 2px rgba(0, 0, 0, 0.3));\n",
              "      fill: #FFFFFF;\n",
              "    }\n",
              "  </style>\n",
              "\n",
              "    <script>\n",
              "      const buttonEl =\n",
              "        document.querySelector('#df-68c5fd6f-9a87-4aea-9095-b1c16e1201e2 button.colab-df-convert');\n",
              "      buttonEl.style.display =\n",
              "        google.colab.kernel.accessAllowed ? 'block' : 'none';\n",
              "\n",
              "      async function convertToInteractive(key) {\n",
              "        const element = document.querySelector('#df-68c5fd6f-9a87-4aea-9095-b1c16e1201e2');\n",
              "        const dataTable =\n",
              "          await google.colab.kernel.invokeFunction('convertToInteractive',\n",
              "                                                    [key], {});\n",
              "        if (!dataTable) return;\n",
              "\n",
              "        const docLinkHtml = 'Like what you see? Visit the ' +\n",
              "          '<a target=\"_blank\" href=https://colab.research.google.com/notebooks/data_table.ipynb>data table notebook</a>'\n",
              "          + ' to learn more about interactive tables.';\n",
              "        element.innerHTML = '';\n",
              "        dataTable['output_type'] = 'display_data';\n",
              "        await google.colab.output.renderOutput(dataTable, element);\n",
              "        const docLink = document.createElement('div');\n",
              "        docLink.innerHTML = docLinkHtml;\n",
              "        element.appendChild(docLink);\n",
              "      }\n",
              "    </script>\n",
              "  </div>\n",
              "\n",
              "\n",
              "<div id=\"df-7aaa0b23-b934-4123-b801-cdf5cf936cf6\">\n",
              "  <button class=\"colab-df-quickchart\" onclick=\"quickchart('df-7aaa0b23-b934-4123-b801-cdf5cf936cf6')\"\n",
              "            title=\"Suggest charts\"\n",
              "            style=\"display:none;\">\n",
              "\n",
              "<svg xmlns=\"http://www.w3.org/2000/svg\" height=\"24px\"viewBox=\"0 0 24 24\"\n",
              "     width=\"24px\">\n",
              "    <g>\n",
              "        <path d=\"M19 3H5c-1.1 0-2 .9-2 2v14c0 1.1.9 2 2 2h14c1.1 0 2-.9 2-2V5c0-1.1-.9-2-2-2zM9 17H7v-7h2v7zm4 0h-2V7h2v10zm4 0h-2v-4h2v4z\"/>\n",
              "    </g>\n",
              "</svg>\n",
              "  </button>\n",
              "\n",
              "<style>\n",
              "  .colab-df-quickchart {\n",
              "      --bg-color: #E8F0FE;\n",
              "      --fill-color: #1967D2;\n",
              "      --hover-bg-color: #E2EBFA;\n",
              "      --hover-fill-color: #174EA6;\n",
              "      --disabled-fill-color: #AAA;\n",
              "      --disabled-bg-color: #DDD;\n",
              "  }\n",
              "\n",
              "  [theme=dark] .colab-df-quickchart {\n",
              "      --bg-color: #3B4455;\n",
              "      --fill-color: #D2E3FC;\n",
              "      --hover-bg-color: #434B5C;\n",
              "      --hover-fill-color: #FFFFFF;\n",
              "      --disabled-bg-color: #3B4455;\n",
              "      --disabled-fill-color: #666;\n",
              "  }\n",
              "\n",
              "  .colab-df-quickchart {\n",
              "    background-color: var(--bg-color);\n",
              "    border: none;\n",
              "    border-radius: 50%;\n",
              "    cursor: pointer;\n",
              "    display: none;\n",
              "    fill: var(--fill-color);\n",
              "    height: 32px;\n",
              "    padding: 0;\n",
              "    width: 32px;\n",
              "  }\n",
              "\n",
              "  .colab-df-quickchart:hover {\n",
              "    background-color: var(--hover-bg-color);\n",
              "    box-shadow: 0 1px 2px rgba(60, 64, 67, 0.3), 0 1px 3px 1px rgba(60, 64, 67, 0.15);\n",
              "    fill: var(--button-hover-fill-color);\n",
              "  }\n",
              "\n",
              "  .colab-df-quickchart-complete:disabled,\n",
              "  .colab-df-quickchart-complete:disabled:hover {\n",
              "    background-color: var(--disabled-bg-color);\n",
              "    fill: var(--disabled-fill-color);\n",
              "    box-shadow: none;\n",
              "  }\n",
              "\n",
              "  .colab-df-spinner {\n",
              "    border: 2px solid var(--fill-color);\n",
              "    border-color: transparent;\n",
              "    border-bottom-color: var(--fill-color);\n",
              "    animation:\n",
              "      spin 1s steps(1) infinite;\n",
              "  }\n",
              "\n",
              "  @keyframes spin {\n",
              "    0% {\n",
              "      border-color: transparent;\n",
              "      border-bottom-color: var(--fill-color);\n",
              "      border-left-color: var(--fill-color);\n",
              "    }\n",
              "    20% {\n",
              "      border-color: transparent;\n",
              "      border-left-color: var(--fill-color);\n",
              "      border-top-color: var(--fill-color);\n",
              "    }\n",
              "    30% {\n",
              "      border-color: transparent;\n",
              "      border-left-color: var(--fill-color);\n",
              "      border-top-color: var(--fill-color);\n",
              "      border-right-color: var(--fill-color);\n",
              "    }\n",
              "    40% {\n",
              "      border-color: transparent;\n",
              "      border-right-color: var(--fill-color);\n",
              "      border-top-color: var(--fill-color);\n",
              "    }\n",
              "    60% {\n",
              "      border-color: transparent;\n",
              "      border-right-color: var(--fill-color);\n",
              "    }\n",
              "    80% {\n",
              "      border-color: transparent;\n",
              "      border-right-color: var(--fill-color);\n",
              "      border-bottom-color: var(--fill-color);\n",
              "    }\n",
              "    90% {\n",
              "      border-color: transparent;\n",
              "      border-bottom-color: var(--fill-color);\n",
              "    }\n",
              "  }\n",
              "</style>\n",
              "\n",
              "  <script>\n",
              "    async function quickchart(key) {\n",
              "      const quickchartButtonEl =\n",
              "        document.querySelector('#' + key + ' button');\n",
              "      quickchartButtonEl.disabled = true;  // To prevent multiple clicks.\n",
              "      quickchartButtonEl.classList.add('colab-df-spinner');\n",
              "      try {\n",
              "        const charts = await google.colab.kernel.invokeFunction(\n",
              "            'suggestCharts', [key], {});\n",
              "      } catch (error) {\n",
              "        console.error('Error during call to suggestCharts:', error);\n",
              "      }\n",
              "      quickchartButtonEl.classList.remove('colab-df-spinner');\n",
              "      quickchartButtonEl.classList.add('colab-df-quickchart-complete');\n",
              "    }\n",
              "    (() => {\n",
              "      let quickchartButtonEl =\n",
              "        document.querySelector('#df-7aaa0b23-b934-4123-b801-cdf5cf936cf6 button');\n",
              "      quickchartButtonEl.style.display =\n",
              "        google.colab.kernel.accessAllowed ? 'block' : 'none';\n",
              "    })();\n",
              "  </script>\n",
              "</div>\n",
              "\n",
              "    </div>\n",
              "  </div>\n"
            ],
            "application/vnd.google.colaboratory.intrinsic+json": {
              "type": "dataframe",
              "variable_name": "data",
              "summary": "{\n  \"name\": \"data\",\n  \"rows\": 17379,\n  \"fields\": [\n    {\n      \"column\": \"season\",\n      \"properties\": {\n        \"dtype\": \"number\",\n        \"std\": 1,\n        \"min\": 1,\n        \"max\": 4,\n        \"num_unique_values\": 4,\n        \"samples\": [\n          2,\n          4,\n          1\n        ],\n        \"semantic_type\": \"\",\n        \"description\": \"\"\n      }\n    },\n    {\n      \"column\": \"holiday\",\n      \"properties\": {\n        \"dtype\": \"number\",\n        \"std\": 0,\n        \"min\": 0,\n        \"max\": 1,\n        \"num_unique_values\": 2,\n        \"samples\": [\n          1,\n          0\n        ],\n        \"semantic_type\": \"\",\n        \"description\": \"\"\n      }\n    },\n    {\n      \"column\": \"workingday\",\n      \"properties\": {\n        \"dtype\": \"number\",\n        \"std\": 0,\n        \"min\": 0,\n        \"max\": 1,\n        \"num_unique_values\": 2,\n        \"samples\": [\n          1,\n          0\n        ],\n        \"semantic_type\": \"\",\n        \"description\": \"\"\n      }\n    },\n    {\n      \"column\": \"weather\",\n      \"properties\": {\n        \"dtype\": \"number\",\n        \"std\": 0,\n        \"min\": 1,\n        \"max\": 4,\n        \"num_unique_values\": 4,\n        \"samples\": [\n          2,\n          4\n        ],\n        \"semantic_type\": \"\",\n        \"description\": \"\"\n      }\n    },\n    {\n      \"column\": \"temp\",\n      \"properties\": {\n        \"dtype\": \"number\",\n        \"std\": 7.894800971238598,\n        \"min\": 0.82,\n        \"max\": 41.0,\n        \"num_unique_values\": 50,\n        \"samples\": [\n          6.56,\n          32.8\n        ],\n        \"semantic_type\": \"\",\n        \"description\": \"\"\n      }\n    },\n    {\n      \"column\": \"atemp\",\n      \"properties\": {\n        \"dtype\": \"number\",\n        \"std\": 8.592510781767972,\n        \"min\": 0.0,\n        \"max\": 50.0,\n        \"num_unique_values\": 65,\n        \"samples\": [\n          38.635,\n          0.0\n        ],\n        \"semantic_type\": \"\",\n        \"description\": \"\"\n      }\n    },\n    {\n      \"column\": \"humidity\",\n      \"properties\": {\n        \"dtype\": \"number\",\n        \"std\": 19,\n        \"min\": 0,\n        \"max\": 100,\n        \"num_unique_values\": 89,\n        \"samples\": [\n          29,\n          61\n        ],\n        \"semantic_type\": \"\",\n        \"description\": \"\"\n      }\n    },\n    {\n      \"column\": \"windspeed\",\n      \"properties\": {\n        \"dtype\": \"number\",\n        \"std\": 8.196795314376963,\n        \"min\": 0.0,\n        \"max\": 56.9969,\n        \"num_unique_values\": 30,\n        \"samples\": [\n          47.9988,\n          32.9975\n        ],\n        \"semantic_type\": \"\",\n        \"description\": \"\"\n      }\n    },\n    {\n      \"column\": \"casual\",\n      \"properties\": {\n        \"dtype\": \"number\",\n        \"std\": 49.960476572649526,\n        \"min\": 0.0,\n        \"max\": 367.0,\n        \"num_unique_values\": 309,\n        \"samples\": [\n          287.0,\n          47.0\n        ],\n        \"semantic_type\": \"\",\n        \"description\": \"\"\n      }\n    },\n    {\n      \"column\": \"registered\",\n      \"properties\": {\n        \"dtype\": \"number\",\n        \"std\": 151.03903308192454,\n        \"min\": 0.0,\n        \"max\": 886.0,\n        \"num_unique_values\": 731,\n        \"samples\": [\n          566.0,\n          9.0\n        ],\n        \"semantic_type\": \"\",\n        \"description\": \"\"\n      }\n    },\n    {\n      \"column\": \"count\",\n      \"properties\": {\n        \"dtype\": \"number\",\n        \"std\": 181.14445383028527,\n        \"min\": 1.0,\n        \"max\": 977.0,\n        \"num_unique_values\": 822,\n        \"samples\": [\n          626.0,\n          256.0\n        ],\n        \"semantic_type\": \"\",\n        \"description\": \"\"\n      }\n    },\n    {\n      \"column\": \"hour\",\n      \"properties\": {\n        \"dtype\": \"int32\",\n        \"num_unique_values\": 24,\n        \"samples\": [\n          8,\n          16\n        ],\n        \"semantic_type\": \"\",\n        \"description\": \"\"\n      }\n    },\n    {\n      \"column\": \"day_of_week\",\n      \"properties\": {\n        \"dtype\": \"int32\",\n        \"num_unique_values\": 7,\n        \"samples\": [\n          5,\n          6\n        ],\n        \"semantic_type\": \"\",\n        \"description\": \"\"\n      }\n    },\n    {\n      \"column\": \"month\",\n      \"properties\": {\n        \"dtype\": \"int32\",\n        \"num_unique_values\": 12,\n        \"samples\": [\n          11,\n          10\n        ],\n        \"semantic_type\": \"\",\n        \"description\": \"\"\n      }\n    },\n    {\n      \"column\": \"year\",\n      \"properties\": {\n        \"dtype\": \"int32\",\n        \"num_unique_values\": 2,\n        \"samples\": [\n          2012,\n          2011\n        ],\n        \"semantic_type\": \"\",\n        \"description\": \"\"\n      }\n    }\n  ]\n}"
            }
          },
          "metadata": {},
          "execution_count": 32
        }
      ]
    },
    {
      "cell_type": "markdown",
      "source": [
        "`count` is the target variable - the variable whose values will be predicted.\n",
        "\n",
        "Let's find out which of the independent variables influence `count` the most."
      ],
      "metadata": {
        "id": "UiPGIA0E-K_k"
      }
    },
    {
      "cell_type": "code",
      "source": [
        "# Find out the correlation of the variables with 'count'\n",
        "plt.figure(figsize=(12,8))\n",
        "sns.heatmap(data.corr(), annot=True, cmap='coolwarm', linewidths=.5)\n",
        "plt.title('Correlation Heatmap')\n",
        "plt.show()"
      ],
      "metadata": {
        "colab": {
          "base_uri": "https://localhost:8080/",
          "height": 774
        },
        "id": "D5lnexYZ-HDh",
        "outputId": "422ef5c3-a897-4464-ea3f-977b2a7e8b07"
      },
      "execution_count": null,
      "outputs": [
        {
          "output_type": "display_data",
          "data": {
            "text/plain": [
              "<Figure size 1200x800 with 2 Axes>"
            ],
            "image/png": "[encoded data removed]"
          },
          "metadata": {}
        }
      ]
    },
    {
      "cell_type": "markdown",
      "source": [
        "Observations:\n",
        "- Casual + Registered = Count. So, these variables are highly correlated.\n",
        "- `temp` has a good correlation with `count`.\n",
        "\n",
        "Let's try to fit a simple linear regression model to understand how `temp` influences `count`.\n"
      ],
      "metadata": {
        "id": "v2h15dfnDzq0"
      }
    },
    {
      "cell_type": "code",
      "source": [
        "# Check the data\n",
        "data.info()"
      ],
      "metadata": {
        "colab": {
          "base_uri": "https://localhost:8080/"
        },
        "id": "u_VbsE-4__dj",
        "outputId": "5e9560f7-ab28-4cf9-a867-d0ab479bdfe9"
      },
      "execution_count": null,
      "outputs": [
        {
          "output_type": "stream",
          "name": "stdout",
          "text": [
            "<class 'pandas.core.frame.DataFrame'>\n",
            "RangeIndex: 17379 entries, 0 to 17378\n",
            "Data columns (total 15 columns):\n",
            " #   Column       Non-Null Count  Dtype  \n",
            "---  ------       --------------  -----  \n",
            " 0   season       17379 non-null  int64  \n",
            " 1   holiday      17379 non-null  int64  \n",
            " 2   workingday   17379 non-null  int64  \n",
            " 3   weather      17379 non-null  int64  \n",
            " 4   temp         17379 non-null  float64\n",
            " 5   atemp        17379 non-null  float64\n",
            " 6   humidity     17379 non-null  int64  \n",
            " 7   windspeed    17379 non-null  float64\n",
            " 8   casual       10886 non-null  float64\n",
            " 9   registered   10886 non-null  float64\n",
            " 10  count        10886 non-null  float64\n",
            " 11  hour         17379 non-null  int32  \n",
            " 12  day_of_week  17379 non-null  int32  \n",
            " 13  month        17379 non-null  int32  \n",
            " 14  year         17379 non-null  int32  \n",
            "dtypes: float64(6), int32(4), int64(5)\n",
            "memory usage: 1.7 MB\n"
          ]
        }
      ]
    },
    {
      "cell_type": "markdown",
      "source": [
        "#### Observation:\n",
        "There are missing values in the target variable `count`. So, those rows are not useful for the analysis. So, let's drop them."
      ],
      "metadata": {
        "id": "VrrQGTw-A0lt"
      }
    },
    {
      "cell_type": "code",
      "source": [
        "# Remove the rows with missing values\n",
        "data= data.dropna()\n",
        "data.isna().sum()"
      ],
      "metadata": {
        "colab": {
          "base_uri": "https://localhost:8080/",
          "height": 554
        },
        "id": "t5E112eQAYyg",
        "outputId": "59768579-94a4-45ef-db4e-91dcb74ad7b3"
      },
      "execution_count": null,
      "outputs": [
        {
          "output_type": "execute_result",
          "data": {
            "text/plain": [
              "season         0\n",
              "holiday        0\n",
              "workingday     0\n",
              "weather        0\n",
              "temp           0\n",
              "atemp          0\n",
              "humidity       0\n",
              "windspeed      0\n",
              "casual         0\n",
              "registered     0\n",
              "count          0\n",
              "hour           0\n",
              "day_of_week    0\n",
              "month          0\n",
              "year           0\n",
              "dtype: int64"
            ],
            "text/html": [
              "<div>\n",
              "<style scoped>\n",
              "    .dataframe tbody tr th:only-of-type {\n",
              "        vertical-align: middle;\n",
              "    }\n",
              "\n",
              "    .dataframe tbody tr th {\n",
              "        vertical-align: top;\n",
              "    }\n",
              "\n",
              "    .dataframe thead th {\n",
              "        text-align: right;\n",
              "    }\n",
              "</style>\n",
              "<table border=\"1\" class=\"dataframe\">\n",
              "  <thead>\n",
              "    <tr style=\"text-align: right;\">\n",
              "      <th></th>\n",
              "      <th>0</th>\n",
              "    </tr>\n",
              "  </thead>\n",
              "  <tbody>\n",
              "    <tr>\n",
              "      <th>season</th>\n",
              "      <td>0</td>\n",
              "    </tr>\n",
              "    <tr>\n",
              "      <th>holiday</th>\n",
              "      <td>0</td>\n",
              "    </tr>\n",
              "    <tr>\n",
              "      <th>workingday</th>\n",
              "      <td>0</td>\n",
              "    </tr>\n",
              "    <tr>\n",
              "      <th>weather</th>\n",
              "      <td>0</td>\n",
              "    </tr>\n",
              "    <tr>\n",
              "      <th>temp</th>\n",
              "      <td>0</td>\n",
              "    </tr>\n",
              "    <tr>\n",
              "      <th>atemp</th>\n",
              "      <td>0</td>\n",
              "    </tr>\n",
              "    <tr>\n",
              "      <th>humidity</th>\n",
              "      <td>0</td>\n",
              "    </tr>\n",
              "    <tr>\n",
              "      <th>windspeed</th>\n",
              "      <td>0</td>\n",
              "    </tr>\n",
              "    <tr>\n",
              "      <th>casual</th>\n",
              "      <td>0</td>\n",
              "    </tr>\n",
              "    <tr>\n",
              "      <th>registered</th>\n",
              "      <td>0</td>\n",
              "    </tr>\n",
              "    <tr>\n",
              "      <th>count</th>\n",
              "      <td>0</td>\n",
              "    </tr>\n",
              "    <tr>\n",
              "      <th>hour</th>\n",
              "      <td>0</td>\n",
              "    </tr>\n",
              "    <tr>\n",
              "      <th>day_of_week</th>\n",
              "      <td>0</td>\n",
              "    </tr>\n",
              "    <tr>\n",
              "      <th>month</th>\n",
              "      <td>0</td>\n",
              "    </tr>\n",
              "    <tr>\n",
              "      <th>year</th>\n",
              "      <td>0</td>\n",
              "    </tr>\n",
              "  </tbody>\n",
              "</table>\n",
              "</div><br><label><b>dtype:</b> int64</label>"
            ]
          },
          "metadata": {},
          "execution_count": 35
        }
      ]
    },
    {
      "cell_type": "markdown",
      "source": [
        "#### Observation:\n",
        "There are no missing values and the data is ready for modelling."
      ],
      "metadata": {
        "id": "FVnHWr9SA-Y_"
      }
    },
    {
      "cell_type": "markdown",
      "source": [
        "Note: `x['data']` is a list or 1D array, but to fit a regression model, we need a 2D array (with rows as samples and columns as features). To reshape it into a 2D array, we use `reshape(-1, 1)`, where `-1` automatically adjusts the number of rows based on the data length, and `1` creates a single column, making it ready for the model."
      ],
      "metadata": {
        "id": "VCuvSZo_-q-K"
      }
    },
    {
      "cell_type": "code",
      "source": [
        "# Split the independent feature variable(X) and target variable(y)\n",
        "X = data['temp'].values.reshape(-1, 1)\n",
        "y = data['count']"
      ],
      "metadata": {
        "id": "h947fGyMBTqr"
      },
      "execution_count": null,
      "outputs": []
    },
    {
      "cell_type": "code",
      "source": [
        "# Split the data into train and test data\n",
        "from sklearn.model_selection import train_test_split\n",
        "X_train, X_test, y_train, y_test = train_test_split(X, y, test_size=0.2, random_state=42)\n",
        "\n",
        "# Display the first few rows of the prepared data\n",
        "print(\"Training features:\\n\", X_train[:5])\n",
        "print(\"Training target:\\n\", y_train[:5])\n",
        "print(\"Testing features:\\n\", X_test[:5])\n",
        "print(\"Testing target:\\n\", y_test[:5])"
      ],
      "metadata": {
        "colab": {
          "base_uri": "https://localhost:8080/"
        },
        "id": "Od_U0comBjYS",
        "outputId": "815bccc1-9977-4029-e001-257c104579e4"
      },
      "execution_count": null,
      "outputs": [
        {
          "output_type": "stream",
          "name": "stdout",
          "text": [
            "Training features:\n",
            " [[27.88]\n",
            " [36.9 ]\n",
            " [32.8 ]\n",
            " [14.76]\n",
            " [13.12]]\n",
            "Training target:\n",
            " 2815     35.0\n",
            "8695    450.0\n",
            "8406    276.0\n",
            "1543      5.0\n",
            "4952    200.0\n",
            "Name: count, dtype: float64\n",
            "Testing features:\n",
            " [[33.62]\n",
            " [ 4.1 ]\n",
            " [ 9.84]\n",
            " [29.52]\n",
            " [25.42]]\n",
            "Testing target:\n",
            " 3133    127.0\n",
            "5786     13.0\n",
            "5224    163.0\n",
            "8953    233.0\n",
            "8054    222.0\n",
            "Name: count, dtype: float64\n"
          ]
        }
      ]
    },
    {
      "cell_type": "code",
      "source": [
        "from sklearn.linear_model import LinearRegression\n",
        "# Initialize the Linear Regression model\n",
        "lr_model = LinearRegression()\n",
        "\n",
        "# Fit the model to the training data\n",
        "lr_model.fit(X_train, y_train)\n",
        "\n",
        "# Make predictions on the test data\n",
        "y_pred = lr_model.predict(X_test)\n",
        "y_pred"
      ],
      "metadata": {
        "colab": {
          "base_uri": "https://localhost:8080/"
        },
        "id": "xk57opHnBqr2",
        "outputId": "ca054be5-25b0-4c43-ef6b-a70496487bfe"
      },
      "execution_count": null,
      "outputs": [
        {
          "output_type": "execute_result",
          "data": {
            "text/plain": [
              "array([312.60423977,  45.01954576,  97.04990293, ..., 156.51316826,\n",
              "       111.91571926, 245.70806627])"
            ]
          },
          "metadata": {},
          "execution_count": 38
        }
      ]
    },
    {
      "cell_type": "markdown",
      "source": [
        "### Coefficients of the Model\n",
        "Let's check the coefficients of the model in a linear regression equation \\( Y = aX + b \\) (where \\( a \\) is the slope and \\( b \\) is the intercept).\n",
        "\n",
        "- `model.coef_` gives the value of \\( a \\), the slope (coefficient) of the feature(s).\n",
        "- `model.intercept_` gives the value of \\( b \\), the intercept of the regression line."
      ],
      "metadata": {
        "id": "yGtCHVUlLGrc"
      }
    },
    {
      "cell_type": "code",
      "source": [
        "print(\"The best fit line is:\",lr_model.coef_[0],\"X+\",lr_model.intercept_)"
      ],
      "metadata": {
        "colab": {
          "base_uri": "https://localhost:8080/"
        },
        "id": "14xeVVO7B5BE",
        "outputId": "d6f1d002-dbf9-43fd-c128-417ac27b0ba8"
      },
      "execution_count": null,
      "outputs": [
        {
          "output_type": "stream",
          "name": "stdout",
          "text": [
            "The best fit line is: 9.064522154841193 X+ 7.855004923758514\n"
          ]
        }
      ]
    },
    {
      "cell_type": "markdown",
      "source": [
        "### Visualizing the Regression Fit\n",
        "\n",
        "Let's visualize the regression line. The purpose of this plot is to visualize the relationship between temperature (X) and the number of bike rentals (Y), and to assess how well a linear regression model fits the data. The scatterplot displays actual data points, while the regression line helps in understanding the trend and making predictions."
      ],
      "metadata": {
        "id": "HyWSHOENOcWR"
      }
    },
    {
      "cell_type": "code",
      "source": [
        "# Plotting\n",
        "plt.scatter(X_test, y_test, color='blue', label='Actual Data')\n",
        "plt.plot(X_test, y_pred, color='red', label='Regression Line')\n",
        "plt.xlabel('Temperature (X)')\n",
        "plt.ylabel('Count (Y)')\n",
        "plt.title('Temperature vs Count with Regression Line')\n",
        "plt.legend()\n",
        "plt.show()"
      ],
      "metadata": {
        "colab": {
          "base_uri": "https://localhost:8080/",
          "height": 472
        },
        "id": "YhKx8sblNrNC",
        "outputId": "e1c16600-d6a8-4e11-f661-41c03d3b41a1"
      },
      "execution_count": null,
      "outputs": [
        {
          "output_type": "display_data",
          "data": {
            "text/plain": [
              "<Figure size 640x480 with 1 Axes>"
            ],
            "image/png": "[encoded data removed]"
          },
          "metadata": {}
        }
      ]
    },
    {
      "cell_type": "markdown",
      "source": [
        "#### Interpretation:\n",
        "- The scatterplot shows a positive trend between temperature and bike rentals, suggesting that higher temperatures generally lead to more bike rentals. This is captured by the upward-sloping regression line.\n",
        "- The data points are widely spread around the regression line, particularly at higher temperatures, indicating that the linear model captures the overall trend but may not be the best fit for all the data points. There is significant variability that the model does not account for.\n",
        "\n",
        "To quantify the goodness of fit, let's calculate metrics such as R-squared (which measures the proportion of variance in the dependent variable explained by the model) or Mean Squared Error (MSE) (which measures the average of the squares of the errors).\n"
      ],
      "metadata": {
        "id": "nIp9R2r4UVee"
      }
    },
    {
      "cell_type": "markdown",
      "source": [
        "### Evaluation of the Model\n",
        "Evaluating a regression model is a crucial step to determine how well it predicts the target variable.\n",
        "\n",
        "<center><img src=\"https://miro.medium.com/v2/resize:fit:1280/0*pYX4gfGQg7UYm8LQ\" width=500 height=300/></center>\n",
        "\n",
        "There are various errors and the goal is to minimize the error.\n",
        "<center><img src=\"https://miro.medium.com/v2/resize:fit:1200/1*rVTCIffI2D_-i_CGeHwF6A.png\" width=600 height=400/></center>\n",
        "\n",
        "\n",
        "A higher R-squared value closer to 1 would indicate a better fit, while a lower MSE would suggest that the model's predictions are closer to the actual data points."
      ],
      "metadata": {
        "id": "JeXGORRtCe_I"
      }
    },
    {
      "cell_type": "code",
      "source": [
        "from sklearn.metrics import mean_squared_error, r2_score, mean_absolute_error\n",
        "# Evaluate the model\n",
        "mae = mean_absolute_error(y_test, y_pred)\n",
        "mse = mean_squared_error(y_test, y_pred)\n",
        "r2 = r2_score(y_test, y_pred)\n",
        "\n",
        "# Print the evaluation metrics\n",
        "print(\"Linear Regression Model Evaluation:\")\n",
        "print(f\"Mean Absolute Error (MAE): {mae}\")\n",
        "print(f\"Mean Squared Error (MSE): {mse}\")\n",
        "print(f\"R-squared (R2): {r2}\")"
      ],
      "metadata": {
        "colab": {
          "base_uri": "https://localhost:8080/"
        },
        "id": "3NXZO1FeCS05",
        "outputId": "82fac933-5b99-4014-dceb-e0b274de42cd"
      },
      "execution_count": null,
      "outputs": [
        {
          "output_type": "stream",
          "name": "stdout",
          "text": [
            "Linear Regression Model Evaluation:\n",
            "Mean Absolute Error (MAE): 125.15246124467015\n",
            "Mean Squared Error (MSE): 27419.9933466138\n",
            "R-squared (R2): 0.16926571255409573\n"
          ]
        }
      ]
    },
    {
      "cell_type": "markdown",
      "source": [
        "#### Interpretation:\n",
        "\n",
        "- **Mean Absolute Error (MAE): 125.15**\n",
        "  - On average, the model’s predictions are off by about 125 bike rentals. This indicates that the model’s predictions are not very close to the actual number of bikes rented.\n",
        "\n",
        "- **Mean Squared Error (MSE): 27,419.99**\n",
        "  - This number is the average of the squared differences between the predicted and actual bike rentals. A higher MSE indicates that there are some predictions with large errors, making the model less reliable.\n",
        "\n",
        "- **R-squared (R2): 0.17**\n",
        "  - The R-squared value tells us how much of the variation in bike rentals can be explained by temperature alone. In this case, only 17% of the variability in bike rentals is explained by temperature, meaning that temperature alone is not a strong predictor of bike rentals.\n",
        "\n",
        "#### Is it a poor model?\n",
        "Yes! The high MAE and MSE, along with the low R-squared value, suggest that using only temperature to predict bike rentals is not very effective. The model is not capturing many other important factors that influence bike rentals, leading to poor prediction accuracy.\n",
        "\n",
        "#### What next? How to improve the model?\n",
        "To improve the model, we should consider using **Multiple Linear Regression**, which includes more variables (like season, humidity, windspeed, day of the week, etc.) to better predict the number of bikes rented. This approach would likely capture more of the factors that influence bike rentals, leading to more accurate predictions.\n",
        "\n",
        "<hr> <hr>"
      ],
      "metadata": {
        "id": "u91ablnBDA9d"
      }
    },
    {
      "cell_type": "markdown",
      "source": [
        "## Section 4: Multiple Linear Regression\n",
        "\n",
        "Multiple linear regression is an extension of simple linear regression. Instead of using just one independent variable (predictor) to predict a dependent variable (outcome), multiple linear regression uses two or more independent variables to predict the outcome.\n",
        "\n",
        "In simple terms, it’s like drawing a line in a multi-dimensional space (instead of a flat, 2D space) to best fit the data points. This allows the model to take into account multiple factors at once. For example, in predicting bike rentals, instead of just looking at temperature, you could also consider humidity, windspeed, and whether it’s a holiday, all at the same time, to make a more accurate prediction.\n",
        "\n",
        "<center><img src=\"https://media.licdn.com/dms/image/D4D12AQFIJ_41MpAq2w/article-cover_image-shrink_720_1280/0/1692450132499?e=2147483647&v=beta&t=UWu2peXzF4N2Ki16pSOKDAe4lG1AjoMkylC0-_dePTU\" width=500 height=300/></center>"
      ],
      "metadata": {
        "id": "KWbjgL4bEP75"
      }
    },
    {
      "cell_type": "code",
      "source": [
        "# Check the columns of the data to identify the features\n",
        "data.columns"
      ],
      "metadata": {
        "colab": {
          "base_uri": "https://localhost:8080/"
        },
        "id": "yJnZUqAiGNKG",
        "outputId": "95544f35-26df-46b1-af42-92e2c0b2cd46"
      },
      "execution_count": null,
      "outputs": [
        {
          "output_type": "execute_result",
          "data": {
            "text/plain": [
              "Index(['season', 'holiday', 'workingday', 'weather', 'temp', 'atemp',\n",
              "       'humidity', 'windspeed', 'casual', 'registered', 'count', 'hour',\n",
              "       'day_of_week', 'month', 'year'],\n",
              "      dtype='object')"
            ]
          },
          "metadata": {},
          "execution_count": 42
        }
      ]
    },
    {
      "cell_type": "markdown",
      "source": [
        "*Note: As `casual` and `registered` are different forms of  `count`, we are not including them as features. Also, as `temp` and `atemp` are very highly correlating, using any one of them as the feature.*"
      ],
      "metadata": {
        "id": "uZueTTLXH2N4"
      }
    },
    {
      "cell_type": "code",
      "source": [
        "# Select features and target variable for regression\n",
        "features = ['season', 'holiday', 'workingday', 'weather', 'temp',\n",
        "       'humidity', 'windspeed', 'hour',\n",
        "       'day_of_week', 'month', 'year']\n",
        "# Split the data into features (X) and target (y)\n",
        "X = data[features]\n",
        "y = data['count']\n",
        "\n",
        "# Check the feature data\n",
        "X.head()"
      ],
      "metadata": {
        "colab": {
          "base_uri": "https://localhost:8080/",
          "height": 206
        },
        "id": "Rs6eErFoHrVc",
        "outputId": "4600df1f-9043-4789-9469-02d73330fbb5"
      },
      "execution_count": null,
      "outputs": [
        {
          "output_type": "execute_result",
          "data": {
            "text/plain": [
              "   season  holiday  workingday  weather  temp  humidity  windspeed  hour  \\\n",
              "0       1        0           0        1  9.84        81        0.0     0   \n",
              "1       1        0           0        1  9.02        80        0.0     1   \n",
              "2       1        0           0        1  9.02        80        0.0     2   \n",
              "3       1        0           0        1  9.84        75        0.0     3   \n",
              "4       1        0           0        1  9.84        75        0.0     4   \n",
              "\n",
              "   day_of_week  month  year  \n",
              "0            5      1  2011  \n",
              "1            5      1  2011  \n",
              "2            5      1  2011  \n",
              "3            5      1  2011  \n",
              "4            5      1  2011  "
            ],
            "text/html": [
              "\n",
              "  <div id=\"df-46ac6db5-1c53-4b40-a577-67789144f9ed\" class=\"colab-df-container\">\n",
              "    <div>\n",
              "<style scoped>\n",
              "    .dataframe tbody tr th:only-of-type {\n",
              "        vertical-align: middle;\n",
              "    }\n",
              "\n",
              "    .dataframe tbody tr th {\n",
              "        vertical-align: top;\n",
              "    }\n",
              "\n",
              "    .dataframe thead th {\n",
              "        text-align: right;\n",
              "    }\n",
              "</style>\n",
              "<table border=\"1\" class=\"dataframe\">\n",
              "  <thead>\n",
              "    <tr style=\"text-align: right;\">\n",
              "      <th></th>\n",
              "      <th>season</th>\n",
              "      <th>holiday</th>\n",
              "      <th>workingday</th>\n",
              "      <th>weather</th>\n",
              "      <th>temp</th>\n",
              "      <th>humidity</th>\n",
              "      <th>windspeed</th>\n",
              "      <th>hour</th>\n",
              "      <th>day_of_week</th>\n",
              "      <th>month</th>\n",
              "      <th>year</th>\n",
              "    </tr>\n",
              "  </thead>\n",
              "  <tbody>\n",
              "    <tr>\n",
              "      <th>0</th>\n",
              "      <td>1</td>\n",
              "      <td>0</td>\n",
              "      <td>0</td>\n",
              "      <td>1</td>\n",
              "      <td>9.84</td>\n",
              "      <td>81</td>\n",
              "      <td>0.0</td>\n",
              "      <td>0</td>\n",
              "      <td>5</td>\n",
              "      <td>1</td>\n",
              "      <td>2011</td>\n",
              "    </tr>\n",
              "    <tr>\n",
              "      <th>1</th>\n",
              "      <td>1</td>\n",
              "      <td>0</td>\n",
              "      <td>0</td>\n",
              "      <td>1</td>\n",
              "      <td>9.02</td>\n",
              "      <td>80</td>\n",
              "      <td>0.0</td>\n",
              "      <td>1</td>\n",
              "      <td>5</td>\n",
              "      <td>1</td>\n",
              "      <td>2011</td>\n",
              "    </tr>\n",
              "    <tr>\n",
              "      <th>2</th>\n",
              "      <td>1</td>\n",
              "      <td>0</td>\n",
              "      <td>0</td>\n",
              "      <td>1</td>\n",
              "      <td>9.02</td>\n",
              "      <td>80</td>\n",
              "      <td>0.0</td>\n",
              "      <td>2</td>\n",
              "      <td>5</td>\n",
              "      <td>1</td>\n",
              "      <td>2011</td>\n",
              "    </tr>\n",
              "    <tr>\n",
              "      <th>3</th>\n",
              "      <td>1</td>\n",
              "      <td>0</td>\n",
              "      <td>0</td>\n",
              "      <td>1</td>\n",
              "      <td>9.84</td>\n",
              "      <td>75</td>\n",
              "      <td>0.0</td>\n",
              "      <td>3</td>\n",
              "      <td>5</td>\n",
              "      <td>1</td>\n",
              "      <td>2011</td>\n",
              "    </tr>\n",
              "    <tr>\n",
              "      <th>4</th>\n",
              "      <td>1</td>\n",
              "      <td>0</td>\n",
              "      <td>0</td>\n",
              "      <td>1</td>\n",
              "      <td>9.84</td>\n",
              "      <td>75</td>\n",
              "      <td>0.0</td>\n",
              "      <td>4</td>\n",
              "      <td>5</td>\n",
              "      <td>1</td>\n",
              "      <td>2011</td>\n",
              "    </tr>\n",
              "  </tbody>\n",
              "</table>\n",
              "</div>\n",
              "    <div class=\"colab-df-buttons\">\n",
              "\n",
              "  <div class=\"colab-df-container\">\n",
              "    <button class=\"colab-df-convert\" onclick=\"convertToInteractive('df-46ac6db5-1c53-4b40-a577-67789144f9ed')\"\n",
              "            title=\"Convert this dataframe to an interactive table.\"\n",
              "            style=\"display:none;\">\n",
              "\n",
              "  <svg xmlns=\"http://www.w3.org/2000/svg\" height=\"24px\" viewBox=\"0 -960 960 960\">\n",
              "    <path d=\"M120-120v-720h720v720H120Zm60-500h600v-160H180v160Zm220 220h160v-160H400v160Zm0 220h160v-160H400v160ZM180-400h160v-160H180v160Zm440 0h160v-160H620v160ZM180-180h160v-160H180v160Zm440 0h160v-160H620v160Z\"/>\n",
              "  </svg>\n",
              "    </button>\n",
              "\n",
              "  <style>\n",
              "    .colab-df-container {\n",
              "      display:flex;\n",
              "      gap: 12px;\n",
              "    }\n",
              "\n",
              "    .colab-df-convert {\n",
              "      background-color: #E8F0FE;\n",
              "      border: none;\n",
              "      border-radius: 50%;\n",
              "      cursor: pointer;\n",
              "      display: none;\n",
              "      fill: #1967D2;\n",
              "      height: 32px;\n",
              "      padding: 0 0 0 0;\n",
              "      width: 32px;\n",
              "    }\n",
              "\n",
              "    .colab-df-convert:hover {\n",
              "      background-color: #E2EBFA;\n",
              "      box-shadow: 0px 1px 2px rgba(60, 64, 67, 0.3), 0px 1px 3px 1px rgba(60, 64, 67, 0.15);\n",
              "      fill: #174EA6;\n",
              "    }\n",
              "\n",
              "    .colab-df-buttons div {\n",
              "      margin-bottom: 4px;\n",
              "    }\n",
              "\n",
              "    [theme=dark] .colab-df-convert {\n",
              "      background-color: #3B4455;\n",
              "      fill: #D2E3FC;\n",
              "    }\n",
              "\n",
              "    [theme=dark] .colab-df-convert:hover {\n",
              "      background-color: #434B5C;\n",
              "      box-shadow: 0px 1px 3px 1px rgba(0, 0, 0, 0.15);\n",
              "      filter: drop-shadow(0px 1px 2px rgba(0, 0, 0, 0.3));\n",
              "      fill: #FFFFFF;\n",
              "    }\n",
              "  </style>\n",
              "\n",
              "    <script>\n",
              "      const buttonEl =\n",
              "        document.querySelector('#df-46ac6db5-1c53-4b40-a577-67789144f9ed button.colab-df-convert');\n",
              "      buttonEl.style.display =\n",
              "        google.colab.kernel.accessAllowed ? 'block' : 'none';\n",
              "\n",
              "      async function convertToInteractive(key) {\n",
              "        const element = document.querySelector('#df-46ac6db5-1c53-4b40-a577-67789144f9ed');\n",
              "        const dataTable =\n",
              "          await google.colab.kernel.invokeFunction('convertToInteractive',\n",
              "                                                    [key], {});\n",
              "        if (!dataTable) return;\n",
              "\n",
              "        const docLinkHtml = 'Like what you see? Visit the ' +\n",
              "          '<a target=\"_blank\" href=https://colab.research.google.com/notebooks/data_table.ipynb>data table notebook</a>'\n",
              "          + ' to learn more about interactive tables.';\n",
              "        element.innerHTML = '';\n",
              "        dataTable['output_type'] = 'display_data';\n",
              "        await google.colab.output.renderOutput(dataTable, element);\n",
              "        const docLink = document.createElement('div');\n",
              "        docLink.innerHTML = docLinkHtml;\n",
              "        element.appendChild(docLink);\n",
              "      }\n",
              "    </script>\n",
              "  </div>\n",
              "\n",
              "\n",
              "<div id=\"df-fe3b5932-bd19-4090-adfe-ed91e7b8a879\">\n",
              "  <button class=\"colab-df-quickchart\" onclick=\"quickchart('df-fe3b5932-bd19-4090-adfe-ed91e7b8a879')\"\n",
              "            title=\"Suggest charts\"\n",
              "            style=\"display:none;\">\n",
              "\n",
              "<svg xmlns=\"http://www.w3.org/2000/svg\" height=\"24px\"viewBox=\"0 0 24 24\"\n",
              "     width=\"24px\">\n",
              "    <g>\n",
              "        <path d=\"M19 3H5c-1.1 0-2 .9-2 2v14c0 1.1.9 2 2 2h14c1.1 0 2-.9 2-2V5c0-1.1-.9-2-2-2zM9 17H7v-7h2v7zm4 0h-2V7h2v10zm4 0h-2v-4h2v4z\"/>\n",
              "    </g>\n",
              "</svg>\n",
              "  </button>\n",
              "\n",
              "<style>\n",
              "  .colab-df-quickchart {\n",
              "      --bg-color: #E8F0FE;\n",
              "      --fill-color: #1967D2;\n",
              "      --hover-bg-color: #E2EBFA;\n",
              "      --hover-fill-color: #174EA6;\n",
              "      --disabled-fill-color: #AAA;\n",
              "      --disabled-bg-color: #DDD;\n",
              "  }\n",
              "\n",
              "  [theme=dark] .colab-df-quickchart {\n",
              "      --bg-color: #3B4455;\n",
              "      --fill-color: #D2E3FC;\n",
              "      --hover-bg-color: #434B5C;\n",
              "      --hover-fill-color: #FFFFFF;\n",
              "      --disabled-bg-color: #3B4455;\n",
              "      --disabled-fill-color: #666;\n",
              "  }\n",
              "\n",
              "  .colab-df-quickchart {\n",
              "    background-color: var(--bg-color);\n",
              "    border: none;\n",
              "    border-radius: 50%;\n",
              "    cursor: pointer;\n",
              "    display: none;\n",
              "    fill: var(--fill-color);\n",
              "    height: 32px;\n",
              "    padding: 0;\n",
              "    width: 32px;\n",
              "  }\n",
              "\n",
              "  .colab-df-quickchart:hover {\n",
              "    background-color: var(--hover-bg-color);\n",
              "    box-shadow: 0 1px 2px rgba(60, 64, 67, 0.3), 0 1px 3px 1px rgba(60, 64, 67, 0.15);\n",
              "    fill: var(--button-hover-fill-color);\n",
              "  }\n",
              "\n",
              "  .colab-df-quickchart-complete:disabled,\n",
              "  .colab-df-quickchart-complete:disabled:hover {\n",
              "    background-color: var(--disabled-bg-color);\n",
              "    fill: var(--disabled-fill-color);\n",
              "    box-shadow: none;\n",
              "  }\n",
              "\n",
              "  .colab-df-spinner {\n",
              "    border: 2px solid var(--fill-color);\n",
              "    border-color: transparent;\n",
              "    border-bottom-color: var(--fill-color);\n",
              "    animation:\n",
              "      spin 1s steps(1) infinite;\n",
              "  }\n",
              "\n",
              "  @keyframes spin {\n",
              "    0% {\n",
              "      border-color: transparent;\n",
              "      border-bottom-color: var(--fill-color);\n",
              "      border-left-color: var(--fill-color);\n",
              "    }\n",
              "    20% {\n",
              "      border-color: transparent;\n",
              "      border-left-color: var(--fill-color);\n",
              "      border-top-color: var(--fill-color);\n",
              "    }\n",
              "    30% {\n",
              "      border-color: transparent;\n",
              "      border-left-color: var(--fill-color);\n",
              "      border-top-color: var(--fill-color);\n",
              "      border-right-color: var(--fill-color);\n",
              "    }\n",
              "    40% {\n",
              "      border-color: transparent;\n",
              "      border-right-color: var(--fill-color);\n",
              "      border-top-color: var(--fill-color);\n",
              "    }\n",
              "    60% {\n",
              "      border-color: transparent;\n",
              "      border-right-color: var(--fill-color);\n",
              "    }\n",
              "    80% {\n",
              "      border-color: transparent;\n",
              "      border-right-color: var(--fill-color);\n",
              "      border-bottom-color: var(--fill-color);\n",
              "    }\n",
              "    90% {\n",
              "      border-color: transparent;\n",
              "      border-bottom-color: var(--fill-color);\n",
              "    }\n",
              "  }\n",
              "</style>\n",
              "\n",
              "  <script>\n",
              "    async function quickchart(key) {\n",
              "      const quickchartButtonEl =\n",
              "        document.querySelector('#' + key + ' button');\n",
              "      quickchartButtonEl.disabled = true;  // To prevent multiple clicks.\n",
              "      quickchartButtonEl.classList.add('colab-df-spinner');\n",
              "      try {\n",
              "        const charts = await google.colab.kernel.invokeFunction(\n",
              "            'suggestCharts', [key], {});\n",
              "      } catch (error) {\n",
              "        console.error('Error during call to suggestCharts:', error);\n",
              "      }\n",
              "      quickchartButtonEl.classList.remove('colab-df-spinner');\n",
              "      quickchartButtonEl.classList.add('colab-df-quickchart-complete');\n",
              "    }\n",
              "    (() => {\n",
              "      let quickchartButtonEl =\n",
              "        document.querySelector('#df-fe3b5932-bd19-4090-adfe-ed91e7b8a879 button');\n",
              "      quickchartButtonEl.style.display =\n",
              "        google.colab.kernel.accessAllowed ? 'block' : 'none';\n",
              "    })();\n",
              "  </script>\n",
              "</div>\n",
              "\n",
              "    </div>\n",
              "  </div>\n"
            ],
            "application/vnd.google.colaboratory.intrinsic+json": {
              "type": "dataframe",
              "variable_name": "X",
              "summary": "{\n  \"name\": \"X\",\n  \"rows\": 10886,\n  \"fields\": [\n    {\n      \"column\": \"season\",\n      \"properties\": {\n        \"dtype\": \"number\",\n        \"std\": 1,\n        \"min\": 1,\n        \"max\": 4,\n        \"num_unique_values\": 4,\n        \"samples\": [\n          2,\n          4,\n          1\n        ],\n        \"semantic_type\": \"\",\n        \"description\": \"\"\n      }\n    },\n    {\n      \"column\": \"holiday\",\n      \"properties\": {\n        \"dtype\": \"number\",\n        \"std\": 0,\n        \"min\": 0,\n        \"max\": 1,\n        \"num_unique_values\": 2,\n        \"samples\": [\n          1,\n          0\n        ],\n        \"semantic_type\": \"\",\n        \"description\": \"\"\n      }\n    },\n    {\n      \"column\": \"workingday\",\n      \"properties\": {\n        \"dtype\": \"number\",\n        \"std\": 0,\n        \"min\": 0,\n        \"max\": 1,\n        \"num_unique_values\": 2,\n        \"samples\": [\n          1,\n          0\n        ],\n        \"semantic_type\": \"\",\n        \"description\": \"\"\n      }\n    },\n    {\n      \"column\": \"weather\",\n      \"properties\": {\n        \"dtype\": \"number\",\n        \"std\": 0,\n        \"min\": 1,\n        \"max\": 4,\n        \"num_unique_values\": 4,\n        \"samples\": [\n          2,\n          4\n        ],\n        \"semantic_type\": \"\",\n        \"description\": \"\"\n      }\n    },\n    {\n      \"column\": \"temp\",\n      \"properties\": {\n        \"dtype\": \"number\",\n        \"std\": 7.791589843987567,\n        \"min\": 0.82,\n        \"max\": 41.0,\n        \"num_unique_values\": 49,\n        \"samples\": [\n          6.56,\n          1.64\n        ],\n        \"semantic_type\": \"\",\n        \"description\": \"\"\n      }\n    },\n    {\n      \"column\": \"humidity\",\n      \"properties\": {\n        \"dtype\": \"number\",\n        \"std\": 19,\n        \"min\": 0,\n        \"max\": 100,\n        \"num_unique_values\": 89,\n        \"samples\": [\n          29,\n          61\n        ],\n        \"semantic_type\": \"\",\n        \"description\": \"\"\n      }\n    },\n    {\n      \"column\": \"windspeed\",\n      \"properties\": {\n        \"dtype\": \"number\",\n        \"std\": 8.164537326838689,\n        \"min\": 0.0,\n        \"max\": 56.9969,\n        \"num_unique_values\": 28,\n        \"samples\": [\n          22.0028,\n          43.0006\n        ],\n        \"semantic_type\": \"\",\n        \"description\": \"\"\n      }\n    },\n    {\n      \"column\": \"hour\",\n      \"properties\": {\n        \"dtype\": \"int32\",\n        \"num_unique_values\": 24,\n        \"samples\": [\n          8,\n          16\n        ],\n        \"semantic_type\": \"\",\n        \"description\": \"\"\n      }\n    },\n    {\n      \"column\": \"day_of_week\",\n      \"properties\": {\n        \"dtype\": \"int32\",\n        \"num_unique_values\": 7,\n        \"samples\": [\n          5,\n          6\n        ],\n        \"semantic_type\": \"\",\n        \"description\": \"\"\n      }\n    },\n    {\n      \"column\": \"month\",\n      \"properties\": {\n        \"dtype\": \"int32\",\n        \"num_unique_values\": 12,\n        \"samples\": [\n          11,\n          10\n        ],\n        \"semantic_type\": \"\",\n        \"description\": \"\"\n      }\n    },\n    {\n      \"column\": \"year\",\n      \"properties\": {\n        \"dtype\": \"int32\",\n        \"num_unique_values\": 2,\n        \"samples\": [\n          2012,\n          2011\n        ],\n        \"semantic_type\": \"\",\n        \"description\": \"\"\n      }\n    }\n  ]\n}"
            }
          },
          "metadata": {},
          "execution_count": 43
        }
      ]
    },
    {
      "cell_type": "code",
      "source": [
        "# Split into training and testing sets\n",
        "X_train, X_test, y_train, y_test = train_test_split(X, y, test_size=0.2, random_state=42)\n",
        "\n",
        "# Display the first few rows of the prepared data\n",
        "print(\"Training features:\\n\", X_train[:5])\n",
        "print(\"Training target:\\n\", y_train[:5])\n",
        "print(\"Testing features:\\n\", X_test[:5])\n",
        "print(\"Testing target:\\n\", y_test[:5])"
      ],
      "metadata": {
        "colab": {
          "base_uri": "https://localhost:8080/"
        },
        "id": "p5KytvPjImQp",
        "outputId": "bfa2bf24-26ab-4d32-c5b8-9758818538cb"
      },
      "execution_count": null,
      "outputs": [
        {
          "output_type": "stream",
          "name": "stdout",
          "text": [
            "Training features:\n",
            "       season  holiday  workingday  weather   temp  humidity  windspeed  hour  \\\n",
            "2815       3        0           1        1  27.88        83     6.0032     5   \n",
            "8695       3        0           0        1  36.90        39    19.9995    16   \n",
            "8406       3        0           1        1  32.80        41    16.9979    15   \n",
            "1543       2        0           0        2  14.76        93     7.0015     4   \n",
            "4952       4        0           0        1  13.12        45    16.9979    10   \n",
            "\n",
            "      day_of_week  month  year  \n",
            "2815            2      7  2011  \n",
            "8695            5      8  2012  \n",
            "8406            2      7  2012  \n",
            "1543            6      4  2011  \n",
            "4952            5     11  2011  \n",
            "Training target:\n",
            " 2815     35.0\n",
            "8695    450.0\n",
            "8406    276.0\n",
            "1543      5.0\n",
            "4952    200.0\n",
            "Name: count, dtype: float64\n",
            "Testing features:\n",
            "       season  holiday  workingday  weather   temp  humidity  windspeed  hour  \\\n",
            "3133       3        0           1        1  33.62        59     0.0000    11   \n",
            "5786       1        1           0        1   4.10        54     6.0032     6   \n",
            "5224       4        0           0        1   9.84        48    12.9980    18   \n",
            "8953       3        0           1        2  29.52        62    12.9980    10   \n",
            "8054       2        0           1        1  25.42        53    16.9979    23   \n",
            "\n",
            "      day_of_week  month  year  \n",
            "3133            1      7  2011  \n",
            "5786            0      1  2012  \n",
            "5224            6     12  2011  \n",
            "8953            2      8  2012  \n",
            "8054            4      6  2012  \n",
            "Testing target:\n",
            " 3133    127.0\n",
            "5786     13.0\n",
            "5224    163.0\n",
            "8953    233.0\n",
            "8054    222.0\n",
            "Name: count, dtype: float64\n"
          ]
        }
      ]
    },
    {
      "cell_type": "code",
      "source": [
        "# Standardize the features\n",
        "from sklearn.preprocessing import StandardScaler\n",
        "scaler = StandardScaler()\n",
        "X_train = scaler.fit_transform(X_train)\n",
        "X_test = scaler.transform(X_test)\n",
        "X_train"
      ],
      "metadata": {
        "colab": {
          "base_uri": "https://localhost:8080/"
        },
        "id": "xbfko2oWIShh",
        "outputId": "fcba7db2-6ef7-4d62-8cfb-067f2f01f259"
      },
      "execution_count": null,
      "outputs": [
        {
          "output_type": "execute_result",
          "data": {
            "text/plain": [
              "array([[ 0.44143863, -0.17333479,  0.68444534, ..., -0.50962778,\n",
              "         0.13822447, -1.00322062],\n",
              "       [ 0.44143863, -0.17333479, -1.46103704, ...,  0.99065576,\n",
              "         0.42938526,  0.99678972],\n",
              "       [ 0.44143863, -0.17333479,  0.68444534, ..., -0.50962778,\n",
              "         0.13822447,  0.99678972],\n",
              "       ...,\n",
              "       [ 1.33811405, -0.17333479, -1.46103704, ...,  1.49075027,\n",
              "         1.59402841, -1.00322062],\n",
              "       [-1.35191223, -0.17333479, -1.46103704, ...,  0.99065576,\n",
              "        -1.31757946, -1.00322062],\n",
              "       [-0.4552368 , -0.17333479,  0.68444534, ..., -0.50962778,\n",
              "        -0.4440971 ,  0.99678972]])"
            ]
          },
          "metadata": {},
          "execution_count": 45
        }
      ]
    },
    {
      "cell_type": "markdown",
      "source": [
        "#### Implementation of Linear Regression Model\n",
        "\n",
        "The following tasks need to be performed for the model implementation:\n",
        "- Imports necessary libraries.\n",
        "- Initializes and fits a linear regression model.\n",
        "- Makes predictions on the test data.\n",
        "- Evaluates the model using various metrics.\n"
      ],
      "metadata": {
        "id": "YZoKB4SOIwTg"
      }
    },
    {
      "cell_type": "code",
      "source": [
        "# Initialize the Linear Regression model\n",
        "lr_model = LinearRegression()\n",
        "\n",
        "# Fit the model to the training data\n",
        "lr_model.fit(X_train, y_train)\n",
        "\n",
        "# Make predictions on the test data\n",
        "y_pred = lr_model.predict(X_test)\n",
        "\n",
        "y_pred"
      ],
      "metadata": {
        "colab": {
          "base_uri": "https://localhost:8080/"
        },
        "id": "ZAC5LIEIIxyS",
        "outputId": "45440e10-9d1d-439c-f235-b826908e13ba"
      },
      "execution_count": null,
      "outputs": [
        {
          "output_type": "execute_result",
          "data": {
            "text/plain": [
              "array([237.31249363,  44.3246386 , 207.2342294 , ..., 306.85911637,\n",
              "        41.46345065, 240.61420634])"
            ]
          },
          "metadata": {},
          "execution_count": 46
        }
      ]
    },
    {
      "cell_type": "code",
      "source": [
        "# Evaluate the model\n",
        "mae = mean_absolute_error(y_test, y_pred)\n",
        "mse = mean_squared_error(y_test, y_pred)\n",
        "r2 = r2_score(y_test, y_pred)\n",
        "\n",
        "# Print the evaluation metrics\n",
        "print(\"Linear Regression Model Evaluation:\")\n",
        "print(f\"Mean Absolute Error (MAE): {mae}\")\n",
        "print(f\"Mean Squared Error (MSE): {mse}\")\n",
        "print(f\"R-squared (R2): {r2}\")"
      ],
      "metadata": {
        "colab": {
          "base_uri": "https://localhost:8080/"
        },
        "id": "7wuBEVOlI3oW",
        "outputId": "64b1ec38-2933-4c07-bd06-24c9527c9b67"
      },
      "execution_count": null,
      "outputs": [
        {
          "output_type": "stream",
          "name": "stdout",
          "text": [
            "Linear Regression Model Evaluation:\n",
            "Mean Absolute Error (MAE): 105.37654921325743\n",
            "Mean Squared Error (MSE): 19972.65682681886\n",
            "R-squared (R2): 0.39489515450674073\n"
          ]
        }
      ]
    },
    {
      "cell_type": "markdown",
      "source": [
        "#### Interpretation:\n",
        "The model performs poor.\n",
        "\n",
        "Let's try to improve the model."
      ],
      "metadata": {
        "id": "2VT7khZhJbI7"
      }
    },
    {
      "cell_type": "code",
      "source": [
        "# One-Hot Encoding for categorical features\n",
        "from sklearn.preprocessing import OneHotEncoder\n",
        "categorical_features = [\"hour\", \"day_of_week\", \"month\", \"year\", \"season\", \"holiday\", \"workingday\", \"weather\"]\n",
        "encoder = OneHotEncoder(sparse_output=False, drop=\"first\")\n",
        "encoder.fit(data[categorical_features])\n",
        "encoded = encoder.transform(data[categorical_features])\n",
        "encoded_df = pd.DataFrame(encoded, columns=encoder.get_feature_names_out(categorical_features))\n",
        "# Reset index before concatenating\n",
        "data = data.drop(categorical_features, axis=1).reset_index(drop=True)\n",
        "encoded_df = encoded_df.reset_index(drop=True)\n",
        "data = pd.concat([data, encoded_df], axis=1)\n",
        "\n",
        "# View te merged data\n",
        "data.head()"
      ],
      "metadata": {
        "colab": {
          "base_uri": "https://localhost:8080/",
          "height": 255
        },
        "id": "jQKEQ8soJkNp",
        "outputId": "fcb4e173-5d0c-4deb-dfb8-e2543853ca16"
      },
      "execution_count": null,
      "outputs": [
        {
          "output_type": "execute_result",
          "data": {
            "text/plain": [
              "   temp   atemp  humidity  windspeed  casual  registered  count  hour_1  \\\n",
              "0  9.84  14.395        81        0.0     3.0        13.0   16.0     0.0   \n",
              "1  9.02  13.635        80        0.0     8.0        32.0   40.0     1.0   \n",
              "2  9.02  13.635        80        0.0     5.0        27.0   32.0     0.0   \n",
              "3  9.84  14.395        75        0.0     3.0        10.0   13.0     0.0   \n",
              "4  9.84  14.395        75        0.0     0.0         1.0    1.0     0.0   \n",
              "\n",
              "   hour_2  hour_3  ...  month_12  year_2012  season_2  season_3  season_4  \\\n",
              "0     0.0     0.0  ...       0.0        0.0       0.0       0.0       0.0   \n",
              "1     0.0     0.0  ...       0.0        0.0       0.0       0.0       0.0   \n",
              "2     1.0     0.0  ...       0.0        0.0       0.0       0.0       0.0   \n",
              "3     0.0     1.0  ...       0.0        0.0       0.0       0.0       0.0   \n",
              "4     0.0     0.0  ...       0.0        0.0       0.0       0.0       0.0   \n",
              "\n",
              "   holiday_1  workingday_1  weather_2  weather_3  weather_4  \n",
              "0        0.0           0.0        0.0        0.0        0.0  \n",
              "1        0.0           0.0        0.0        0.0        0.0  \n",
              "2        0.0           0.0        0.0        0.0        0.0  \n",
              "3        0.0           0.0        0.0        0.0        0.0  \n",
              "4        0.0           0.0        0.0        0.0        0.0  \n",
              "\n",
              "[5 rows x 56 columns]"
            ],
            "text/html": [
              "\n",
              "  <div id=\"df-532fb5f6-3666-4956-bc34-17423591b0dc\" class=\"colab-df-container\">\n",
              "    <div>\n",
              "<style scoped>\n",
              "    .dataframe tbody tr th:only-of-type {\n",
              "        vertical-align: middle;\n",
              "    }\n",
              "\n",
              "    .dataframe tbody tr th {\n",
              "        vertical-align: top;\n",
              "    }\n",
              "\n",
              "    .dataframe thead th {\n",
              "        text-align: right;\n",
              "    }\n",
              "</style>\n",
              "<table border=\"1\" class=\"dataframe\">\n",
              "  <thead>\n",
              "    <tr style=\"text-align: right;\">\n",
              "      <th></th>\n",
              "      <th>temp</th>\n",
              "      <th>atemp</th>\n",
              "      <th>humidity</th>\n",
              "      <th>windspeed</th>\n",
              "      <th>casual</th>\n",
              "      <th>registered</th>\n",
              "      <th>count</th>\n",
              "      <th>hour_1</th>\n",
              "      <th>hour_2</th>\n",
              "      <th>hour_3</th>\n",
              "      <th>...</th>\n",
              "      <th>month_12</th>\n",
              "      <th>year_2012</th>\n",
              "      <th>season_2</th>\n",
              "      <th>season_3</th>\n",
              "      <th>season_4</th>\n",
              "      <th>holiday_1</th>\n",
              "      <th>workingday_1</th>\n",
              "      <th>weather_2</th>\n",
              "      <th>weather_3</th>\n",
              "      <th>weather_4</th>\n",
              "    </tr>\n",
              "  </thead>\n",
              "  <tbody>\n",
              "    <tr>\n",
              "      <th>0</th>\n",
              "      <td>9.84</td>\n",
              "      <td>14.395</td>\n",
              "      <td>81</td>\n",
              "      <td>0.0</td>\n",
              "      <td>3.0</td>\n",
              "      <td>13.0</td>\n",
              "      <td>16.0</td>\n",
              "      <td>0.0</td>\n",
              "      <td>0.0</td>\n",
              "      <td>0.0</td>\n",
              "      <td>...</td>\n",
              "      <td>0.0</td>\n",
              "      <td>0.0</td>\n",
              "      <td>0.0</td>\n",
              "      <td>0.0</td>\n",
              "      <td>0.0</td>\n",
              "      <td>0.0</td>\n",
              "      <td>0.0</td>\n",
              "      <td>0.0</td>\n",
              "      <td>0.0</td>\n",
              "      <td>0.0</td>\n",
              "    </tr>\n",
              "    <tr>\n",
              "      <th>1</th>\n",
              "      <td>9.02</td>\n",
              "      <td>13.635</td>\n",
              "      <td>80</td>\n",
              "      <td>0.0</td>\n",
              "      <td>8.0</td>\n",
              "      <td>32.0</td>\n",
              "      <td>40.0</td>\n",
              "      <td>1.0</td>\n",
              "      <td>0.0</td>\n",
              "      <td>0.0</td>\n",
              "      <td>...</td>\n",
              "      <td>0.0</td>\n",
              "      <td>0.0</td>\n",
              "      <td>0.0</td>\n",
              "      <td>0.0</td>\n",
              "      <td>0.0</td>\n",
              "      <td>0.0</td>\n",
              "      <td>0.0</td>\n",
              "      <td>0.0</td>\n",
              "      <td>0.0</td>\n",
              "      <td>0.0</td>\n",
              "    </tr>\n",
              "    <tr>\n",
              "      <th>2</th>\n",
              "      <td>9.02</td>\n",
              "      <td>13.635</td>\n",
              "      <td>80</td>\n",
              "      <td>0.0</td>\n",
              "      <td>5.0</td>\n",
              "      <td>27.0</td>\n",
              "      <td>32.0</td>\n",
              "      <td>0.0</td>\n",
              "      <td>1.0</td>\n",
              "      <td>0.0</td>\n",
              "      <td>...</td>\n",
              "      <td>0.0</td>\n",
              "      <td>0.0</td>\n",
              "      <td>0.0</td>\n",
              "      <td>0.0</td>\n",
              "      <td>0.0</td>\n",
              "      <td>0.0</td>\n",
              "      <td>0.0</td>\n",
              "      <td>0.0</td>\n",
              "      <td>0.0</td>\n",
              "      <td>0.0</td>\n",
              "    </tr>\n",
              "    <tr>\n",
              "      <th>3</th>\n",
              "      <td>9.84</td>\n",
              "      <td>14.395</td>\n",
              "      <td>75</td>\n",
              "      <td>0.0</td>\n",
              "      <td>3.0</td>\n",
              "      <td>10.0</td>\n",
              "      <td>13.0</td>\n",
              "      <td>0.0</td>\n",
              "      <td>0.0</td>\n",
              "      <td>1.0</td>\n",
              "      <td>...</td>\n",
              "      <td>0.0</td>\n",
              "      <td>0.0</td>\n",
              "      <td>0.0</td>\n",
              "      <td>0.0</td>\n",
              "      <td>0.0</td>\n",
              "      <td>0.0</td>\n",
              "      <td>0.0</td>\n",
              "      <td>0.0</td>\n",
              "      <td>0.0</td>\n",
              "      <td>0.0</td>\n",
              "    </tr>\n",
              "    <tr>\n",
              "      <th>4</th>\n",
              "      <td>9.84</td>\n",
              "      <td>14.395</td>\n",
              "      <td>75</td>\n",
              "      <td>0.0</td>\n",
              "      <td>0.0</td>\n",
              "      <td>1.0</td>\n",
              "      <td>1.0</td>\n",
              "      <td>0.0</td>\n",
              "      <td>0.0</td>\n",
              "      <td>0.0</td>\n",
              "      <td>...</td>\n",
              "      <td>0.0</td>\n",
              "      <td>0.0</td>\n",
              "      <td>0.0</td>\n",
              "      <td>0.0</td>\n",
              "      <td>0.0</td>\n",
              "      <td>0.0</td>\n",
              "      <td>0.0</td>\n",
              "      <td>0.0</td>\n",
              "      <td>0.0</td>\n",
              "      <td>0.0</td>\n",
              "    </tr>\n",
              "  </tbody>\n",
              "</table>\n",
              "<p>5 rows × 56 columns</p>\n",
              "</div>\n",
              "    <div class=\"colab-df-buttons\">\n",
              "\n",
              "  <div class=\"colab-df-container\">\n",
              "    <button class=\"colab-df-convert\" onclick=\"convertToInteractive('df-532fb5f6-3666-4956-bc34-17423591b0dc')\"\n",
              "            title=\"Convert this dataframe to an interactive table.\"\n",
              "            style=\"display:none;\">\n",
              "\n",
              "  <svg xmlns=\"http://www.w3.org/2000/svg\" height=\"24px\" viewBox=\"0 -960 960 960\">\n",
              "    <path d=\"M120-120v-720h720v720H120Zm60-500h600v-160H180v160Zm220 220h160v-160H400v160Zm0 220h160v-160H400v160ZM180-400h160v-160H180v160Zm440 0h160v-160H620v160ZM180-180h160v-160H180v160Zm440 0h160v-160H620v160Z\"/>\n",
              "  </svg>\n",
              "    </button>\n",
              "\n",
              "  <style>\n",
              "    .colab-df-container {\n",
              "      display:flex;\n",
              "      gap: 12px;\n",
              "    }\n",
              "\n",
              "    .colab-df-convert {\n",
              "      background-color: #E8F0FE;\n",
              "      border: none;\n",
              "      border-radius: 50%;\n",
              "      cursor: pointer;\n",
              "      display: none;\n",
              "      fill: #1967D2;\n",
              "      height: 32px;\n",
              "      padding: 0 0 0 0;\n",
              "      width: 32px;\n",
              "    }\n",
              "\n",
              "    .colab-df-convert:hover {\n",
              "      background-color: #E2EBFA;\n",
              "      box-shadow: 0px 1px 2px rgba(60, 64, 67, 0.3), 0px 1px 3px 1px rgba(60, 64, 67, 0.15);\n",
              "      fill: #174EA6;\n",
              "    }\n",
              "\n",
              "    .colab-df-buttons div {\n",
              "      margin-bottom: 4px;\n",
              "    }\n",
              "\n",
              "    [theme=dark] .colab-df-convert {\n",
              "      background-color: #3B4455;\n",
              "      fill: #D2E3FC;\n",
              "    }\n",
              "\n",
              "    [theme=dark] .colab-df-convert:hover {\n",
              "      background-color: #434B5C;\n",
              "      box-shadow: 0px 1px 3px 1px rgba(0, 0, 0, 0.15);\n",
              "      filter: drop-shadow(0px 1px 2px rgba(0, 0, 0, 0.3));\n",
              "      fill: #FFFFFF;\n",
              "    }\n",
              "  </style>\n",
              "\n",
              "    <script>\n",
              "      const buttonEl =\n",
              "        document.querySelector('#df-532fb5f6-3666-4956-bc34-17423591b0dc button.colab-df-convert');\n",
              "      buttonEl.style.display =\n",
              "        google.colab.kernel.accessAllowed ? 'block' : 'none';\n",
              "\n",
              "      async function convertToInteractive(key) {\n",
              "        const element = document.querySelector('#df-532fb5f6-3666-4956-bc34-17423591b0dc');\n",
              "        const dataTable =\n",
              "          await google.colab.kernel.invokeFunction('convertToInteractive',\n",
              "                                                    [key], {});\n",
              "        if (!dataTable) return;\n",
              "\n",
              "        const docLinkHtml = 'Like what you see? Visit the ' +\n",
              "          '<a target=\"_blank\" href=https://colab.research.google.com/notebooks/data_table.ipynb>data table notebook</a>'\n",
              "          + ' to learn more about interactive tables.';\n",
              "        element.innerHTML = '';\n",
              "        dataTable['output_type'] = 'display_data';\n",
              "        await google.colab.output.renderOutput(dataTable, element);\n",
              "        const docLink = document.createElement('div');\n",
              "        docLink.innerHTML = docLinkHtml;\n",
              "        element.appendChild(docLink);\n",
              "      }\n",
              "    </script>\n",
              "  </div>\n",
              "\n",
              "\n",
              "<div id=\"df-a2333cdc-b9a5-4b2c-9355-8935d5da2b19\">\n",
              "  <button class=\"colab-df-quickchart\" onclick=\"quickchart('df-a2333cdc-b9a5-4b2c-9355-8935d5da2b19')\"\n",
              "            title=\"Suggest charts\"\n",
              "            style=\"display:none;\">\n",
              "\n",
              "<svg xmlns=\"http://www.w3.org/2000/svg\" height=\"24px\"viewBox=\"0 0 24 24\"\n",
              "     width=\"24px\">\n",
              "    <g>\n",
              "        <path d=\"M19 3H5c-1.1 0-2 .9-2 2v14c0 1.1.9 2 2 2h14c1.1 0 2-.9 2-2V5c0-1.1-.9-2-2-2zM9 17H7v-7h2v7zm4 0h-2V7h2v10zm4 0h-2v-4h2v4z\"/>\n",
              "    </g>\n",
              "</svg>\n",
              "  </button>\n",
              "\n",
              "<style>\n",
              "  .colab-df-quickchart {\n",
              "      --bg-color: #E8F0FE;\n",
              "      --fill-color: #1967D2;\n",
              "      --hover-bg-color: #E2EBFA;\n",
              "      --hover-fill-color: #174EA6;\n",
              "      --disabled-fill-color: #AAA;\n",
              "      --disabled-bg-color: #DDD;\n",
              "  }\n",
              "\n",
              "  [theme=dark] .colab-df-quickchart {\n",
              "      --bg-color: #3B4455;\n",
              "      --fill-color: #D2E3FC;\n",
              "      --hover-bg-color: #434B5C;\n",
              "      --hover-fill-color: #FFFFFF;\n",
              "      --disabled-bg-color: #3B4455;\n",
              "      --disabled-fill-color: #666;\n",
              "  }\n",
              "\n",
              "  .colab-df-quickchart {\n",
              "    background-color: var(--bg-color);\n",
              "    border: none;\n",
              "    border-radius: 50%;\n",
              "    cursor: pointer;\n",
              "    display: none;\n",
              "    fill: var(--fill-color);\n",
              "    height: 32px;\n",
              "    padding: 0;\n",
              "    width: 32px;\n",
              "  }\n",
              "\n",
              "  .colab-df-quickchart:hover {\n",
              "    background-color: var(--hover-bg-color);\n",
              "    box-shadow: 0 1px 2px rgba(60, 64, 67, 0.3), 0 1px 3px 1px rgba(60, 64, 67, 0.15);\n",
              "    fill: var(--button-hover-fill-color);\n",
              "  }\n",
              "\n",
              "  .colab-df-quickchart-complete:disabled,\n",
              "  .colab-df-quickchart-complete:disabled:hover {\n",
              "    background-color: var(--disabled-bg-color);\n",
              "    fill: var(--disabled-fill-color);\n",
              "    box-shadow: none;\n",
              "  }\n",
              "\n",
              "  .colab-df-spinner {\n",
              "    border: 2px solid var(--fill-color);\n",
              "    border-color: transparent;\n",
              "    border-bottom-color: var(--fill-color);\n",
              "    animation:\n",
              "      spin 1s steps(1) infinite;\n",
              "  }\n",
              "\n",
              "  @keyframes spin {\n",
              "    0% {\n",
              "      border-color: transparent;\n",
              "      border-bottom-color: var(--fill-color);\n",
              "      border-left-color: var(--fill-color);\n",
              "    }\n",
              "    20% {\n",
              "      border-color: transparent;\n",
              "      border-left-color: var(--fill-color);\n",
              "      border-top-color: var(--fill-color);\n",
              "    }\n",
              "    30% {\n",
              "      border-color: transparent;\n",
              "      border-left-color: var(--fill-color);\n",
              "      border-top-color: var(--fill-color);\n",
              "      border-right-color: var(--fill-color);\n",
              "    }\n",
              "    40% {\n",
              "      border-color: transparent;\n",
              "      border-right-color: var(--fill-color);\n",
              "      border-top-color: var(--fill-color);\n",
              "    }\n",
              "    60% {\n",
              "      border-color: transparent;\n",
              "      border-right-color: var(--fill-color);\n",
              "    }\n",
              "    80% {\n",
              "      border-color: transparent;\n",
              "      border-right-color: var(--fill-color);\n",
              "      border-bottom-color: var(--fill-color);\n",
              "    }\n",
              "    90% {\n",
              "      border-color: transparent;\n",
              "      border-bottom-color: var(--fill-color);\n",
              "    }\n",
              "  }\n",
              "</style>\n",
              "\n",
              "  <script>\n",
              "    async function quickchart(key) {\n",
              "      const quickchartButtonEl =\n",
              "        document.querySelector('#' + key + ' button');\n",
              "      quickchartButtonEl.disabled = true;  // To prevent multiple clicks.\n",
              "      quickchartButtonEl.classList.add('colab-df-spinner');\n",
              "      try {\n",
              "        const charts = await google.colab.kernel.invokeFunction(\n",
              "            'suggestCharts', [key], {});\n",
              "      } catch (error) {\n",
              "        console.error('Error during call to suggestCharts:', error);\n",
              "      }\n",
              "      quickchartButtonEl.classList.remove('colab-df-spinner');\n",
              "      quickchartButtonEl.classList.add('colab-df-quickchart-complete');\n",
              "    }\n",
              "    (() => {\n",
              "      let quickchartButtonEl =\n",
              "        document.querySelector('#df-a2333cdc-b9a5-4b2c-9355-8935d5da2b19 button');\n",
              "      quickchartButtonEl.style.display =\n",
              "        google.colab.kernel.accessAllowed ? 'block' : 'none';\n",
              "    })();\n",
              "  </script>\n",
              "</div>\n",
              "\n",
              "    </div>\n",
              "  </div>\n"
            ],
            "application/vnd.google.colaboratory.intrinsic+json": {
              "type": "dataframe",
              "variable_name": "data"
            }
          },
          "metadata": {},
          "execution_count": 48
        }
      ]
    },
    {
      "cell_type": "code",
      "source": [
        "# Check the columns\n",
        "data.columns"
      ],
      "metadata": {
        "colab": {
          "base_uri": "https://localhost:8080/"
        },
        "id": "3JCYio-DK1cg",
        "outputId": "2a409ce5-2cf8-4a39-b292-7f8b86b9c106"
      },
      "execution_count": null,
      "outputs": [
        {
          "output_type": "execute_result",
          "data": {
            "text/plain": [
              "Index(['temp', 'atemp', 'humidity', 'windspeed', 'casual', 'registered',\n",
              "       'count', 'hour_1', 'hour_2', 'hour_3', 'hour_4', 'hour_5', 'hour_6',\n",
              "       'hour_7', 'hour_8', 'hour_9', 'hour_10', 'hour_11', 'hour_12',\n",
              "       'hour_13', 'hour_14', 'hour_15', 'hour_16', 'hour_17', 'hour_18',\n",
              "       'hour_19', 'hour_20', 'hour_21', 'hour_22', 'hour_23', 'day_of_week_1',\n",
              "       'day_of_week_2', 'day_of_week_3', 'day_of_week_4', 'day_of_week_5',\n",
              "       'day_of_week_6', 'month_2', 'month_3', 'month_4', 'month_5', 'month_6',\n",
              "       'month_7', 'month_8', 'month_9', 'month_10', 'month_11', 'month_12',\n",
              "       'year_2012', 'season_2', 'season_3', 'season_4', 'holiday_1',\n",
              "       'workingday_1', 'weather_2', 'weather_3', 'weather_4'],\n",
              "      dtype='object')"
            ]
          },
          "metadata": {},
          "execution_count": 49
        }
      ]
    },
    {
      "cell_type": "code",
      "source": [
        "features = ['temp', 'humidity', 'windspeed',  'hour_1', 'hour_2', 'hour_3', 'hour_4', 'hour_5', 'hour_6',\n",
        "       'hour_7', 'hour_8', 'hour_9', 'hour_10', 'hour_11', 'hour_12',\n",
        "       'hour_13', 'hour_14', 'hour_15', 'hour_16', 'hour_17', 'hour_18',\n",
        "       'hour_19', 'hour_20', 'hour_21', 'hour_22', 'hour_23', 'day_of_week_1',\n",
        "       'day_of_week_2', 'day_of_week_3', 'day_of_week_4', 'day_of_week_5',\n",
        "       'day_of_week_6', 'month_2', 'month_3', 'month_4', 'month_5', 'month_6',\n",
        "       'month_7', 'month_8', 'month_9', 'month_10', 'month_11', 'month_12',\n",
        "       'year_2012', 'season_2', 'season_3', 'season_4', 'holiday_1',\n",
        "       'workingday_1', 'weather_2', 'weather_3', 'weather_4']\n",
        "# Split the data into features (X) and target (y)\n",
        "X = data[features]\n",
        "y = data['count']"
      ],
      "metadata": {
        "id": "jEB6kxkVLNsc"
      },
      "execution_count": null,
      "outputs": []
    },
    {
      "cell_type": "code",
      "source": [
        "# Split into training and testing sets\n",
        "X_train, X_test, y_train, y_test = train_test_split(X, y, test_size=0.2, random_state=42)\n",
        "\n",
        "# Scaling the data\n",
        "X_train = scaler.fit_transform(X_train)\n",
        "X_test = scaler.transform(X_test)\n",
        "\n",
        "# Initialize the Linear Regression model\n",
        "lr_model = LinearRegression()\n",
        "\n",
        "# Fit the model to the training data\n",
        "lr_model.fit(X_train, y_train)\n",
        "\n",
        "# Make predictions on the test data\n",
        "y_pred = lr_model.predict(X_test)\n",
        "\n",
        "# Evaluate the model\n",
        "mae = mean_absolute_error(y_test, y_pred)\n",
        "mse = mean_squared_error(y_test, y_pred)\n",
        "r2 = r2_score(y_test, y_pred)\n",
        "\n",
        "# Print the evaluation metrics\n",
        "print(\"Linear Regression Model Evaluation:\")\n",
        "print(f\"Mean Absolute Error (MAE): {mae}\")\n",
        "print(f\"Mean Squared Error (MSE): {mse}\")\n",
        "print(f\"R-squared (R2): {r2}\")"
      ],
      "metadata": {
        "colab": {
          "base_uri": "https://localhost:8080/"
        },
        "id": "qePp91TnLbNc",
        "outputId": "82b0cb1b-b304-4620-cccd-273db445549f"
      },
      "execution_count": null,
      "outputs": [
        {
          "output_type": "stream",
          "name": "stdout",
          "text": [
            "Linear Regression Model Evaluation:\n",
            "Mean Absolute Error (MAE): 74.12082170426517\n",
            "Mean Squared Error (MSE): 10037.251798504338\n",
            "R-squared (R2): 0.695904768635717\n"
          ]
        }
      ]
    },
    {
      "cell_type": "code",
      "source": [
        "#Visualization of Regression Predictions\n",
        "\n",
        "import matplotlib.pyplot as plt\n",
        "import seaborn as sns\n",
        "\n",
        "# Set style for seaborn\n",
        "sns.set(style=\"whitegrid\")\n",
        "\n",
        "# Create a figure with multiple subplots\n",
        "fig, axes = plt.subplots(1, 3, figsize=(18, 5))\n",
        "\n",
        "# Scatter plot of actual vs predicted fares\n",
        "axes[0].scatter(y_test, y_pred, alpha=0.5, label='Predicted vs Actual')\n",
        "axes[0].plot([y_test.min(), y_test.max()], [y_test.min(), y_test.max()], '--r', linewidth=2, label='Ideal Prediction')\n",
        "axes[0].set_xlabel('Actual count')\n",
        "axes[0].set_ylabel('Predicted count')\n",
        "axes[0].set_title('Actual vs Predicted count of bikes rented')\n",
        "axes[0].legend()\n",
        "\n",
        "# Distribution plot of prediction errors\n",
        "errors = y_test - y_pred\n",
        "sns.histplot(errors, kde=True, ax=axes[1], label='Prediction Error')\n",
        "axes[1].set_xlabel('Prediction Error')\n",
        "axes[1].set_title('Distribution of Prediction Errors')\n",
        "axes[1].legend()\n",
        "\n",
        "# Residual plot\n",
        "sns.residplot(x=y_pred, y=errors, lowess=True, ax=axes[2], label='Residuals')\n",
        "axes[2].set_xlabel('Predicted count')\n",
        "axes[2].set_ylabel('Residuals')\n",
        "axes[2].set_title('Residuals vs Predicted count')\n",
        "axes[2].legend()\n",
        "\n",
        "# Adjust layout\n",
        "plt.tight_layout()\n",
        "plt.show()\n"
      ],
      "metadata": {
        "colab": {
          "base_uri": "https://localhost:8080/",
          "height": 370
        },
        "id": "5fEbFoZ-2CYq",
        "outputId": "1dffdb7b-a2bd-42e5-891c-51faae259769"
      },
      "execution_count": null,
      "outputs": [
        {
          "output_type": "display_data",
          "data": {
            "text/plain": [
              "<Figure size 1800x500 with 3 Axes>"
            ],
            "image/png": "[encoded data removed]"
          },
          "metadata": {}
        }
      ]
    },
    {
      "cell_type": "markdown",
      "source": [
        "#### Interpretation:\n",
        "#### Graph 1: Actual vs Predicted Count of Bikes Rented\n",
        "- The predicted values generally follow the trend of the actual values, indicating that the model captures the overall relationship.\n",
        "- There is significant scatter around the red dashed line (ideal prediction), especially at higher counts, suggesting that the model's accuracy decreases as the count increases.\n",
        "- The clustering of points at lower actual and predicted counts shows that the model is more consistent with lower bike rentals.\n",
        "\n",
        "#### Graph 2: Distribution of Prediction Errors\n",
        "- The error distribution is right-skewed, with a long tail on the positive side, indicating that the model tends to underpredict bike counts more frequently.\n",
        "- Most errors are centered around zero, showing that the model's predictions are generally close to the actual values for many instances.\n",
        "- The presence of a long tail suggests that there are instances where the model's predictions are significantly lower than the actual counts.\n",
        "\n",
        "#### Graph 3: Residuals vs Predicted Count\n",
        "- The residuals (errors) are not evenly distributed around the horizontal axis, indicating potential non-linearity or other patterns not captured by the model.\n",
        "- There is a noticeable funnel shape in the residuals, where errors increase with higher predicted counts, suggesting heteroscedasticity (unequal variance).\n",
        "- The upward trend in residuals at higher predicted counts suggests that the model might be systematically underestimating higher bike rental counts.\n",
        "\n",
        "<hr><hr>"
      ],
      "metadata": {
        "id": "aYenrqNzMu5p"
      }
    },
    {
      "cell_type": "markdown",
      "source": [
        "## Section 5: Learn this another method too!\n",
        "\n",
        "`sm.OLS` (Ordinary Least Squares) is a function in the `statsmodels` library used for performing linear regression analysis. It is a more comprehensive and statistically detailed alternative to the `LinearRegression` class in scikit-learn.\n",
        "\n",
        "### Key Features of `sm.OLS`:\n",
        "- `sm.OLS` provides detailed regression outputs, including coefficients, p-values, confidence intervals, R-squared values, and more.\n",
        "\n",
        "### Usage:\n",
        "`sm.OLS` is typically used in situations where you need more than just fitting a linear model—such as when you require in-depth statistical analysis and interpretation of your regression results."
      ],
      "metadata": {
        "id": "gWfY5HtmApMb"
      }
    },
    {
      "cell_type": "code",
      "source": [
        "from statsmodels.formula.api import ols\n",
        "import statsmodels.api as sm\n",
        "\n",
        "# Add the intercept term\n",
        "X = sm.add_constant(X)\n",
        "\n",
        "# Splitting the data in 70:30 ratio of train to test data\n",
        "X_train, X_test, y_train, y_test = train_test_split(X, y, test_size = 0.30 , random_state = 1)\n",
        "\n",
        "\n",
        "# Create the model\n",
        "model1 = sm.OLS(y_train, X_train).fit()\n",
        "\n",
        "# Get the model summary\n",
        "model1.summary()"
      ],
      "metadata": {
        "colab": {
          "base_uri": "https://localhost:8080/",
          "height": 1000
        },
        "id": "OT9059SRNFzQ",
        "outputId": "572df4d0-1fc3-4b84-ebca-a4385c4d47d3"
      },
      "execution_count": null,
      "outputs": [
        {
          "output_type": "execute_result",
          "data": {
            "text/plain": [
              "<class 'statsmodels.iolib.summary.Summary'>\n",
              "\"\"\"\n",
              "                            OLS Regression Results                            \n",
              "==============================================================================\n",
              "Dep. Variable:                  count   R-squared:                       0.694\n",
              "Model:                            OLS   Adj. R-squared:                  0.692\n",
              "Method:                 Least Squares   F-statistic:                     357.4\n",
              "Date:                Mon, 09 Sep 2024   Prob (F-statistic):               0.00\n",
              "Time:                        15:33:44   Log-Likelihood:                -45873.\n",
              "No. Observations:                7620   AIC:                         9.184e+04\n",
              "Df Residuals:                    7571   BIC:                         9.218e+04\n",
              "Df Model:                          48                                         \n",
              "Covariance Type:            nonrobust                                         \n",
              "=================================================================================\n",
              "                    coef    std err          t      P>|t|      [0.025      0.975]\n",
              "---------------------------------------------------------------------------------\n",
              "const           -62.5609      7.813     -8.007      0.000     -77.877     -47.245\n",
              "temp              4.8750      0.354     13.776      0.000       4.181       5.569\n",
              "humidity         -0.7761      0.083     -9.368      0.000      -0.938      -0.614\n",
              "windspeed        -0.6833      0.153     -4.480      0.000      -0.982      -0.384\n",
              "hour_1          -16.4429      7.926     -2.075      0.038     -31.980      -0.906\n",
              "hour_2          -27.4501      7.890     -3.479      0.001     -42.916     -11.984\n",
              "hour_3          -40.8028      8.054     -5.066      0.000     -56.591     -25.014\n",
              "hour_4          -37.9582      7.856     -4.832      0.000     -53.358     -22.558\n",
              "hour_5          -21.3135      7.907     -2.696      0.007     -36.813      -5.814\n",
              "hour_6           36.4258      7.969      4.571      0.000      20.804      52.048\n",
              "hour_7          168.1010      7.940     21.172      0.000     152.537     183.666\n",
              "hour_8          319.3685      7.923     40.309      0.000     303.837     334.900\n",
              "hour_9          169.7493      7.996     21.228      0.000     154.074     185.425\n",
              "hour_10         111.3583      7.948     14.011      0.000      95.778     126.939\n",
              "hour_11         134.1790      7.921     16.940      0.000     118.652     149.706\n",
              "hour_12         184.7767      8.171     22.614      0.000     168.760     200.794\n",
              "hour_13         177.0164      8.112     21.822      0.000     161.115     192.918\n",
              "hour_14         154.2416      8.270     18.650      0.000     138.030     170.453\n",
              "hour_15         165.7542      8.193     20.230      0.000     149.693     181.816\n",
              "hour_16         232.1410      8.236     28.187      0.000     215.996     248.285\n",
              "hour_17         387.2098      8.146     47.536      0.000     371.242     403.178\n",
              "hour_18         355.7591      8.120     43.813      0.000     339.842     371.676\n",
              "hour_19         245.4243      8.042     30.518      0.000     229.660     261.189\n",
              "hour_20         163.8441      7.879     20.796      0.000     148.400     179.288\n",
              "hour_21         112.8224      8.061     13.996      0.000      97.021     128.624\n",
              "hour_22          75.1191      7.915      9.491      0.000      59.604      90.634\n",
              "hour_23          36.0123      7.930      4.542      0.000      20.468      51.556\n",
              "day_of_week_1     3.0178      4.438      0.680      0.497      -5.682      11.718\n",
              "day_of_week_2     7.2068      4.419      1.631      0.103      -1.455      15.869\n",
              "day_of_week_3     6.3179      4.436      1.424      0.154      -2.377      15.013\n",
              "day_of_week_4    10.2539      4.389      2.337      0.019       1.651      18.857\n",
              "day_of_week_5    -0.3862      3.483     -0.111      0.912      -7.213       6.441\n",
              "day_of_week_6   -20.2353      3.574     -5.662      0.000     -27.241     -13.230\n",
              "month_2           8.7902      5.774      1.522      0.128      -2.528      20.108\n",
              "month_3          34.8328      6.105      5.706      0.000      22.866      46.800\n",
              "month_4           4.2985      3.449      1.246      0.213      -2.463      11.060\n",
              "month_5          28.2133      3.698      7.630      0.000      20.965      35.462\n",
              "month_6          17.2085      4.347      3.958      0.000       8.687      25.731\n",
              "month_7          -1.8995      4.217     -0.450      0.652     -10.165       6.366\n",
              "month_8           6.6453      3.997      1.663      0.096      -1.190      14.480\n",
              "month_9          39.6698      3.543     11.197      0.000      32.725      46.615\n",
              "month_10         36.0246      4.104      8.777      0.000      27.979      44.070\n",
              "month_11         16.8254      3.449      4.879      0.000      10.065      23.585\n",
              "month_12         11.5446      3.485      3.313      0.001       4.714      18.376\n",
              "year_2012        87.7230      2.340     37.493      0.000      83.136      92.310\n",
              "season_2         49.7203      4.931     10.084      0.000      40.055      59.386\n",
              "season_3         44.4156      6.179      7.188      0.000      32.303      56.528\n",
              "season_4         64.3946      4.012     16.052      0.000      56.531      72.258\n",
              "holiday_1       -27.1090      6.015     -4.507      0.000     -38.900     -15.318\n",
              "workingday_1    -14.8305      3.513     -4.222      0.000     -21.716      -7.945\n",
              "weather_2       -12.9024      2.826     -4.565      0.000     -18.443      -7.362\n",
              "weather_3       -66.7433      4.770    -13.991      0.000     -76.095     -57.392\n",
              "weather_4      -171.2231    100.290     -1.707      0.088    -367.820      25.374\n",
              "==============================================================================\n",
              "Omnibus:                      508.436   Durbin-Watson:                   2.039\n",
              "Prob(Omnibus):                  0.000   Jarque-Bera (JB):             1053.858\n",
              "Skew:                           0.453   Prob(JB):                    1.44e-229\n",
              "Kurtosis:                       4.580   Cond. No.                     5.92e+17\n",
              "==============================================================================\n",
              "\n",
              "Notes:\n",
              "[1] Standard Errors assume that the covariance matrix of the errors is correctly specified.\n",
              "[2] The smallest eigenvalue is 1.03e-28. This might indicate that there are\n",
              "strong multicollinearity problems or that the design matrix is singular.\n",
              "\"\"\""
            ],
            "text/html": [
              "<table class=\"simpletable\">\n",
              "<caption>OLS Regression Results</caption>\n",
              "<tr>\n",
              "  <th>Dep. Variable:</th>          <td>count</td>      <th>  R-squared:         </th> <td>   0.694</td> \n",
              "</tr>\n",
              "<tr>\n",
              "  <th>Model:</th>                   <td>OLS</td>       <th>  Adj. R-squared:    </th> <td>   0.692</td> \n",
              "</tr>\n",
              "<tr>\n",
              "  <th>Method:</th>             <td>Least Squares</td>  <th>  F-statistic:       </th> <td>   357.4</td> \n",
              "</tr>\n",
              "<tr>\n",
              "  <th>Date:</th>             <td>Mon, 09 Sep 2024</td> <th>  Prob (F-statistic):</th>  <td>  0.00</td>  \n",
              "</tr>\n",
              "<tr>\n",
              "  <th>Time:</th>                 <td>15:33:44</td>     <th>  Log-Likelihood:    </th> <td> -45873.</td> \n",
              "</tr>\n",
              "<tr>\n",
              "  <th>No. Observations:</th>      <td>  7620</td>      <th>  AIC:               </th> <td>9.184e+04</td>\n",
              "</tr>\n",
              "<tr>\n",
              "  <th>Df Residuals:</th>          <td>  7571</td>      <th>  BIC:               </th> <td>9.218e+04</td>\n",
              "</tr>\n",
              "<tr>\n",
              "  <th>Df Model:</th>              <td>    48</td>      <th>                     </th>     <td> </td>    \n",
              "</tr>\n",
              "<tr>\n",
              "  <th>Covariance Type:</th>      <td>nonrobust</td>    <th>                     </th>     <td> </td>    \n",
              "</tr>\n",
              "</table>\n",
              "<table class=\"simpletable\">\n",
              "<tr>\n",
              "        <td></td>           <th>coef</th>     <th>std err</th>      <th>t</th>      <th>P>|t|</th>  <th>[0.025</th>    <th>0.975]</th>  \n",
              "</tr>\n",
              "<tr>\n",
              "  <th>const</th>         <td>  -62.5609</td> <td>    7.813</td> <td>   -8.007</td> <td> 0.000</td> <td>  -77.877</td> <td>  -47.245</td>\n",
              "</tr>\n",
              "<tr>\n",
              "  <th>temp</th>          <td>    4.8750</td> <td>    0.354</td> <td>   13.776</td> <td> 0.000</td> <td>    4.181</td> <td>    5.569</td>\n",
              "</tr>\n",
              "<tr>\n",
              "  <th>humidity</th>      <td>   -0.7761</td> <td>    0.083</td> <td>   -9.368</td> <td> 0.000</td> <td>   -0.938</td> <td>   -0.614</td>\n",
              "</tr>\n",
              "<tr>\n",
              "  <th>windspeed</th>     <td>   -0.6833</td> <td>    0.153</td> <td>   -4.480</td> <td> 0.000</td> <td>   -0.982</td> <td>   -0.384</td>\n",
              "</tr>\n",
              "<tr>\n",
              "  <th>hour_1</th>        <td>  -16.4429</td> <td>    7.926</td> <td>   -2.075</td> <td> 0.038</td> <td>  -31.980</td> <td>   -0.906</td>\n",
              "</tr>\n",
              "<tr>\n",
              "  <th>hour_2</th>        <td>  -27.4501</td> <td>    7.890</td> <td>   -3.479</td> <td> 0.001</td> <td>  -42.916</td> <td>  -11.984</td>\n",
              "</tr>\n",
              "<tr>\n",
              "  <th>hour_3</th>        <td>  -40.8028</td> <td>    8.054</td> <td>   -5.066</td> <td> 0.000</td> <td>  -56.591</td> <td>  -25.014</td>\n",
              "</tr>\n",
              "<tr>\n",
              "  <th>hour_4</th>        <td>  -37.9582</td> <td>    7.856</td> <td>   -4.832</td> <td> 0.000</td> <td>  -53.358</td> <td>  -22.558</td>\n",
              "</tr>\n",
              "<tr>\n",
              "  <th>hour_5</th>        <td>  -21.3135</td> <td>    7.907</td> <td>   -2.696</td> <td> 0.007</td> <td>  -36.813</td> <td>   -5.814</td>\n",
              "</tr>\n",
              "<tr>\n",
              "  <th>hour_6</th>        <td>   36.4258</td> <td>    7.969</td> <td>    4.571</td> <td> 0.000</td> <td>   20.804</td> <td>   52.048</td>\n",
              "</tr>\n",
              "<tr>\n",
              "  <th>hour_7</th>        <td>  168.1010</td> <td>    7.940</td> <td>   21.172</td> <td> 0.000</td> <td>  152.537</td> <td>  183.666</td>\n",
              "</tr>\n",
              "<tr>\n",
              "  <th>hour_8</th>        <td>  319.3685</td> <td>    7.923</td> <td>   40.309</td> <td> 0.000</td> <td>  303.837</td> <td>  334.900</td>\n",
              "</tr>\n",
              "<tr>\n",
              "  <th>hour_9</th>        <td>  169.7493</td> <td>    7.996</td> <td>   21.228</td> <td> 0.000</td> <td>  154.074</td> <td>  185.425</td>\n",
              "</tr>\n",
              "<tr>\n",
              "  <th>hour_10</th>       <td>  111.3583</td> <td>    7.948</td> <td>   14.011</td> <td> 0.000</td> <td>   95.778</td> <td>  126.939</td>\n",
              "</tr>\n",
              "<tr>\n",
              "  <th>hour_11</th>       <td>  134.1790</td> <td>    7.921</td> <td>   16.940</td> <td> 0.000</td> <td>  118.652</td> <td>  149.706</td>\n",
              "</tr>\n",
              "<tr>\n",
              "  <th>hour_12</th>       <td>  184.7767</td> <td>    8.171</td> <td>   22.614</td> <td> 0.000</td> <td>  168.760</td> <td>  200.794</td>\n",
              "</tr>\n",
              "<tr>\n",
              "  <th>hour_13</th>       <td>  177.0164</td> <td>    8.112</td> <td>   21.822</td> <td> 0.000</td> <td>  161.115</td> <td>  192.918</td>\n",
              "</tr>\n",
              "<tr>\n",
              "  <th>hour_14</th>       <td>  154.2416</td> <td>    8.270</td> <td>   18.650</td> <td> 0.000</td> <td>  138.030</td> <td>  170.453</td>\n",
              "</tr>\n",
              "<tr>\n",
              "  <th>hour_15</th>       <td>  165.7542</td> <td>    8.193</td> <td>   20.230</td> <td> 0.000</td> <td>  149.693</td> <td>  181.816</td>\n",
              "</tr>\n",
              "<tr>\n",
              "  <th>hour_16</th>       <td>  232.1410</td> <td>    8.236</td> <td>   28.187</td> <td> 0.000</td> <td>  215.996</td> <td>  248.285</td>\n",
              "</tr>\n",
              "<tr>\n",
              "  <th>hour_17</th>       <td>  387.2098</td> <td>    8.146</td> <td>   47.536</td> <td> 0.000</td> <td>  371.242</td> <td>  403.178</td>\n",
              "</tr>\n",
              "<tr>\n",
              "  <th>hour_18</th>       <td>  355.7591</td> <td>    8.120</td> <td>   43.813</td> <td> 0.000</td> <td>  339.842</td> <td>  371.676</td>\n",
              "</tr>\n",
              "<tr>\n",
              "  <th>hour_19</th>       <td>  245.4243</td> <td>    8.042</td> <td>   30.518</td> <td> 0.000</td> <td>  229.660</td> <td>  261.189</td>\n",
              "</tr>\n",
              "<tr>\n",
              "  <th>hour_20</th>       <td>  163.8441</td> <td>    7.879</td> <td>   20.796</td> <td> 0.000</td> <td>  148.400</td> <td>  179.288</td>\n",
              "</tr>\n",
              "<tr>\n",
              "  <th>hour_21</th>       <td>  112.8224</td> <td>    8.061</td> <td>   13.996</td> <td> 0.000</td> <td>   97.021</td> <td>  128.624</td>\n",
              "</tr>\n",
              "<tr>\n",
              "  <th>hour_22</th>       <td>   75.1191</td> <td>    7.915</td> <td>    9.491</td> <td> 0.000</td> <td>   59.604</td> <td>   90.634</td>\n",
              "</tr>\n",
              "<tr>\n",
              "  <th>hour_23</th>       <td>   36.0123</td> <td>    7.930</td> <td>    4.542</td> <td> 0.000</td> <td>   20.468</td> <td>   51.556</td>\n",
              "</tr>\n",
              "<tr>\n",
              "  <th>day_of_week_1</th> <td>    3.0178</td> <td>    4.438</td> <td>    0.680</td> <td> 0.497</td> <td>   -5.682</td> <td>   11.718</td>\n",
              "</tr>\n",
              "<tr>\n",
              "  <th>day_of_week_2</th> <td>    7.2068</td> <td>    4.419</td> <td>    1.631</td> <td> 0.103</td> <td>   -1.455</td> <td>   15.869</td>\n",
              "</tr>\n",
              "<tr>\n",
              "  <th>day_of_week_3</th> <td>    6.3179</td> <td>    4.436</td> <td>    1.424</td> <td> 0.154</td> <td>   -2.377</td> <td>   15.013</td>\n",
              "</tr>\n",
              "<tr>\n",
              "  <th>day_of_week_4</th> <td>   10.2539</td> <td>    4.389</td> <td>    2.337</td> <td> 0.019</td> <td>    1.651</td> <td>   18.857</td>\n",
              "</tr>\n",
              "<tr>\n",
              "  <th>day_of_week_5</th> <td>   -0.3862</td> <td>    3.483</td> <td>   -0.111</td> <td> 0.912</td> <td>   -7.213</td> <td>    6.441</td>\n",
              "</tr>\n",
              "<tr>\n",
              "  <th>day_of_week_6</th> <td>  -20.2353</td> <td>    3.574</td> <td>   -5.662</td> <td> 0.000</td> <td>  -27.241</td> <td>  -13.230</td>\n",
              "</tr>\n",
              "<tr>\n",
              "  <th>month_2</th>       <td>    8.7902</td> <td>    5.774</td> <td>    1.522</td> <td> 0.128</td> <td>   -2.528</td> <td>   20.108</td>\n",
              "</tr>\n",
              "<tr>\n",
              "  <th>month_3</th>       <td>   34.8328</td> <td>    6.105</td> <td>    5.706</td> <td> 0.000</td> <td>   22.866</td> <td>   46.800</td>\n",
              "</tr>\n",
              "<tr>\n",
              "  <th>month_4</th>       <td>    4.2985</td> <td>    3.449</td> <td>    1.246</td> <td> 0.213</td> <td>   -2.463</td> <td>   11.060</td>\n",
              "</tr>\n",
              "<tr>\n",
              "  <th>month_5</th>       <td>   28.2133</td> <td>    3.698</td> <td>    7.630</td> <td> 0.000</td> <td>   20.965</td> <td>   35.462</td>\n",
              "</tr>\n",
              "<tr>\n",
              "  <th>month_6</th>       <td>   17.2085</td> <td>    4.347</td> <td>    3.958</td> <td> 0.000</td> <td>    8.687</td> <td>   25.731</td>\n",
              "</tr>\n",
              "<tr>\n",
              "  <th>month_7</th>       <td>   -1.8995</td> <td>    4.217</td> <td>   -0.450</td> <td> 0.652</td> <td>  -10.165</td> <td>    6.366</td>\n",
              "</tr>\n",
              "<tr>\n",
              "  <th>month_8</th>       <td>    6.6453</td> <td>    3.997</td> <td>    1.663</td> <td> 0.096</td> <td>   -1.190</td> <td>   14.480</td>\n",
              "</tr>\n",
              "<tr>\n",
              "  <th>month_9</th>       <td>   39.6698</td> <td>    3.543</td> <td>   11.197</td> <td> 0.000</td> <td>   32.725</td> <td>   46.615</td>\n",
              "</tr>\n",
              "<tr>\n",
              "  <th>month_10</th>      <td>   36.0246</td> <td>    4.104</td> <td>    8.777</td> <td> 0.000</td> <td>   27.979</td> <td>   44.070</td>\n",
              "</tr>\n",
              "<tr>\n",
              "  <th>month_11</th>      <td>   16.8254</td> <td>    3.449</td> <td>    4.879</td> <td> 0.000</td> <td>   10.065</td> <td>   23.585</td>\n",
              "</tr>\n",
              "<tr>\n",
              "  <th>month_12</th>      <td>   11.5446</td> <td>    3.485</td> <td>    3.313</td> <td> 0.001</td> <td>    4.714</td> <td>   18.376</td>\n",
              "</tr>\n",
              "<tr>\n",
              "  <th>year_2012</th>     <td>   87.7230</td> <td>    2.340</td> <td>   37.493</td> <td> 0.000</td> <td>   83.136</td> <td>   92.310</td>\n",
              "</tr>\n",
              "<tr>\n",
              "  <th>season_2</th>      <td>   49.7203</td> <td>    4.931</td> <td>   10.084</td> <td> 0.000</td> <td>   40.055</td> <td>   59.386</td>\n",
              "</tr>\n",
              "<tr>\n",
              "  <th>season_3</th>      <td>   44.4156</td> <td>    6.179</td> <td>    7.188</td> <td> 0.000</td> <td>   32.303</td> <td>   56.528</td>\n",
              "</tr>\n",
              "<tr>\n",
              "  <th>season_4</th>      <td>   64.3946</td> <td>    4.012</td> <td>   16.052</td> <td> 0.000</td> <td>   56.531</td> <td>   72.258</td>\n",
              "</tr>\n",
              "<tr>\n",
              "  <th>holiday_1</th>     <td>  -27.1090</td> <td>    6.015</td> <td>   -4.507</td> <td> 0.000</td> <td>  -38.900</td> <td>  -15.318</td>\n",
              "</tr>\n",
              "<tr>\n",
              "  <th>workingday_1</th>  <td>  -14.8305</td> <td>    3.513</td> <td>   -4.222</td> <td> 0.000</td> <td>  -21.716</td> <td>   -7.945</td>\n",
              "</tr>\n",
              "<tr>\n",
              "  <th>weather_2</th>     <td>  -12.9024</td> <td>    2.826</td> <td>   -4.565</td> <td> 0.000</td> <td>  -18.443</td> <td>   -7.362</td>\n",
              "</tr>\n",
              "<tr>\n",
              "  <th>weather_3</th>     <td>  -66.7433</td> <td>    4.770</td> <td>  -13.991</td> <td> 0.000</td> <td>  -76.095</td> <td>  -57.392</td>\n",
              "</tr>\n",
              "<tr>\n",
              "  <th>weather_4</th>     <td> -171.2231</td> <td>  100.290</td> <td>   -1.707</td> <td> 0.088</td> <td> -367.820</td> <td>   25.374</td>\n",
              "</tr>\n",
              "</table>\n",
              "<table class=\"simpletable\">\n",
              "<tr>\n",
              "  <th>Omnibus:</th>       <td>508.436</td> <th>  Durbin-Watson:     </th> <td>   2.039</td> \n",
              "</tr>\n",
              "<tr>\n",
              "  <th>Prob(Omnibus):</th> <td> 0.000</td>  <th>  Jarque-Bera (JB):  </th> <td>1053.858</td> \n",
              "</tr>\n",
              "<tr>\n",
              "  <th>Skew:</th>          <td> 0.453</td>  <th>  Prob(JB):          </th> <td>1.44e-229</td>\n",
              "</tr>\n",
              "<tr>\n",
              "  <th>Kurtosis:</th>      <td> 4.580</td>  <th>  Cond. No.          </th> <td>5.92e+17</td> \n",
              "</tr>\n",
              "</table><br/><br/>Notes:<br/>[1] Standard Errors assume that the covariance matrix of the errors is correctly specified.<br/>[2] The smallest eigenvalue is 1.03e-28. This might indicate that there are<br/>strong multicollinearity problems or that the design matrix is singular."
            ],
            "text/latex": "\\begin{center}\n\\begin{tabular}{lclc}\n\\toprule\n\\textbf{Dep. Variable:}    &      count       & \\textbf{  R-squared:         } &     0.694   \\\\\n\\textbf{Model:}            &       OLS        & \\textbf{  Adj. R-squared:    } &     0.692   \\\\\n\\textbf{Method:}           &  Least Squares   & \\textbf{  F-statistic:       } &     357.4   \\\\\n\\textbf{Date:}             & Mon, 09 Sep 2024 & \\textbf{  Prob (F-statistic):} &     0.00    \\\\\n\\textbf{Time:}             &     15:33:44     & \\textbf{  Log-Likelihood:    } &   -45873.   \\\\\n\\textbf{No. Observations:} &        7620      & \\textbf{  AIC:               } & 9.184e+04   \\\\\n\\textbf{Df Residuals:}     &        7571      & \\textbf{  BIC:               } & 9.218e+04   \\\\\n\\textbf{Df Model:}         &          48      & \\textbf{                     } &             \\\\\n\\textbf{Covariance Type:}  &    nonrobust     & \\textbf{                     } &             \\\\\n\\bottomrule\n\\end{tabular}\n\\begin{tabular}{lcccccc}\n                          & \\textbf{coef} & \\textbf{std err} & \\textbf{t} & \\textbf{P$> |$t$|$} & \\textbf{[0.025} & \\textbf{0.975]}  \\\\\n\\midrule\n\\textbf{const}            &     -62.5609  &        7.813     &    -8.007  &         0.000        &      -77.877    &      -47.245     \\\\\n\\textbf{temp}             &       4.8750  &        0.354     &    13.776  &         0.000        &        4.181    &        5.569     \\\\\n\\textbf{humidity}         &      -0.7761  &        0.083     &    -9.368  &         0.000        &       -0.938    &       -0.614     \\\\\n\\textbf{windspeed}        &      -0.6833  &        0.153     &    -4.480  &         0.000        &       -0.982    &       -0.384     \\\\\n\\textbf{hour\\_1}          &     -16.4429  &        7.926     &    -2.075  &         0.038        &      -31.980    &       -0.906     \\\\\n\\textbf{hour\\_2}          &     -27.4501  &        7.890     &    -3.479  &         0.001        &      -42.916    &      -11.984     \\\\\n\\textbf{hour\\_3}          &     -40.8028  &        8.054     &    -5.066  &         0.000        &      -56.591    &      -25.014     \\\\\n\\textbf{hour\\_4}          &     -37.9582  &        7.856     &    -4.832  &         0.000        &      -53.358    &      -22.558     \\\\\n\\textbf{hour\\_5}          &     -21.3135  &        7.907     &    -2.696  &         0.007        &      -36.813    &       -5.814     \\\\\n\\textbf{hour\\_6}          &      36.4258  &        7.969     &     4.571  &         0.000        &       20.804    &       52.048     \\\\\n\\textbf{hour\\_7}          &     168.1010  &        7.940     &    21.172  &         0.000        &      152.537    &      183.666     \\\\\n\\textbf{hour\\_8}          &     319.3685  &        7.923     &    40.309  &         0.000        &      303.837    &      334.900     \\\\\n\\textbf{hour\\_9}          &     169.7493  &        7.996     &    21.228  &         0.000        &      154.074    &      185.425     \\\\\n\\textbf{hour\\_10}         &     111.3583  &        7.948     &    14.011  &         0.000        &       95.778    &      126.939     \\\\\n\\textbf{hour\\_11}         &     134.1790  &        7.921     &    16.940  &         0.000        &      118.652    &      149.706     \\\\\n\\textbf{hour\\_12}         &     184.7767  &        8.171     &    22.614  &         0.000        &      168.760    &      200.794     \\\\\n\\textbf{hour\\_13}         &     177.0164  &        8.112     &    21.822  &         0.000        &      161.115    &      192.918     \\\\\n\\textbf{hour\\_14}         &     154.2416  &        8.270     &    18.650  &         0.000        &      138.030    &      170.453     \\\\\n\\textbf{hour\\_15}         &     165.7542  &        8.193     &    20.230  &         0.000        &      149.693    &      181.816     \\\\\n\\textbf{hour\\_16}         &     232.1410  &        8.236     &    28.187  &         0.000        &      215.996    &      248.285     \\\\\n\\textbf{hour\\_17}         &     387.2098  &        8.146     &    47.536  &         0.000        &      371.242    &      403.178     \\\\\n\\textbf{hour\\_18}         &     355.7591  &        8.120     &    43.813  &         0.000        &      339.842    &      371.676     \\\\\n\\textbf{hour\\_19}         &     245.4243  &        8.042     &    30.518  &         0.000        &      229.660    &      261.189     \\\\\n\\textbf{hour\\_20}         &     163.8441  &        7.879     &    20.796  &         0.000        &      148.400    &      179.288     \\\\\n\\textbf{hour\\_21}         &     112.8224  &        8.061     &    13.996  &         0.000        &       97.021    &      128.624     \\\\\n\\textbf{hour\\_22}         &      75.1191  &        7.915     &     9.491  &         0.000        &       59.604    &       90.634     \\\\\n\\textbf{hour\\_23}         &      36.0123  &        7.930     &     4.542  &         0.000        &       20.468    &       51.556     \\\\\n\\textbf{day\\_of\\_week\\_1} &       3.0178  &        4.438     &     0.680  &         0.497        &       -5.682    &       11.718     \\\\\n\\textbf{day\\_of\\_week\\_2} &       7.2068  &        4.419     &     1.631  &         0.103        &       -1.455    &       15.869     \\\\\n\\textbf{day\\_of\\_week\\_3} &       6.3179  &        4.436     &     1.424  &         0.154        &       -2.377    &       15.013     \\\\\n\\textbf{day\\_of\\_week\\_4} &      10.2539  &        4.389     &     2.337  &         0.019        &        1.651    &       18.857     \\\\\n\\textbf{day\\_of\\_week\\_5} &      -0.3862  &        3.483     &    -0.111  &         0.912        &       -7.213    &        6.441     \\\\\n\\textbf{day\\_of\\_week\\_6} &     -20.2353  &        3.574     &    -5.662  &         0.000        &      -27.241    &      -13.230     \\\\\n\\textbf{month\\_2}         &       8.7902  &        5.774     &     1.522  &         0.128        &       -2.528    &       20.108     \\\\\n\\textbf{month\\_3}         &      34.8328  &        6.105     &     5.706  &         0.000        &       22.866    &       46.800     \\\\\n\\textbf{month\\_4}         &       4.2985  &        3.449     &     1.246  &         0.213        &       -2.463    &       11.060     \\\\\n\\textbf{month\\_5}         &      28.2133  &        3.698     &     7.630  &         0.000        &       20.965    &       35.462     \\\\\n\\textbf{month\\_6}         &      17.2085  &        4.347     &     3.958  &         0.000        &        8.687    &       25.731     \\\\\n\\textbf{month\\_7}         &      -1.8995  &        4.217     &    -0.450  &         0.652        &      -10.165    &        6.366     \\\\\n\\textbf{month\\_8}         &       6.6453  &        3.997     &     1.663  &         0.096        &       -1.190    &       14.480     \\\\\n\\textbf{month\\_9}         &      39.6698  &        3.543     &    11.197  &         0.000        &       32.725    &       46.615     \\\\\n\\textbf{month\\_10}        &      36.0246  &        4.104     &     8.777  &         0.000        &       27.979    &       44.070     \\\\\n\\textbf{month\\_11}        &      16.8254  &        3.449     &     4.879  &         0.000        &       10.065    &       23.585     \\\\\n\\textbf{month\\_12}        &      11.5446  &        3.485     &     3.313  &         0.001        &        4.714    &       18.376     \\\\\n\\textbf{year\\_2012}       &      87.7230  &        2.340     &    37.493  &         0.000        &       83.136    &       92.310     \\\\\n\\textbf{season\\_2}        &      49.7203  &        4.931     &    10.084  &         0.000        &       40.055    &       59.386     \\\\\n\\textbf{season\\_3}        &      44.4156  &        6.179     &     7.188  &         0.000        &       32.303    &       56.528     \\\\\n\\textbf{season\\_4}        &      64.3946  &        4.012     &    16.052  &         0.000        &       56.531    &       72.258     \\\\\n\\textbf{holiday\\_1}       &     -27.1090  &        6.015     &    -4.507  &         0.000        &      -38.900    &      -15.318     \\\\\n\\textbf{workingday\\_1}    &     -14.8305  &        3.513     &    -4.222  &         0.000        &      -21.716    &       -7.945     \\\\\n\\textbf{weather\\_2}       &     -12.9024  &        2.826     &    -4.565  &         0.000        &      -18.443    &       -7.362     \\\\\n\\textbf{weather\\_3}       &     -66.7433  &        4.770     &   -13.991  &         0.000        &      -76.095    &      -57.392     \\\\\n\\textbf{weather\\_4}       &    -171.2231  &      100.290     &    -1.707  &         0.088        &     -367.820    &       25.374     \\\\\n\\bottomrule\n\\end{tabular}\n\\begin{tabular}{lclc}\n\\textbf{Omnibus:}       & 508.436 & \\textbf{  Durbin-Watson:     } &     2.039  \\\\\n\\textbf{Prob(Omnibus):} &   0.000 & \\textbf{  Jarque-Bera (JB):  } &  1053.858  \\\\\n\\textbf{Skew:}          &   0.453 & \\textbf{  Prob(JB):          } & 1.44e-229  \\\\\n\\textbf{Kurtosis:}      &   4.580 & \\textbf{  Cond. No.          } &  5.92e+17  \\\\\n\\bottomrule\n\\end{tabular}\n%\\caption{OLS Regression Results}\n\\end{center}\n\nNotes: \\newline\n [1] Standard Errors assume that the covariance matrix of the errors is correctly specified. \\newline\n [2] The smallest eigenvalue is 1.03e-28. This might indicate that there are \\newline\n strong multicollinearity problems or that the design matrix is singular."
          },
          "metadata": {},
          "execution_count": 53
        }
      ]
    },
    {
      "cell_type": "markdown",
      "source": [
        "#### Interpretation:\n",
        "- R-squared value indicates that percentage of the variance in bike rentals is explained by the model.\n",
        "- High F-statistic  and p-value (0.00) confirm the model is statistically significant.\n",
        "- Adjusted R-squared suggests some predictors may not contribute much and could be reconsidered. So, let's find out the multicollinearity of the variables using the variance inflation factor(VIF)"
      ],
      "metadata": {
        "id": "7z8hvOGyFaBY"
      }
    },
    {
      "cell_type": "code",
      "source": [
        "# Import the necessary libraries\n",
        "from statsmodels.stats.outliers_influence import variance_inflation_factor\n",
        "from statsmodels.tools.tools import add_constant\n",
        "\n",
        "# Add a constant\n",
        "X = add_constant(X)\n",
        "\n",
        "# Calculate VIF for each feature\n",
        "vif_data = pd.DataFrame()\n",
        "vif_data['Feature'] = X.columns\n",
        "vif_data['VIF'] = [variance_inflation_factor(X.values, i) for i in range(X.shape[1])]\n",
        "\n",
        "print(vif_data)\n"
      ],
      "metadata": {
        "colab": {
          "base_uri": "https://localhost:8080/"
        },
        "id": "aTyCQQ0iO-wX",
        "outputId": "8e3a88b6-be50-436f-b0b6-54a68c4d8b0c"
      },
      "execution_count": null,
      "outputs": [
        {
          "output_type": "stream",
          "name": "stderr",
          "text": [
            "/usr/local/lib/python3.10/dist-packages/statsmodels/regression/linear_model.py:1783: RuntimeWarning: divide by zero encountered in scalar divide\n",
            "  return 1 - self.ssr/self.centered_tss\n",
            "/usr/local/lib/python3.10/dist-packages/statsmodels/stats/outliers_influence.py:197: RuntimeWarning: divide by zero encountered in scalar divide\n",
            "  vif = 1. / (1. - r_squared_i)\n"
          ]
        },
        {
          "output_type": "stream",
          "name": "stdout",
          "text": [
            "          Feature       VIF\n",
            "0           const  0.000000\n",
            "1            temp  5.777621\n",
            "2        humidity  1.964759\n",
            "3       windspeed  1.192358\n",
            "4          hour_1  1.915457\n",
            "5          hour_2  1.905620\n",
            "6          hour_3  1.880381\n",
            "7          hour_4  1.901915\n",
            "8          hour_5  1.923247\n",
            "9          hour_6  1.930734\n",
            "10         hour_7  1.924929\n",
            "11         hour_8  1.919185\n",
            "12         hour_9  1.922597\n",
            "13        hour_10  1.937914\n",
            "14        hour_11  1.965790\n",
            "15        hour_12  2.001821\n",
            "16        hour_13  2.036392\n",
            "17        hour_14  2.063171\n",
            "18        hour_15  2.070861\n",
            "19        hour_16  2.061189\n",
            "20        hour_17  2.037402\n",
            "21        hour_18  2.010951\n",
            "22        hour_19  1.967867\n",
            "23        hour_20  1.945945\n",
            "24        hour_21  1.930259\n",
            "25        hour_22  1.923392\n",
            "26        hour_23  1.920282\n",
            "27  day_of_week_1  1.835520\n",
            "28  day_of_week_2  1.822100\n",
            "29  day_of_week_3  1.847481\n",
            "30  day_of_week_4  1.792292\n",
            "31  day_of_week_5       inf\n",
            "32  day_of_week_6       inf\n",
            "33        month_2  1.907857\n",
            "34        month_3  2.153363\n",
            "35        month_4       inf\n",
            "36        month_5       inf\n",
            "37        month_6       inf\n",
            "38        month_7       inf\n",
            "39        month_8       inf\n",
            "40        month_9       inf\n",
            "41       month_10       inf\n",
            "42       month_11       inf\n",
            "43       month_12       inf\n",
            "44      year_2012  1.037506\n",
            "45       season_2       inf\n",
            "46       season_3       inf\n",
            "47       season_4       inf\n",
            "48      holiday_1       inf\n",
            "49   workingday_1       inf\n",
            "50      weather_2  1.183834\n",
            "51      weather_3  1.274923\n",
            "52      weather_4  1.005056\n"
          ]
        }
      ]
    },
    {
      "cell_type": "markdown",
      "source": [
        "#### Interpretation:\n",
        "- **VIF = 1:** No multicollinearity; the predictor is not correlated with other variables.\n",
        "- **1 < VIF ≤ 5:** Low to moderate multicollinearity; generally acceptable but worth monitoring.\n",
        "- **VIF > 5:** Indicates moderate multicollinearity; may start affecting the reliability of the model's coefficients.\n",
        "- **VIF > 10:** High multicollinearity; problematic and often signals that the variable should be removed or combined with others.\n",
        "\n",
        "There are various varaibles with `inf` VIF. These variables are not contributing significantly to the prediction. So, let's remove them and re-build the model."
      ],
      "metadata": {
        "id": "tw2shAPbGD5Y"
      }
    },
    {
      "cell_type": "code",
      "source": [
        "features = ['temp', 'humidity', 'windspeed',  'hour_1', 'hour_2', 'hour_3', 'hour_4', 'hour_5', 'hour_6',\n",
        "       'hour_7', 'hour_8', 'hour_9', 'hour_10', 'hour_11', 'hour_12',\n",
        "       'hour_13', 'hour_14', 'hour_15', 'hour_16', 'hour_17', 'hour_18',\n",
        "       'hour_19', 'hour_20', 'hour_21', 'hour_22', 'hour_23', 'day_of_week_1',\n",
        "       'day_of_week_2', 'day_of_week_3', 'day_of_week_4',\n",
        "        'month_2', 'month_3',\n",
        "       'year_2012', 'weather_2', 'weather_3', 'weather_4']\n",
        "# Split the data into features (X) and target (y)\n",
        "X = data[features]\n",
        "y = data['count']\n",
        "# Splitting the data in 70:30 ratio of train to test data\n",
        "X_train, X_test, y_train, y_test = train_test_split(X, y, test_size = 0.30 , random_state = 1)\n",
        "\n",
        "# Create the model\n",
        "model1 = sm.OLS(y_train, X_train).fit()\n",
        "\n",
        "# Get the model summary\n",
        "model1.summary()\n",
        "\n"
      ],
      "metadata": {
        "colab": {
          "base_uri": "https://localhost:8080/",
          "height": 1000
        },
        "id": "X7xiXnnWPz3a",
        "outputId": "6bdb931a-3073-4c11-9b19-1c83e8e340b1"
      },
      "execution_count": null,
      "outputs": [
        {
          "output_type": "execute_result",
          "data": {
            "text/plain": [
              "<class 'statsmodels.iolib.summary.Summary'>\n",
              "\"\"\"\n",
              "                                 OLS Regression Results                                \n",
              "=======================================================================================\n",
              "Dep. Variable:                  count   R-squared (uncentered):                   0.846\n",
              "Model:                            OLS   Adj. R-squared (uncentered):              0.845\n",
              "Method:                 Least Squares   F-statistic:                              1154.\n",
              "Date:                Mon, 09 Sep 2024   Prob (F-statistic):                        0.00\n",
              "Time:                        15:33:59   Log-Likelihood:                         -46098.\n",
              "No. Observations:                7620   AIC:                                  9.227e+04\n",
              "Df Residuals:                    7584   BIC:                                  9.252e+04\n",
              "Df Model:                          36                                                  \n",
              "Covariance Type:            nonrobust                                                  \n",
              "=================================================================================\n",
              "                    coef    std err          t      P>|t|      [0.025      0.975]\n",
              "---------------------------------------------------------------------------------\n",
              "temp              5.1233      0.160     31.957      0.000       4.809       5.438\n",
              "humidity         -0.7067      0.064    -11.056      0.000      -0.832      -0.581\n",
              "windspeed        -1.0170      0.146     -6.946      0.000      -1.304      -0.730\n",
              "hour_1          -33.0021      7.334     -4.500      0.000     -47.378     -18.626\n",
              "hour_2          -44.2137      7.266     -6.085      0.000     -58.456     -29.971\n",
              "hour_3          -57.3192      7.514     -7.629      0.000     -72.048     -42.590\n",
              "hour_4          -54.0369      7.296     -7.407      0.000     -68.338     -39.736\n",
              "hour_5          -38.5312      7.350     -5.242      0.000     -52.939     -24.123\n",
              "hour_6           19.1194      7.421      2.576      0.010       4.572      33.667\n",
              "hour_7          152.6891      7.350     20.775      0.000     138.282     167.096\n",
              "hour_8          303.0123      7.347     41.244      0.000     288.610     317.414\n",
              "hour_9          156.2259      7.380     21.170      0.000     141.760     170.692\n",
              "hour_10          95.3006      7.240     13.162      0.000      81.108     109.494\n",
              "hour_11         120.2543      7.122     16.884      0.000     106.293     134.216\n",
              "hour_12         170.5984      7.307     23.348      0.000     156.275     184.922\n",
              "hour_13         163.5166      7.204     22.700      0.000     149.396     177.637\n",
              "hour_14         138.8938      7.294     19.041      0.000     124.595     153.193\n",
              "hour_15         149.5297      7.253     20.617      0.000     135.313     163.747\n",
              "hour_16         218.0354      7.298     29.878      0.000     203.730     232.341\n",
              "hour_17         373.2180      7.247     51.499      0.000     359.012     387.424\n",
              "hour_18         339.9017      7.237     46.970      0.000     325.716     354.087\n",
              "hour_19         228.5805      7.256     31.501      0.000     214.356     242.805\n",
              "hour_20         147.5176      7.142     20.654      0.000     133.516     161.519\n",
              "hour_21          96.6584      7.381     13.096      0.000      82.190     111.127\n",
              "hour_22          60.1186      7.266      8.274      0.000      45.875      74.362\n",
              "hour_23          19.3078      7.256      2.661      0.008       5.084      33.531\n",
              "day_of_week_1    -1.1652      3.603     -0.323      0.746      -8.228       5.897\n",
              "day_of_week_2     2.3923      3.603      0.664      0.507      -4.670       9.455\n",
              "day_of_week_3     2.9870      3.575      0.835      0.403      -4.022       9.996\n",
              "day_of_week_4     6.9547      3.585      1.940      0.052      -0.073      13.983\n",
              "month_2         -51.7359      4.480    -11.548      0.000     -60.518     -42.954\n",
              "month_3         -26.2195      4.365     -6.006      0.000     -34.777     -17.662\n",
              "year_2012        86.1026      2.348     36.671      0.000      81.500      90.705\n",
              "weather_2       -12.0896      2.882     -4.196      0.000     -17.738      -6.441\n",
              "weather_3       -63.0112      4.776    -13.194      0.000     -72.373     -53.649\n",
              "weather_4      -237.1303    103.094     -2.300      0.021    -439.224     -35.037\n",
              "==============================================================================\n",
              "Omnibus:                      544.759   Durbin-Watson:                   2.043\n",
              "Prob(Omnibus):                  0.000   Jarque-Bera (JB):             1199.253\n",
              "Skew:                           0.464   Prob(JB):                    3.85e-261\n",
              "Kurtosis:                       4.708   Cond. No.                     6.02e+03\n",
              "==============================================================================\n",
              "\n",
              "Notes:\n",
              "[1] R² is computed without centering (uncentered) since the model does not contain a constant.\n",
              "[2] Standard Errors assume that the covariance matrix of the errors is correctly specified.\n",
              "[3] The condition number is large, 6.02e+03. This might indicate that there are\n",
              "strong multicollinearity or other numerical problems.\n",
              "\"\"\""
            ],
            "text/html": [
              "<table class=\"simpletable\">\n",
              "<caption>OLS Regression Results</caption>\n",
              "<tr>\n",
              "  <th>Dep. Variable:</th>          <td>count</td>      <th>  R-squared (uncentered):</th>      <td>   0.846</td> \n",
              "</tr>\n",
              "<tr>\n",
              "  <th>Model:</th>                   <td>OLS</td>       <th>  Adj. R-squared (uncentered):</th> <td>   0.845</td> \n",
              "</tr>\n",
              "<tr>\n",
              "  <th>Method:</th>             <td>Least Squares</td>  <th>  F-statistic:       </th>          <td>   1154.</td> \n",
              "</tr>\n",
              "<tr>\n",
              "  <th>Date:</th>             <td>Mon, 09 Sep 2024</td> <th>  Prob (F-statistic):</th>           <td>  0.00</td>  \n",
              "</tr>\n",
              "<tr>\n",
              "  <th>Time:</th>                 <td>15:33:59</td>     <th>  Log-Likelihood:    </th>          <td> -46098.</td> \n",
              "</tr>\n",
              "<tr>\n",
              "  <th>No. Observations:</th>      <td>  7620</td>      <th>  AIC:               </th>          <td>9.227e+04</td>\n",
              "</tr>\n",
              "<tr>\n",
              "  <th>Df Residuals:</th>          <td>  7584</td>      <th>  BIC:               </th>          <td>9.252e+04</td>\n",
              "</tr>\n",
              "<tr>\n",
              "  <th>Df Model:</th>              <td>    36</td>      <th>                     </th>              <td> </td>    \n",
              "</tr>\n",
              "<tr>\n",
              "  <th>Covariance Type:</th>      <td>nonrobust</td>    <th>                     </th>              <td> </td>    \n",
              "</tr>\n",
              "</table>\n",
              "<table class=\"simpletable\">\n",
              "<tr>\n",
              "        <td></td>           <th>coef</th>     <th>std err</th>      <th>t</th>      <th>P>|t|</th>  <th>[0.025</th>    <th>0.975]</th>  \n",
              "</tr>\n",
              "<tr>\n",
              "  <th>temp</th>          <td>    5.1233</td> <td>    0.160</td> <td>   31.957</td> <td> 0.000</td> <td>    4.809</td> <td>    5.438</td>\n",
              "</tr>\n",
              "<tr>\n",
              "  <th>humidity</th>      <td>   -0.7067</td> <td>    0.064</td> <td>  -11.056</td> <td> 0.000</td> <td>   -0.832</td> <td>   -0.581</td>\n",
              "</tr>\n",
              "<tr>\n",
              "  <th>windspeed</th>     <td>   -1.0170</td> <td>    0.146</td> <td>   -6.946</td> <td> 0.000</td> <td>   -1.304</td> <td>   -0.730</td>\n",
              "</tr>\n",
              "<tr>\n",
              "  <th>hour_1</th>        <td>  -33.0021</td> <td>    7.334</td> <td>   -4.500</td> <td> 0.000</td> <td>  -47.378</td> <td>  -18.626</td>\n",
              "</tr>\n",
              "<tr>\n",
              "  <th>hour_2</th>        <td>  -44.2137</td> <td>    7.266</td> <td>   -6.085</td> <td> 0.000</td> <td>  -58.456</td> <td>  -29.971</td>\n",
              "</tr>\n",
              "<tr>\n",
              "  <th>hour_3</th>        <td>  -57.3192</td> <td>    7.514</td> <td>   -7.629</td> <td> 0.000</td> <td>  -72.048</td> <td>  -42.590</td>\n",
              "</tr>\n",
              "<tr>\n",
              "  <th>hour_4</th>        <td>  -54.0369</td> <td>    7.296</td> <td>   -7.407</td> <td> 0.000</td> <td>  -68.338</td> <td>  -39.736</td>\n",
              "</tr>\n",
              "<tr>\n",
              "  <th>hour_5</th>        <td>  -38.5312</td> <td>    7.350</td> <td>   -5.242</td> <td> 0.000</td> <td>  -52.939</td> <td>  -24.123</td>\n",
              "</tr>\n",
              "<tr>\n",
              "  <th>hour_6</th>        <td>   19.1194</td> <td>    7.421</td> <td>    2.576</td> <td> 0.010</td> <td>    4.572</td> <td>   33.667</td>\n",
              "</tr>\n",
              "<tr>\n",
              "  <th>hour_7</th>        <td>  152.6891</td> <td>    7.350</td> <td>   20.775</td> <td> 0.000</td> <td>  138.282</td> <td>  167.096</td>\n",
              "</tr>\n",
              "<tr>\n",
              "  <th>hour_8</th>        <td>  303.0123</td> <td>    7.347</td> <td>   41.244</td> <td> 0.000</td> <td>  288.610</td> <td>  317.414</td>\n",
              "</tr>\n",
              "<tr>\n",
              "  <th>hour_9</th>        <td>  156.2259</td> <td>    7.380</td> <td>   21.170</td> <td> 0.000</td> <td>  141.760</td> <td>  170.692</td>\n",
              "</tr>\n",
              "<tr>\n",
              "  <th>hour_10</th>       <td>   95.3006</td> <td>    7.240</td> <td>   13.162</td> <td> 0.000</td> <td>   81.108</td> <td>  109.494</td>\n",
              "</tr>\n",
              "<tr>\n",
              "  <th>hour_11</th>       <td>  120.2543</td> <td>    7.122</td> <td>   16.884</td> <td> 0.000</td> <td>  106.293</td> <td>  134.216</td>\n",
              "</tr>\n",
              "<tr>\n",
              "  <th>hour_12</th>       <td>  170.5984</td> <td>    7.307</td> <td>   23.348</td> <td> 0.000</td> <td>  156.275</td> <td>  184.922</td>\n",
              "</tr>\n",
              "<tr>\n",
              "  <th>hour_13</th>       <td>  163.5166</td> <td>    7.204</td> <td>   22.700</td> <td> 0.000</td> <td>  149.396</td> <td>  177.637</td>\n",
              "</tr>\n",
              "<tr>\n",
              "  <th>hour_14</th>       <td>  138.8938</td> <td>    7.294</td> <td>   19.041</td> <td> 0.000</td> <td>  124.595</td> <td>  153.193</td>\n",
              "</tr>\n",
              "<tr>\n",
              "  <th>hour_15</th>       <td>  149.5297</td> <td>    7.253</td> <td>   20.617</td> <td> 0.000</td> <td>  135.313</td> <td>  163.747</td>\n",
              "</tr>\n",
              "<tr>\n",
              "  <th>hour_16</th>       <td>  218.0354</td> <td>    7.298</td> <td>   29.878</td> <td> 0.000</td> <td>  203.730</td> <td>  232.341</td>\n",
              "</tr>\n",
              "<tr>\n",
              "  <th>hour_17</th>       <td>  373.2180</td> <td>    7.247</td> <td>   51.499</td> <td> 0.000</td> <td>  359.012</td> <td>  387.424</td>\n",
              "</tr>\n",
              "<tr>\n",
              "  <th>hour_18</th>       <td>  339.9017</td> <td>    7.237</td> <td>   46.970</td> <td> 0.000</td> <td>  325.716</td> <td>  354.087</td>\n",
              "</tr>\n",
              "<tr>\n",
              "  <th>hour_19</th>       <td>  228.5805</td> <td>    7.256</td> <td>   31.501</td> <td> 0.000</td> <td>  214.356</td> <td>  242.805</td>\n",
              "</tr>\n",
              "<tr>\n",
              "  <th>hour_20</th>       <td>  147.5176</td> <td>    7.142</td> <td>   20.654</td> <td> 0.000</td> <td>  133.516</td> <td>  161.519</td>\n",
              "</tr>\n",
              "<tr>\n",
              "  <th>hour_21</th>       <td>   96.6584</td> <td>    7.381</td> <td>   13.096</td> <td> 0.000</td> <td>   82.190</td> <td>  111.127</td>\n",
              "</tr>\n",
              "<tr>\n",
              "  <th>hour_22</th>       <td>   60.1186</td> <td>    7.266</td> <td>    8.274</td> <td> 0.000</td> <td>   45.875</td> <td>   74.362</td>\n",
              "</tr>\n",
              "<tr>\n",
              "  <th>hour_23</th>       <td>   19.3078</td> <td>    7.256</td> <td>    2.661</td> <td> 0.008</td> <td>    5.084</td> <td>   33.531</td>\n",
              "</tr>\n",
              "<tr>\n",
              "  <th>day_of_week_1</th> <td>   -1.1652</td> <td>    3.603</td> <td>   -0.323</td> <td> 0.746</td> <td>   -8.228</td> <td>    5.897</td>\n",
              "</tr>\n",
              "<tr>\n",
              "  <th>day_of_week_2</th> <td>    2.3923</td> <td>    3.603</td> <td>    0.664</td> <td> 0.507</td> <td>   -4.670</td> <td>    9.455</td>\n",
              "</tr>\n",
              "<tr>\n",
              "  <th>day_of_week_3</th> <td>    2.9870</td> <td>    3.575</td> <td>    0.835</td> <td> 0.403</td> <td>   -4.022</td> <td>    9.996</td>\n",
              "</tr>\n",
              "<tr>\n",
              "  <th>day_of_week_4</th> <td>    6.9547</td> <td>    3.585</td> <td>    1.940</td> <td> 0.052</td> <td>   -0.073</td> <td>   13.983</td>\n",
              "</tr>\n",
              "<tr>\n",
              "  <th>month_2</th>       <td>  -51.7359</td> <td>    4.480</td> <td>  -11.548</td> <td> 0.000</td> <td>  -60.518</td> <td>  -42.954</td>\n",
              "</tr>\n",
              "<tr>\n",
              "  <th>month_3</th>       <td>  -26.2195</td> <td>    4.365</td> <td>   -6.006</td> <td> 0.000</td> <td>  -34.777</td> <td>  -17.662</td>\n",
              "</tr>\n",
              "<tr>\n",
              "  <th>year_2012</th>     <td>   86.1026</td> <td>    2.348</td> <td>   36.671</td> <td> 0.000</td> <td>   81.500</td> <td>   90.705</td>\n",
              "</tr>\n",
              "<tr>\n",
              "  <th>weather_2</th>     <td>  -12.0896</td> <td>    2.882</td> <td>   -4.196</td> <td> 0.000</td> <td>  -17.738</td> <td>   -6.441</td>\n",
              "</tr>\n",
              "<tr>\n",
              "  <th>weather_3</th>     <td>  -63.0112</td> <td>    4.776</td> <td>  -13.194</td> <td> 0.000</td> <td>  -72.373</td> <td>  -53.649</td>\n",
              "</tr>\n",
              "<tr>\n",
              "  <th>weather_4</th>     <td> -237.1303</td> <td>  103.094</td> <td>   -2.300</td> <td> 0.021</td> <td> -439.224</td> <td>  -35.037</td>\n",
              "</tr>\n",
              "</table>\n",
              "<table class=\"simpletable\">\n",
              "<tr>\n",
              "  <th>Omnibus:</th>       <td>544.759</td> <th>  Durbin-Watson:     </th> <td>   2.043</td> \n",
              "</tr>\n",
              "<tr>\n",
              "  <th>Prob(Omnibus):</th> <td> 0.000</td>  <th>  Jarque-Bera (JB):  </th> <td>1199.253</td> \n",
              "</tr>\n",
              "<tr>\n",
              "  <th>Skew:</th>          <td> 0.464</td>  <th>  Prob(JB):          </th> <td>3.85e-261</td>\n",
              "</tr>\n",
              "<tr>\n",
              "  <th>Kurtosis:</th>      <td> 4.708</td>  <th>  Cond. No.          </th> <td>6.02e+03</td> \n",
              "</tr>\n",
              "</table><br/><br/>Notes:<br/>[1] R² is computed without centering (uncentered) since the model does not contain a constant.<br/>[2] Standard Errors assume that the covariance matrix of the errors is correctly specified.<br/>[3] The condition number is large, 6.02e+03. This might indicate that there are<br/>strong multicollinearity or other numerical problems."
            ],
            "text/latex": "\\begin{center}\n\\begin{tabular}{lclc}\n\\toprule\n\\textbf{Dep. Variable:}    &      count       & \\textbf{  R-squared (uncentered):}      &     0.846   \\\\\n\\textbf{Model:}            &       OLS        & \\textbf{  Adj. R-squared (uncentered):} &     0.845   \\\\\n\\textbf{Method:}           &  Least Squares   & \\textbf{  F-statistic:       }          &     1154.   \\\\\n\\textbf{Date:}             & Mon, 09 Sep 2024 & \\textbf{  Prob (F-statistic):}          &     0.00    \\\\\n\\textbf{Time:}             &     15:33:59     & \\textbf{  Log-Likelihood:    }          &   -46098.   \\\\\n\\textbf{No. Observations:} &        7620      & \\textbf{  AIC:               }          & 9.227e+04   \\\\\n\\textbf{Df Residuals:}     &        7584      & \\textbf{  BIC:               }          & 9.252e+04   \\\\\n\\textbf{Df Model:}         &          36      & \\textbf{                     }          &             \\\\\n\\textbf{Covariance Type:}  &    nonrobust     & \\textbf{                     }          &             \\\\\n\\bottomrule\n\\end{tabular}\n\\begin{tabular}{lcccccc}\n                          & \\textbf{coef} & \\textbf{std err} & \\textbf{t} & \\textbf{P$> |$t$|$} & \\textbf{[0.025} & \\textbf{0.975]}  \\\\\n\\midrule\n\\textbf{temp}             &       5.1233  &        0.160     &    31.957  &         0.000        &        4.809    &        5.438     \\\\\n\\textbf{humidity}         &      -0.7067  &        0.064     &   -11.056  &         0.000        &       -0.832    &       -0.581     \\\\\n\\textbf{windspeed}        &      -1.0170  &        0.146     &    -6.946  &         0.000        &       -1.304    &       -0.730     \\\\\n\\textbf{hour\\_1}          &     -33.0021  &        7.334     &    -4.500  &         0.000        &      -47.378    &      -18.626     \\\\\n\\textbf{hour\\_2}          &     -44.2137  &        7.266     &    -6.085  &         0.000        &      -58.456    &      -29.971     \\\\\n\\textbf{hour\\_3}          &     -57.3192  &        7.514     &    -7.629  &         0.000        &      -72.048    &      -42.590     \\\\\n\\textbf{hour\\_4}          &     -54.0369  &        7.296     &    -7.407  &         0.000        &      -68.338    &      -39.736     \\\\\n\\textbf{hour\\_5}          &     -38.5312  &        7.350     &    -5.242  &         0.000        &      -52.939    &      -24.123     \\\\\n\\textbf{hour\\_6}          &      19.1194  &        7.421     &     2.576  &         0.010        &        4.572    &       33.667     \\\\\n\\textbf{hour\\_7}          &     152.6891  &        7.350     &    20.775  &         0.000        &      138.282    &      167.096     \\\\\n\\textbf{hour\\_8}          &     303.0123  &        7.347     &    41.244  &         0.000        &      288.610    &      317.414     \\\\\n\\textbf{hour\\_9}          &     156.2259  &        7.380     &    21.170  &         0.000        &      141.760    &      170.692     \\\\\n\\textbf{hour\\_10}         &      95.3006  &        7.240     &    13.162  &         0.000        &       81.108    &      109.494     \\\\\n\\textbf{hour\\_11}         &     120.2543  &        7.122     &    16.884  &         0.000        &      106.293    &      134.216     \\\\\n\\textbf{hour\\_12}         &     170.5984  &        7.307     &    23.348  &         0.000        &      156.275    &      184.922     \\\\\n\\textbf{hour\\_13}         &     163.5166  &        7.204     &    22.700  &         0.000        &      149.396    &      177.637     \\\\\n\\textbf{hour\\_14}         &     138.8938  &        7.294     &    19.041  &         0.000        &      124.595    &      153.193     \\\\\n\\textbf{hour\\_15}         &     149.5297  &        7.253     &    20.617  &         0.000        &      135.313    &      163.747     \\\\\n\\textbf{hour\\_16}         &     218.0354  &        7.298     &    29.878  &         0.000        &      203.730    &      232.341     \\\\\n\\textbf{hour\\_17}         &     373.2180  &        7.247     &    51.499  &         0.000        &      359.012    &      387.424     \\\\\n\\textbf{hour\\_18}         &     339.9017  &        7.237     &    46.970  &         0.000        &      325.716    &      354.087     \\\\\n\\textbf{hour\\_19}         &     228.5805  &        7.256     &    31.501  &         0.000        &      214.356    &      242.805     \\\\\n\\textbf{hour\\_20}         &     147.5176  &        7.142     &    20.654  &         0.000        &      133.516    &      161.519     \\\\\n\\textbf{hour\\_21}         &      96.6584  &        7.381     &    13.096  &         0.000        &       82.190    &      111.127     \\\\\n\\textbf{hour\\_22}         &      60.1186  &        7.266     &     8.274  &         0.000        &       45.875    &       74.362     \\\\\n\\textbf{hour\\_23}         &      19.3078  &        7.256     &     2.661  &         0.008        &        5.084    &       33.531     \\\\\n\\textbf{day\\_of\\_week\\_1} &      -1.1652  &        3.603     &    -0.323  &         0.746        &       -8.228    &        5.897     \\\\\n\\textbf{day\\_of\\_week\\_2} &       2.3923  &        3.603     &     0.664  &         0.507        &       -4.670    &        9.455     \\\\\n\\textbf{day\\_of\\_week\\_3} &       2.9870  &        3.575     &     0.835  &         0.403        &       -4.022    &        9.996     \\\\\n\\textbf{day\\_of\\_week\\_4} &       6.9547  &        3.585     &     1.940  &         0.052        &       -0.073    &       13.983     \\\\\n\\textbf{month\\_2}         &     -51.7359  &        4.480     &   -11.548  &         0.000        &      -60.518    &      -42.954     \\\\\n\\textbf{month\\_3}         &     -26.2195  &        4.365     &    -6.006  &         0.000        &      -34.777    &      -17.662     \\\\\n\\textbf{year\\_2012}       &      86.1026  &        2.348     &    36.671  &         0.000        &       81.500    &       90.705     \\\\\n\\textbf{weather\\_2}       &     -12.0896  &        2.882     &    -4.196  &         0.000        &      -17.738    &       -6.441     \\\\\n\\textbf{weather\\_3}       &     -63.0112  &        4.776     &   -13.194  &         0.000        &      -72.373    &      -53.649     \\\\\n\\textbf{weather\\_4}       &    -237.1303  &      103.094     &    -2.300  &         0.021        &     -439.224    &      -35.037     \\\\\n\\bottomrule\n\\end{tabular}\n\\begin{tabular}{lclc}\n\\textbf{Omnibus:}       & 544.759 & \\textbf{  Durbin-Watson:     } &     2.043  \\\\\n\\textbf{Prob(Omnibus):} &   0.000 & \\textbf{  Jarque-Bera (JB):  } &  1199.253  \\\\\n\\textbf{Skew:}          &   0.464 & \\textbf{  Prob(JB):          } & 3.85e-261  \\\\\n\\textbf{Kurtosis:}      &   4.708 & \\textbf{  Cond. No.          } &  6.02e+03  \\\\\n\\bottomrule\n\\end{tabular}\n%\\caption{OLS Regression Results}\n\\end{center}\n\nNotes: \\newline\n [1] R² is computed without centering (uncentered) since the model does not contain a constant. \\newline\n [2] Standard Errors assume that the covariance matrix of the errors is correctly specified. \\newline\n [3] The condition number is large, 6.02e+03. This might indicate that there are \\newline\n strong multicollinearity or other numerical problems."
          },
          "metadata": {},
          "execution_count": 55
        }
      ]
    },
    {
      "cell_type": "markdown",
      "source": [
        "#### Interpretation:\n",
        "- **R-squared (0.846) and Adjusted R-squared (0.845):** The model now explains about 84.6% of the variance in bike rentals, indicating a strong fit.\n",
        "- **High F-statistic (1154) and p-value (0.00):** The model is statistically significant, meaning the predictors reliably explain the variability in the count of bike rentals.\n",
        "- **Log-Likelihood (-46098):** A less negative value compared to the previous model, suggesting a slightly better fit.\n",
        "- **AIC (9.227e+04) and BIC (9.252e+04):** These values are slightly improved, indicating a better model balance between complexity and fit after removing variables with high VIF.\n"
      ],
      "metadata": {
        "id": "cbFZWlWWHToi"
      }
    },
    {
      "cell_type": "code",
      "source": [
        "# Make predictions on the test data\n",
        "y_pred = model1.predict(X_test)\n",
        "\n",
        "# Evaluate the model\n",
        "mae = mean_absolute_error(y_test, y_pred)\n",
        "mse = mean_squared_error(y_test, y_pred)\n",
        "r2 = r2_score(y_test, y_pred)\n",
        "\n",
        "# Print the evaluation metrics\n",
        "print(\"Linear Regression Model Evaluation:\")\n",
        "print(f\"Mean Absolute Error (MAE): {mae}\")\n",
        "print(f\"Mean Squared Error (MSE): {mse}\")\n",
        "print(f\"R-squared (R2): {r2}\")"
      ],
      "metadata": {
        "colab": {
          "base_uri": "https://localhost:8080/"
        },
        "id": "gYtv39bIdQ--",
        "outputId": "80184c6b-36b1-4b3b-826e-3289b0f1a479"
      },
      "execution_count": null,
      "outputs": [
        {
          "output_type": "stream",
          "name": "stdout",
          "text": [
            "Linear Regression Model Evaluation:\n",
            "Mean Absolute Error (MAE): 77.0230286557108\n",
            "Mean Squared Error (MSE): 10946.157386552626\n",
            "R-squared (R2): 0.6754658193668837\n"
          ]
        }
      ]
    },
    {
      "cell_type": "markdown",
      "source": [
        "#### Interpretation:\n",
        "Results are similar using both the libraries.\n",
        "<hr>\n",
        "<hr>"
      ],
      "metadata": {
        "id": "0WWwIieBeFVE"
      }
    }
  ]
}